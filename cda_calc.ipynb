{
 "cells": [
  {
   "cell_type": "code",
   "execution_count": 100,
   "metadata": {},
   "outputs": [],
   "source": [
    "import sys\n",
    "import math\n",
    "import numpy as np\n",
    "import pandas\n",
    "import requests\n",
    "import shutil\n",
    "from fitparse import FitFile\n",
    "import mediapipe as mp\n",
    "import cv2\n",
    "import trimesh\n",
    "from trimesh.transformations import rotation_matrix\n",
    "from pygltflib import GLTF2\n",
    "import pyrender\n",
    "import alphashape\n",
    "import matplotlib.pyplot as plt\n",
    "from shapely.geometry import Polygon\n",
    "from scipy.optimize import least_squares"
   ]
  },
  {
   "cell_type": "markdown",
   "metadata": {},
   "source": [
    "TODOS:\n",
    "Load data: - Doneish\n",
    "    Load Fit file as a list of dataframes - DONE\n",
    "    Load metadata - Improve\n",
    "        Replace hardcoded placeholder for mock metadata\n",
    "        Generate a more elaborate metadata structure\n",
    "    Load video - Elaborate\n",
    "        Currently using a video key, maybe improve the way things are done\n",
    "    Load full dataset - Improve\n",
    "        Replace hardcoded strings to match the saving scheme\n",
    "        Figure out the basic saving scheme for user data and metadata\n",
    "        # TODO: get user key from connection request instead\n",
    "        # TODO Later change to session date & time\n",
    "    SessionData - Build up\n",
    "        Improve SessionData to contain utility methods\n",
    "        Rename SessionData as it means something slightly different in IT\n",
    "        \n",
    "Video correction - Doneish\n",
    "    Load video - Improve\n",
    "        Replace hardcoding with a dataset attribute\n",
    "        Maybe save video to dataset as well?\n",
    "        Or add the functions as utility for later caching?\n",
    "    Load camera matrix - Implement\n",
    "        Store the camera matrix properly in the metadata\n",
    "        Currently using good enough mock matrix for correction (works suprisingly well)\n",
    "        Add a fallback to using the default matrix if camera is uncallibrated\n",
    "    Camera matrix - Build up\n",
    "        Add helper methods to save and read from metadata\n",
    "    Correct video - Clean\n",
    "        Code works and did not have any notes, but the method is tad long and would benefit from a second look\n",
    "\n",
    "Getting pose - Doneish\n",
    "    Get pose - Elaborate & clean\n",
    "        The method works okay for a prototype, but it has a few issues\n",
    "        First, since the video is closed after calling it, it fails after executing once without reopening and recorrecting the video.\n",
    "        This indicates that maybe the workflow should be improved in relation to working with video\n",
    "        Also, did not test out visualization yet\n",
    "\n",
    "Converting pose to a 3d points skeleton (To be fair, this should be - convert from third party pose to our 'simpified' model (33 3D point list)) - Implement conversion to 3D\n",
    "    Unit vector extraction - Finish implementation and Test \n",
    "        ExtractCoords - Improve\n",
    "            verify if using a list of pose_landmarks (point list) is the best way of doing this\n",
    "        LoadCameraFrame - Implement\n",
    "        PointsToUnitVectors - Improve\n",
    "            camera frame is unused\n",
    "    Conversion to 3D - Implement\n",
    "\n",
    "Pose to area - Implement FitMesh from ChatGPT (This then is a method for getting area from pose. That said, in some cases pose could be skipped, but then two previous steps are just a tad different and this could be seen as video to 2d area shape (and this could differ based on the calculator used, as some sims may use a 3d surface for CdA) in the end, pose gets the riders\n",
    "configuration, while pose to area combines the riders model with the configuration to generate an avatar (a digital twin) for CdA calculation purposes)\n",
    "    Mesh import - Finish implementation and Test\n",
    "        Create/Find mock rider mesh\n",
    "        Get rider mesh - Test\n",
    "    FitMesh - Implement\n",
    "    Create wind planes - Elaborate\n",
    "    Project to plane - Test & improve\n",
    "\n",
    "Calculate results - Doneish, Waiting for testing\n",
    "    Get area - Test & Improve\n",
    "        Throw exception on multishape\n",
    "    Calculate .. - Test & Improve math\n",
    "        Get accurate coeficients (from metadata?)\n",
    "    Calculate results - Test & Improve\n",
    "        Zip metadata\n",
    "        Create mock metadata for velocity\n",
    "        Check how to best tie together fit data with video data (timestamps?)        "
   ]
  },
  {
   "cell_type": "markdown",
   "metadata": {},
   "source": [
    "# Load data"
   ]
  },
  {
   "cell_type": "code",
   "execution_count": 2,
   "metadata": {},
   "outputs": [],
   "source": [
    "class SessionData:\n",
    "    def __init__(self, video_key, fit_data, metadata):\n",
    "        self.video_key = video_key\n",
    "        self.fit_data = fit_data\n",
    "        self.metadata = metadata\n",
    "        self.name = metadata['name']"
   ]
  },
  {
   "cell_type": "code",
   "execution_count": 3,
   "metadata": {},
   "outputs": [],
   "source": [
    "def load_fit_file(file_name, file_path, backup_data=False):\n",
    "    \"\"\"\n",
    "    Load a FIT file and return the data as a pandas DataFrame.\n",
    "    \"\"\"\n",
    "    fitfile = FitFile(file_path+file_name)\n",
    "\n",
    "    data = {}\n",
    "    unique_msg = set()\n",
    "    for msg in fitfile.get_messages():\n",
    "        unique_msg.add(msg.name)\n",
    "\n",
    "    for table_name in unique_msg:\n",
    "        table_list = []\n",
    "        for table in fitfile.get_messages(table_name):\n",
    "            table_data = {}\n",
    "            for field in table:\n",
    "                table_data[field.name] = field.value\n",
    "            table_list.append(table_data)\n",
    "        data[table_name] = pandas.DataFrame(table_list)\n",
    "\n",
    "    if backup_data:\n",
    "        for table_name, df in data.items():\n",
    "            file_name = f\"{file_name}_{table_name}.csv\"\n",
    "            df.to_csv(file_name, index=False)\n",
    "    return data"
   ]
  },
  {
   "cell_type": "code",
   "execution_count": 4,
   "metadata": {},
   "outputs": [
    {
     "name": "stdout",
     "output_type": "stream",
     "text": [
      "<class 'dict'>\n",
      "<class 'dict_keys'>\n",
      "<class 'dict_values'>\n",
      "<class 'pandas.core.frame.DataFrame'>\n",
      "   altitude  cadence  distance  enhanced_altitude  enhanced_speed  heart_rate  \\\n",
      "0      -1.0       71       6.1               -1.0           0.000         122   \n",
      "1      -1.0       71       9.3               -1.0           0.000         122   \n",
      "2      -1.0       71      12.4               -1.0           3.150         122   \n",
      "3      -3.4       78      19.0               -3.4           4.300         122   \n",
      "4      -3.4       82      25.6               -3.4           4.875         123   \n",
      "\n",
      "   position_lat  position_long  power  speed  temperature           timestamp  \n",
      "0     675960302      282546511  205.0  0.000           11 2025-03-11 14:23:18  \n",
      "1     675960302      282546511  249.0  0.000           11 2025-03-11 14:23:19  \n",
      "2     675960302      282546511  214.0  3.150           11 2025-03-11 14:23:20  \n",
      "3     675959824      282545628  200.0  4.300           11 2025-03-11 14:23:21  \n",
      "4     675959288      282544781   88.0  4.875           11 2025-03-11 14:23:22  \n",
      "      altitude  cadence  distance  enhanced_altitude  enhanced_speed  \\\n",
      "3149      -5.2      100  26324.90               -5.2           10.20   \n",
      "4955      -3.8       90  41146.19               -3.8            7.54   \n",
      "5783      -4.8       92  47417.10               -4.8            7.64   \n",
      "839       -3.2       90   6771.20               -3.2            8.46   \n",
      "5297      -6.0       90  43874.00               -6.0            7.50   \n",
      "\n",
      "      heart_rate  position_lat  position_long  power  speed  temperature  \\\n",
      "3149         166     675237852      282401568  207.0  10.20            1   \n",
      "4955         150     675158932      282100705  109.0   7.54            0   \n",
      "5783         151     675624698      282750164  154.0   7.64            0   \n",
      "839          145     675970240      281336237  193.0   8.46            2   \n",
      "5297         170     675327450      282421492  195.0   7.50            0   \n",
      "\n",
      "               timestamp  \n",
      "3149 2025-03-11 15:19:31  \n",
      "4955 2025-03-11 15:49:37  \n",
      "5783 2025-03-11 16:03:25  \n",
      "839  2025-03-11 14:37:17  \n",
      "5297 2025-03-11 15:55:19  \n"
     ]
    }
   ],
   "source": [
    "fit_data = load_fit_file(\"Freezing_Pain.fit\", \"data/raw/\")\n",
    "\n",
    "print(type(fit_data))\n",
    "print(type(fit_data.keys()))\n",
    "print(type(fit_data.values()))\n",
    "print(type(fit_data['record']))\n",
    "print(fit_data['record'].head(5))\n",
    "print(fit_data['record'].sample(5))"
   ]
  },
  {
   "cell_type": "code",
   "execution_count": null,
   "metadata": {},
   "outputs": [],
   "source": []
  },
  {
   "cell_type": "code",
   "execution_count": 26,
   "metadata": {},
   "outputs": [
    {
     "name": "stdout",
     "output_type": "stream",
     "text": [
      "file_id\n",
      "file_creator\n",
      "user_profile\n",
      "event\n",
      "lap\n",
      "lap\n",
      "lap\n",
      "lap\n",
      "lap\n",
      "lap\n",
      "lap\n",
      "lap\n",
      "lap\n",
      "lap\n",
      "event\n",
      "session\n",
      "activity\n",
      "<class 'fitparse.base.FitFile'>\n",
      "<class 'list'>\n",
      "<class 'fitparse.records.DataMessage'>\n",
      "<class 'list'>\n",
      "<class 'fitparse.records.FieldData'>\n",
      "<class 'generator'>\n",
      "<class 'generator'>\n"
     ]
    },
    {
     "ename": "AttributeError",
     "evalue": "'NoneType' object has no attribute 'tell'",
     "output_type": "error",
     "traceback": [
      "\u001b[31m---------------------------------------------------------------------------\u001b[39m",
      "\u001b[31mAttributeError\u001b[39m                            Traceback (most recent call last)",
      "\u001b[36mCell\u001b[39m\u001b[36m \u001b[39m\u001b[32mIn[26]\u001b[39m\u001b[32m, line 14\u001b[39m\n\u001b[32m     12\u001b[39m \u001b[38;5;28mprint\u001b[39m(\u001b[38;5;28mtype\u001b[39m(fitfile.get_messages(\u001b[33m'\u001b[39m\u001b[33mlap\u001b[39m\u001b[33m'\u001b[39m)))\n\u001b[32m     13\u001b[39m \u001b[38;5;28mprint\u001b[39m(\u001b[38;5;28mtype\u001b[39m(fitfile.get_messages(\u001b[33m'\u001b[39m\u001b[33mrecord\u001b[39m\u001b[33m'\u001b[39m)))\n\u001b[32m---> \u001b[39m\u001b[32m14\u001b[39m \u001b[38;5;28mprint\u001b[39m(\u001b[38;5;28mtype\u001b[39m(\u001b[43mfitfile\u001b[49m\u001b[43m.\u001b[49m\u001b[43mparse\u001b[49m\u001b[43m(\u001b[49m\u001b[43m)\u001b[49m))\n\u001b[32m     15\u001b[39m \u001b[38;5;28mprint\u001b[39m(fitfile.parse())\n\u001b[32m     17\u001b[39m \u001b[38;5;28;01mfor\u001b[39;00m lap \u001b[38;5;129;01min\u001b[39;00m fitfile.get_messages(\u001b[33m'\u001b[39m\u001b[33mlap\u001b[39m\u001b[33m'\u001b[39m):  \u001b[38;5;66;03m# 'record' messages contain the actual data points\u001b[39;00m\n\u001b[32m     18\u001b[39m     \u001b[38;5;66;03m# Each lap has multiple data fields\u001b[39;00m\n",
      "\u001b[36mFile \u001b[39m\u001b[32m~/dev_Airformatic/PoseC/mediapipe_env/lib/python3.12/site-packages/fitparse/base.py:444\u001b[39m, in \u001b[36mFitFile.parse\u001b[39m\u001b[34m(self)\u001b[39m\n\u001b[32m    443\u001b[39m \u001b[38;5;28;01mdef\u001b[39;00m\u001b[38;5;250m \u001b[39m\u001b[34mparse\u001b[39m(\u001b[38;5;28mself\u001b[39m):\n\u001b[32m--> \u001b[39m\u001b[32m444\u001b[39m     \u001b[38;5;28;01mwhile\u001b[39;00m \u001b[38;5;28;43mself\u001b[39;49m\u001b[43m.\u001b[49m\u001b[43m_parse_message\u001b[49m\u001b[43m(\u001b[49m\u001b[43m)\u001b[49m:\n\u001b[32m    445\u001b[39m         \u001b[38;5;28;01mpass\u001b[39;00m\n",
      "\u001b[36mFile \u001b[39m\u001b[32m~/dev_Airformatic/PoseC/mediapipe_env/lib/python3.12/site-packages/fitparse/base.py:137\u001b[39m, in \u001b[36mFitFile._parse_message\u001b[39m\u001b[34m(self)\u001b[39m\n\u001b[32m    134\u001b[39m \u001b[38;5;28;01mif\u001b[39;00m \u001b[38;5;129;01mnot\u001b[39;00m \u001b[38;5;28mself\u001b[39m._complete:\n\u001b[32m    135\u001b[39m     \u001b[38;5;28mself\u001b[39m._read_and_assert_crc()\n\u001b[32m--> \u001b[39m\u001b[32m137\u001b[39m \u001b[38;5;28;01mif\u001b[39;00m \u001b[38;5;28;43mself\u001b[39;49m\u001b[43m.\u001b[49m\u001b[43m_file\u001b[49m\u001b[43m.\u001b[49m\u001b[43mtell\u001b[49m() >= \u001b[38;5;28mself\u001b[39m._filesize:\n\u001b[32m    138\u001b[39m     \u001b[38;5;28mself\u001b[39m._complete = \u001b[38;5;28;01mTrue\u001b[39;00m\n\u001b[32m    139\u001b[39m     \u001b[38;5;28mself\u001b[39m.close()\n",
      "\u001b[31mAttributeError\u001b[39m: 'NoneType' object has no attribute 'tell'"
     ]
    }
   ],
   "source": [
    "fitfile = FitFile('data/raw/Freezing_Pain.fit')\n",
    "\n",
    "for msg in fitfile.get_messages():\n",
    "    if(msg.name != 'record'):\n",
    "        print(msg.name)\n",
    "\n",
    "print(type(fitfile))\n",
    "print(type(fitfile.messages))\n",
    "print(type(fitfile.messages[0]))\n",
    "print(type(fitfile.messages[0].fields))\n",
    "print(type(fitfile.messages[0].fields[0]))\n",
    "print(type(fitfile.get_messages('lap')))\n",
    "print(type(fitfile.get_messages('record')))\n",
    "print(type(fitfile.parse()))\n",
    "print(fitfile.parse())\n",
    "\n",
    "for lap in fitfile.get_messages('lap'):  # 'record' messages contain the actual data points\n",
    "    # Each lap has multiple data fields\n",
    "    lap_data = {}\n",
    "    for data in lap:\n",
    "        lap_data[data.name] = data.value\n",
    "\n",
    "    print(lap_data)\n",
    "\n",
    "# Iterate through all records and print data\n",
    "for record in fitfile.get_messages('record'):  # 'record' messages contain the actual data points\n",
    "\n",
    "    # Each record has multiple data fields\n",
    "    record_data = {}\n",
    "    for data in record:\n",
    "        record_data[data.name] = data.value\n",
    "\n",
    "    print(record_data)"
   ]
  },
  {
   "cell_type": "code",
   "execution_count": 5,
   "metadata": {},
   "outputs": [],
   "source": [
    "# Create mock data\n",
    "# Create mock metadata\n",
    "metadata = {\n",
    "    'name': 'Freezing Pain',\n",
    "    'description': 'A session of freezing pain',\n",
    "    'date': '2023-10-01',\n",
    "    'location': 'Unknown',\n",
    "    'duration': 3600,\n",
    "    'calories': 500,\n",
    "}\n",
    "df_proto = [metadata]\n",
    "df = pandas.DataFrame(df_proto)\n",
    "df.to_csv('data/raw/metadata.csv', index=False)"
   ]
  },
  {
   "cell_type": "code",
   "execution_count": 6,
   "metadata": {},
   "outputs": [],
   "source": [
    "def load_metadata(user_key, data_path):\n",
    "    \"\"\"\n",
    "    Load metadata from a CSV file.\n",
    "    \"\"\"\n",
    "    metadata = pandas.read_csv(data_path + \"metadata.csv\" )#(user_key)\n",
    "    return metadata"
   ]
  },
  {
   "cell_type": "code",
   "execution_count": 7,
   "metadata": {},
   "outputs": [],
   "source": [
    "def get_user_key_meta_data(fit_data):\n",
    "    \"\"\"\n",
    "    Get user key meta data from the database.\n",
    "    \"\"\"\n",
    "    return fit_data[\"user_profile\"][\"friendly_name\"]\n",
    "    "
   ]
  },
  {
   "cell_type": "code",
   "execution_count": 8,
   "metadata": {},
   "outputs": [],
   "source": [
    "def load_dataset(data_path):\n",
    "    session_id = \"Freezing_Pain\" # TODO Later change to session date & time\n",
    "    # load video key or full video\n",
    "    video_key = data_path.split('/')[-1].split('.')[0]\n",
    "    # load fit file\n",
    "    fit_data = load_fit_file(session_id + \".fit\", data_path)\n",
    "    # load user metadata\n",
    "    meta_data = load_metadata(get_user_key_meta_data(fit_data), data_path) # TODO: get user key from connection request instead\n",
    "    # convert it into our dataset\n",
    "    dataset = SessionData(video_key, fit_data, meta_data)\n",
    "    return dataset"
   ]
  },
  {
   "cell_type": "code",
   "execution_count": 9,
   "metadata": {},
   "outputs": [],
   "source": [
    "data_path = \"data/raw/\""
   ]
  },
  {
   "cell_type": "code",
   "execution_count": 10,
   "metadata": {},
   "outputs": [],
   "source": [
    "data_key = sys.argv[1]\n",
    "# DB = db_pck.load_db(env_var_db_path)\n",
    "# data_path = load_path(DB.fetch_path(data_key))\n",
    "dataset = load_dataset(data_path)"
   ]
  },
  {
   "cell_type": "code",
   "execution_count": 11,
   "metadata": {},
   "outputs": [
    {
     "name": "stdout",
     "output_type": "stream",
     "text": [
      "<class 'str'>\n",
      "<class 'dict'>\n",
      "<class 'pandas.core.frame.DataFrame'>\n"
     ]
    }
   ],
   "source": [
    "print(type(dataset.video_key))\n",
    "print(type(dataset.fit_data))\n",
    "print(type(dataset.metadata))"
   ]
  },
  {
   "cell_type": "markdown",
   "metadata": {},
   "source": [
    "# Fisheye correction"
   ]
  },
  {
   "cell_type": "code",
   "execution_count": 12,
   "metadata": {},
   "outputs": [],
   "source": [
    "class CameraMatrix:\n",
    "    def __init__(self, K, D):\n",
    "        self.K = K\n",
    "        self.D = D\n",
    "\n",
    "    def project(self, points):\n",
    "        # Dummy projection function\n",
    "        return points\n",
    "\n",
    "    def unproject(self, points):\n",
    "        # Dummy unprojection function\n",
    "        return points"
   ]
  },
  {
   "cell_type": "code",
   "execution_count": 13,
   "metadata": {},
   "outputs": [],
   "source": [
    "def LoadCameraMatrix(data_path):\n",
    "    K = np.array([\n",
    "        [320.0,   0.0, 320.0],  # fx, 0, cx\n",
    "        [  0.0, 320.0, 240.0],  # 0, fy, cy\n",
    "        [  0.0,   0.0,   1.0]\n",
    "    ])\n",
    "    D = np.array([[-0.18], [0.03], [0.0], [0.0]])\n",
    "    cam_matrix = CameraMatrix(K,D)\n",
    "    return cam_matrix"
   ]
  },
  {
   "cell_type": "code",
   "execution_count": 14,
   "metadata": {},
   "outputs": [],
   "source": [
    "def CorrectVideo(cap, camera_matrix, output_path=\"./output/output.mp4\", show_output = False): #video\n",
    "    K = camera_matrix.K\n",
    "    D = camera_matrix.D\n",
    "    width = int(cap.get(cv2.CAP_PROP_FRAME_WIDTH))\n",
    "    height = int(cap.get(cv2.CAP_PROP_FRAME_HEIGHT))\n",
    "    fps = cap.get(cv2.CAP_PROP_FPS)\n",
    "    fourcc = cv2.VideoWriter_fourcc(*'mp4v')\n",
    "    out = cv2.VideoWriter(output_path, fourcc, fps, (width, height))\n",
    "    new_K = cv2.fisheye.estimateNewCameraMatrixForUndistortRectify(K, D, (width, height), None)\n",
    "    map1, map2 = cv2.fisheye.initUndistortRectifyMap(K, D, np.eye(3), new_K, (width, height), cv2.CV_16SC2)\n",
    "    while cap.isOpened():\n",
    "        ret, frame = cap.read()\n",
    "        if not ret:\n",
    "            break\n",
    "\n",
    "        # Undistort the frame using the precomputed maps\n",
    "        undistorted_frame = cv2.remap(frame, map1, map2, interpolation=cv2.INTER_LINEAR)\n",
    "\n",
    "        if show_output:\n",
    "        # Show the frame (optional)\n",
    "            cv2.imshow(\"Undistorted Video\", undistorted_frame)\n",
    "            if cv2.waitKey(1) & 0xFF == ord('q'):\n",
    "                break\n",
    "\n",
    "        # Write to output file\n",
    "        \n",
    "        out.write(undistorted_frame)\n",
    "\n",
    "    # Release resources\n",
    "    cap.release()\n",
    "    out.release()\n",
    "    cv2.destroyAllWindows()\n",
    "    c_video = cv2.VideoCapture(output_path)\n",
    "    return c_video\n",
    "    "
   ]
  },
  {
   "cell_type": "code",
   "execution_count": null,
   "metadata": {},
   "outputs": [
    {
     "name": "stderr",
     "output_type": "stream",
     "text": [
      "I0000 00:00:1745262963.840445 1464493 gl_context_egl.cc:85] Successfully initialized EGL. Major : 1 Minor: 5\n",
      "I0000 00:00:1745262963.857097 2673540 gl_context.cc:369] GL version: 3.1 (OpenGL ES 3.1 Mesa 24.2.8-1ubuntu1~24.04.1), renderer: D3D12 (NVIDIA GeForce RTX 4060)\n"
     ]
    },
    {
     "name": "stderr",
     "output_type": "stream",
     "text": [
      "W0000 00:00:1745262963.951697 2673525 inference_feedback_manager.cc:114] Feedback manager requires a model with a single signature inference. Disabling support for feedback tensors.\n",
      "W0000 00:00:1745262964.002242 2673529 inference_feedback_manager.cc:114] Feedback manager requires a model with a single signature inference. Disabling support for feedback tensors.\n"
     ]
    }
   ],
   "source": [
    "# Mediapose stopgap code\n",
    "mp_pose = mp.solutions.pose\n",
    "pose = mp_pose.Pose()\n",
    "mp_drawing = mp.solutions.drawing_utils"
   ]
  },
  {
   "cell_type": "code",
   "execution_count": 17,
   "metadata": {},
   "outputs": [
    {
     "name": "stdout",
     "output_type": "stream",
     "text": [
      "< cv2.VideoCapture 0x7f437d086330>\n"
     ]
    }
   ],
   "source": [
    "video = cv2.VideoCapture(data_path + \"video/\"+ \"cycle_demo.mp4\")        #dataset.GetVideo()\n",
    "camera_matrix = LoadCameraMatrix(data_path + \"/camera_matrix\") # dataset.meta.camera_matrix\n",
    "c_video = CorrectVideo(video, camera_matrix)\n",
    "print(c_video)"
   ]
  },
  {
   "cell_type": "markdown",
   "metadata": {},
   "source": [
    "# Pose extraction"
   ]
  },
  {
   "cell_type": "code",
   "execution_count": 18,
   "metadata": {},
   "outputs": [],
   "source": [
    "# TODO: add intermediate video capture\n",
    "def GetPose(c_video, show_output=False,output_path=\"./output/output_pose.mp4\"):\n",
    "    result_list = []\n",
    "    width = int(c_video.get(cv2.CAP_PROP_FRAME_WIDTH))\n",
    "    height = int(c_video.get(cv2.CAP_PROP_FRAME_HEIGHT))\n",
    "    fps = c_video.get(cv2.CAP_PROP_FPS)\n",
    "    fourcc = cv2.VideoWriter_fourcc(*'mp4v')\n",
    "    out = cv2.VideoWriter(output_path, fourcc, fps, (width, height))\n",
    "    while c_video.isOpened():\n",
    "        ret, frame = c_video.read()\n",
    "        if not ret:\n",
    "            break\n",
    "\n",
    "        # Convert the BGR image to RGB\n",
    "        rgb_frame = cv2.cvtColor(frame, cv2.COLOR_BGR2RGB)\n",
    "\n",
    "        # Process the frame with MediaPipe Pose\n",
    "        results = pose.process(rgb_frame)\n",
    "\n",
    "        # Draw pose landmarks on the frame\n",
    "        if results.pose_landmarks:\n",
    "            mp_drawing.draw_landmarks(\n",
    "                frame,\n",
    "                results.pose_landmarks,\n",
    "                mp_pose.POSE_CONNECTIONS,\n",
    "                mp_drawing.DrawingSpec(color=(0, 255, 0), thickness=2, circle_radius=2),\n",
    "                mp_drawing.DrawingSpec(color=(0, 0, 255), thickness=2, circle_radius=2),\n",
    "            )\n",
    "        \n",
    "        result_list.append(results) #check if deep copy needed\n",
    "\n",
    "        # Display the frame\n",
    "        if show_output:\n",
    "            cv2.imshow('MediaPipe Pose', frame)\n",
    "            # Exit loop on pressing 'q'\n",
    "            if cv2.waitKey(1) & 0xFF == ord('q'):\n",
    "                break\n",
    "\n",
    "    c_video.release()\n",
    "    cv2.destroyAllWindows()\n",
    "    return result_list"
   ]
  },
  {
   "cell_type": "code",
   "execution_count": null,
   "metadata": {},
   "outputs": [],
   "source": [
    "# Mediapipe stopgap code\n",
    "while video.isOpened():\n",
    "    ret, frame = video.read()\n",
    "    if not ret:\n",
    "        break\n",
    "\n",
    "    # Convert the BGR image to RGB\n",
    "    rgb_frame = cv2.cvtColor(frame, cv2.COLOR_BGR2RGB)\n",
    "\n",
    "    # Process the frame with MediaPipe Pose\n",
    "    results = pose.process(rgb_frame)\n",
    "\n",
    "    # Draw pose landmarks on the frame\n",
    "    if results.pose_landmarks:\n",
    "        mp_drawing.draw_landmarks(\n",
    "            frame,\n",
    "            results.pose_landmarks,\n",
    "            mp_pose.POSE_CONNECTIONS,\n",
    "            mp_drawing.DrawingSpec(color=(0, 255, 0), thickness=2, circle_radius=2),\n",
    "            mp_drawing.DrawingSpec(color=(0, 0, 255), thickness=2, circle_radius=2),\n",
    "        )\n",
    "\n",
    "    # Display the frame\n",
    "    cv2.imshow('MediaPipe Pose', frame)\n",
    "\n",
    "    # Exit loop on pressing 'q'\n",
    "    if cv2.waitKey(1) & 0xFF == ord('q'):\n",
    "        break\n",
    "\n",
    "video.release()\n",
    "cv2.destroyAllWindows()"
   ]
  },
  {
   "cell_type": "code",
   "execution_count": 19,
   "metadata": {},
   "outputs": [
    {
     "name": "stderr",
     "output_type": "stream",
     "text": [
      "W0000 00:00:1745263095.341437 2673523 landmark_projection_calculator.cc:186] Using NORM_RECT without IMAGE_DIMENSIONS is only supported for the square ROI. Provide IMAGE_DIMENSIONS or use PROJECTION_MATRIX.\n"
     ]
    },
    {
     "name": "stdout",
     "output_type": "stream",
     "text": [
      "<class 'list'>\n",
      "[<class 'mediapipe.python.solution_base.SolutionOutputs'>, <class 'mediapipe.python.solution_base.SolutionOutputs'>, <class 'mediapipe.python.solution_base.SolutionOutputs'>, <class 'mediapipe.python.solution_base.SolutionOutputs'>, <class 'mediapipe.python.solution_base.SolutionOutputs'>, <class 'mediapipe.python.solution_base.SolutionOutputs'>, <class 'mediapipe.python.solution_base.SolutionOutputs'>, <class 'mediapipe.python.solution_base.SolutionOutputs'>, <class 'mediapipe.python.solution_base.SolutionOutputs'>, <class 'mediapipe.python.solution_base.SolutionOutputs'>, <class 'mediapipe.python.solution_base.SolutionOutputs'>, <class 'mediapipe.python.solution_base.SolutionOutputs'>, <class 'mediapipe.python.solution_base.SolutionOutputs'>, <class 'mediapipe.python.solution_base.SolutionOutputs'>, <class 'mediapipe.python.solution_base.SolutionOutputs'>, <class 'mediapipe.python.solution_base.SolutionOutputs'>, <class 'mediapipe.python.solution_base.SolutionOutputs'>, <class 'mediapipe.python.solution_base.SolutionOutputs'>, <class 'mediapipe.python.solution_base.SolutionOutputs'>, <class 'mediapipe.python.solution_base.SolutionOutputs'>, <class 'mediapipe.python.solution_base.SolutionOutputs'>, <class 'mediapipe.python.solution_base.SolutionOutputs'>, <class 'mediapipe.python.solution_base.SolutionOutputs'>, <class 'mediapipe.python.solution_base.SolutionOutputs'>, <class 'mediapipe.python.solution_base.SolutionOutputs'>, <class 'mediapipe.python.solution_base.SolutionOutputs'>, <class 'mediapipe.python.solution_base.SolutionOutputs'>, <class 'mediapipe.python.solution_base.SolutionOutputs'>, <class 'mediapipe.python.solution_base.SolutionOutputs'>, <class 'mediapipe.python.solution_base.SolutionOutputs'>, <class 'mediapipe.python.solution_base.SolutionOutputs'>, <class 'mediapipe.python.solution_base.SolutionOutputs'>, <class 'mediapipe.python.solution_base.SolutionOutputs'>, <class 'mediapipe.python.solution_base.SolutionOutputs'>, <class 'mediapipe.python.solution_base.SolutionOutputs'>, <class 'mediapipe.python.solution_base.SolutionOutputs'>, <class 'mediapipe.python.solution_base.SolutionOutputs'>, <class 'mediapipe.python.solution_base.SolutionOutputs'>, <class 'mediapipe.python.solution_base.SolutionOutputs'>, <class 'mediapipe.python.solution_base.SolutionOutputs'>, <class 'mediapipe.python.solution_base.SolutionOutputs'>, <class 'mediapipe.python.solution_base.SolutionOutputs'>, <class 'mediapipe.python.solution_base.SolutionOutputs'>, <class 'mediapipe.python.solution_base.SolutionOutputs'>, <class 'mediapipe.python.solution_base.SolutionOutputs'>, <class 'mediapipe.python.solution_base.SolutionOutputs'>, <class 'mediapipe.python.solution_base.SolutionOutputs'>, <class 'mediapipe.python.solution_base.SolutionOutputs'>, <class 'mediapipe.python.solution_base.SolutionOutputs'>, <class 'mediapipe.python.solution_base.SolutionOutputs'>, <class 'mediapipe.python.solution_base.SolutionOutputs'>, <class 'mediapipe.python.solution_base.SolutionOutputs'>, <class 'mediapipe.python.solution_base.SolutionOutputs'>, <class 'mediapipe.python.solution_base.SolutionOutputs'>, <class 'mediapipe.python.solution_base.SolutionOutputs'>, <class 'mediapipe.python.solution_base.SolutionOutputs'>, <class 'mediapipe.python.solution_base.SolutionOutputs'>, <class 'mediapipe.python.solution_base.SolutionOutputs'>, <class 'mediapipe.python.solution_base.SolutionOutputs'>, <class 'mediapipe.python.solution_base.SolutionOutputs'>, <class 'mediapipe.python.solution_base.SolutionOutputs'>, <class 'mediapipe.python.solution_base.SolutionOutputs'>, <class 'mediapipe.python.solution_base.SolutionOutputs'>, <class 'mediapipe.python.solution_base.SolutionOutputs'>, <class 'mediapipe.python.solution_base.SolutionOutputs'>, <class 'mediapipe.python.solution_base.SolutionOutputs'>, <class 'mediapipe.python.solution_base.SolutionOutputs'>, <class 'mediapipe.python.solution_base.SolutionOutputs'>, <class 'mediapipe.python.solution_base.SolutionOutputs'>, <class 'mediapipe.python.solution_base.SolutionOutputs'>, <class 'mediapipe.python.solution_base.SolutionOutputs'>, <class 'mediapipe.python.solution_base.SolutionOutputs'>, <class 'mediapipe.python.solution_base.SolutionOutputs'>, <class 'mediapipe.python.solution_base.SolutionOutputs'>, <class 'mediapipe.python.solution_base.SolutionOutputs'>, <class 'mediapipe.python.solution_base.SolutionOutputs'>, <class 'mediapipe.python.solution_base.SolutionOutputs'>, <class 'mediapipe.python.solution_base.SolutionOutputs'>, <class 'mediapipe.python.solution_base.SolutionOutputs'>, <class 'mediapipe.python.solution_base.SolutionOutputs'>, <class 'mediapipe.python.solution_base.SolutionOutputs'>, <class 'mediapipe.python.solution_base.SolutionOutputs'>, <class 'mediapipe.python.solution_base.SolutionOutputs'>, <class 'mediapipe.python.solution_base.SolutionOutputs'>, <class 'mediapipe.python.solution_base.SolutionOutputs'>, <class 'mediapipe.python.solution_base.SolutionOutputs'>, <class 'mediapipe.python.solution_base.SolutionOutputs'>, <class 'mediapipe.python.solution_base.SolutionOutputs'>, <class 'mediapipe.python.solution_base.SolutionOutputs'>, <class 'mediapipe.python.solution_base.SolutionOutputs'>, <class 'mediapipe.python.solution_base.SolutionOutputs'>, <class 'mediapipe.python.solution_base.SolutionOutputs'>, <class 'mediapipe.python.solution_base.SolutionOutputs'>, <class 'mediapipe.python.solution_base.SolutionOutputs'>, <class 'mediapipe.python.solution_base.SolutionOutputs'>, <class 'mediapipe.python.solution_base.SolutionOutputs'>, <class 'mediapipe.python.solution_base.SolutionOutputs'>, <class 'mediapipe.python.solution_base.SolutionOutputs'>, <class 'mediapipe.python.solution_base.SolutionOutputs'>, <class 'mediapipe.python.solution_base.SolutionOutputs'>, <class 'mediapipe.python.solution_base.SolutionOutputs'>, <class 'mediapipe.python.solution_base.SolutionOutputs'>, <class 'mediapipe.python.solution_base.SolutionOutputs'>, <class 'mediapipe.python.solution_base.SolutionOutputs'>, <class 'mediapipe.python.solution_base.SolutionOutputs'>, <class 'mediapipe.python.solution_base.SolutionOutputs'>, <class 'mediapipe.python.solution_base.SolutionOutputs'>, <class 'mediapipe.python.solution_base.SolutionOutputs'>, <class 'mediapipe.python.solution_base.SolutionOutputs'>, <class 'mediapipe.python.solution_base.SolutionOutputs'>, <class 'mediapipe.python.solution_base.SolutionOutputs'>, <class 'mediapipe.python.solution_base.SolutionOutputs'>, <class 'mediapipe.python.solution_base.SolutionOutputs'>, <class 'mediapipe.python.solution_base.SolutionOutputs'>, <class 'mediapipe.python.solution_base.SolutionOutputs'>, <class 'mediapipe.python.solution_base.SolutionOutputs'>, <class 'mediapipe.python.solution_base.SolutionOutputs'>, <class 'mediapipe.python.solution_base.SolutionOutputs'>, <class 'mediapipe.python.solution_base.SolutionOutputs'>, <class 'mediapipe.python.solution_base.SolutionOutputs'>, <class 'mediapipe.python.solution_base.SolutionOutputs'>, <class 'mediapipe.python.solution_base.SolutionOutputs'>, <class 'mediapipe.python.solution_base.SolutionOutputs'>, <class 'mediapipe.python.solution_base.SolutionOutputs'>, <class 'mediapipe.python.solution_base.SolutionOutputs'>, <class 'mediapipe.python.solution_base.SolutionOutputs'>, <class 'mediapipe.python.solution_base.SolutionOutputs'>, <class 'mediapipe.python.solution_base.SolutionOutputs'>, <class 'mediapipe.python.solution_base.SolutionOutputs'>, <class 'mediapipe.python.solution_base.SolutionOutputs'>, <class 'mediapipe.python.solution_base.SolutionOutputs'>, <class 'mediapipe.python.solution_base.SolutionOutputs'>, <class 'mediapipe.python.solution_base.SolutionOutputs'>, <class 'mediapipe.python.solution_base.SolutionOutputs'>, <class 'mediapipe.python.solution_base.SolutionOutputs'>, <class 'mediapipe.python.solution_base.SolutionOutputs'>, <class 'mediapipe.python.solution_base.SolutionOutputs'>, <class 'mediapipe.python.solution_base.SolutionOutputs'>, <class 'mediapipe.python.solution_base.SolutionOutputs'>, <class 'mediapipe.python.solution_base.SolutionOutputs'>, <class 'mediapipe.python.solution_base.SolutionOutputs'>, <class 'mediapipe.python.solution_base.SolutionOutputs'>, <class 'mediapipe.python.solution_base.SolutionOutputs'>, <class 'mediapipe.python.solution_base.SolutionOutputs'>, <class 'mediapipe.python.solution_base.SolutionOutputs'>, <class 'mediapipe.python.solution_base.SolutionOutputs'>, <class 'mediapipe.python.solution_base.SolutionOutputs'>, <class 'mediapipe.python.solution_base.SolutionOutputs'>, <class 'mediapipe.python.solution_base.SolutionOutputs'>, <class 'mediapipe.python.solution_base.SolutionOutputs'>, <class 'mediapipe.python.solution_base.SolutionOutputs'>, <class 'mediapipe.python.solution_base.SolutionOutputs'>, <class 'mediapipe.python.solution_base.SolutionOutputs'>, <class 'mediapipe.python.solution_base.SolutionOutputs'>, <class 'mediapipe.python.solution_base.SolutionOutputs'>, <class 'mediapipe.python.solution_base.SolutionOutputs'>, <class 'mediapipe.python.solution_base.SolutionOutputs'>, <class 'mediapipe.python.solution_base.SolutionOutputs'>, <class 'mediapipe.python.solution_base.SolutionOutputs'>, <class 'mediapipe.python.solution_base.SolutionOutputs'>, <class 'mediapipe.python.solution_base.SolutionOutputs'>, <class 'mediapipe.python.solution_base.SolutionOutputs'>, <class 'mediapipe.python.solution_base.SolutionOutputs'>, <class 'mediapipe.python.solution_base.SolutionOutputs'>, <class 'mediapipe.python.solution_base.SolutionOutputs'>, <class 'mediapipe.python.solution_base.SolutionOutputs'>, <class 'mediapipe.python.solution_base.SolutionOutputs'>, <class 'mediapipe.python.solution_base.SolutionOutputs'>, <class 'mediapipe.python.solution_base.SolutionOutputs'>, <class 'mediapipe.python.solution_base.SolutionOutputs'>, <class 'mediapipe.python.solution_base.SolutionOutputs'>, <class 'mediapipe.python.solution_base.SolutionOutputs'>, <class 'mediapipe.python.solution_base.SolutionOutputs'>, <class 'mediapipe.python.solution_base.SolutionOutputs'>, <class 'mediapipe.python.solution_base.SolutionOutputs'>, <class 'mediapipe.python.solution_base.SolutionOutputs'>, <class 'mediapipe.python.solution_base.SolutionOutputs'>, <class 'mediapipe.python.solution_base.SolutionOutputs'>, <class 'mediapipe.python.solution_base.SolutionOutputs'>, <class 'mediapipe.python.solution_base.SolutionOutputs'>, <class 'mediapipe.python.solution_base.SolutionOutputs'>, <class 'mediapipe.python.solution_base.SolutionOutputs'>, <class 'mediapipe.python.solution_base.SolutionOutputs'>, <class 'mediapipe.python.solution_base.SolutionOutputs'>, <class 'mediapipe.python.solution_base.SolutionOutputs'>, <class 'mediapipe.python.solution_base.SolutionOutputs'>, <class 'mediapipe.python.solution_base.SolutionOutputs'>, <class 'mediapipe.python.solution_base.SolutionOutputs'>, <class 'mediapipe.python.solution_base.SolutionOutputs'>, <class 'mediapipe.python.solution_base.SolutionOutputs'>, <class 'mediapipe.python.solution_base.SolutionOutputs'>, <class 'mediapipe.python.solution_base.SolutionOutputs'>, <class 'mediapipe.python.solution_base.SolutionOutputs'>, <class 'mediapipe.python.solution_base.SolutionOutputs'>, <class 'mediapipe.python.solution_base.SolutionOutputs'>, <class 'mediapipe.python.solution_base.SolutionOutputs'>, <class 'mediapipe.python.solution_base.SolutionOutputs'>, <class 'mediapipe.python.solution_base.SolutionOutputs'>, <class 'mediapipe.python.solution_base.SolutionOutputs'>, <class 'mediapipe.python.solution_base.SolutionOutputs'>, <class 'mediapipe.python.solution_base.SolutionOutputs'>, <class 'mediapipe.python.solution_base.SolutionOutputs'>, <class 'mediapipe.python.solution_base.SolutionOutputs'>, <class 'mediapipe.python.solution_base.SolutionOutputs'>, <class 'mediapipe.python.solution_base.SolutionOutputs'>, <class 'mediapipe.python.solution_base.SolutionOutputs'>, <class 'mediapipe.python.solution_base.SolutionOutputs'>, <class 'mediapipe.python.solution_base.SolutionOutputs'>, <class 'mediapipe.python.solution_base.SolutionOutputs'>, <class 'mediapipe.python.solution_base.SolutionOutputs'>, <class 'mediapipe.python.solution_base.SolutionOutputs'>, <class 'mediapipe.python.solution_base.SolutionOutputs'>, <class 'mediapipe.python.solution_base.SolutionOutputs'>, <class 'mediapipe.python.solution_base.SolutionOutputs'>, <class 'mediapipe.python.solution_base.SolutionOutputs'>, <class 'mediapipe.python.solution_base.SolutionOutputs'>, <class 'mediapipe.python.solution_base.SolutionOutputs'>, <class 'mediapipe.python.solution_base.SolutionOutputs'>, <class 'mediapipe.python.solution_base.SolutionOutputs'>, <class 'mediapipe.python.solution_base.SolutionOutputs'>, <class 'mediapipe.python.solution_base.SolutionOutputs'>, <class 'mediapipe.python.solution_base.SolutionOutputs'>, <class 'mediapipe.python.solution_base.SolutionOutputs'>, <class 'mediapipe.python.solution_base.SolutionOutputs'>, <class 'mediapipe.python.solution_base.SolutionOutputs'>, <class 'mediapipe.python.solution_base.SolutionOutputs'>, <class 'mediapipe.python.solution_base.SolutionOutputs'>, <class 'mediapipe.python.solution_base.SolutionOutputs'>, <class 'mediapipe.python.solution_base.SolutionOutputs'>, <class 'mediapipe.python.solution_base.SolutionOutputs'>, <class 'mediapipe.python.solution_base.SolutionOutputs'>, <class 'mediapipe.python.solution_base.SolutionOutputs'>, <class 'mediapipe.python.solution_base.SolutionOutputs'>, <class 'mediapipe.python.solution_base.SolutionOutputs'>, <class 'mediapipe.python.solution_base.SolutionOutputs'>, <class 'mediapipe.python.solution_base.SolutionOutputs'>, <class 'mediapipe.python.solution_base.SolutionOutputs'>, <class 'mediapipe.python.solution_base.SolutionOutputs'>, <class 'mediapipe.python.solution_base.SolutionOutputs'>, <class 'mediapipe.python.solution_base.SolutionOutputs'>, <class 'mediapipe.python.solution_base.SolutionOutputs'>, <class 'mediapipe.python.solution_base.SolutionOutputs'>, <class 'mediapipe.python.solution_base.SolutionOutputs'>, <class 'mediapipe.python.solution_base.SolutionOutputs'>, <class 'mediapipe.python.solution_base.SolutionOutputs'>, <class 'mediapipe.python.solution_base.SolutionOutputs'>, <class 'mediapipe.python.solution_base.SolutionOutputs'>, <class 'mediapipe.python.solution_base.SolutionOutputs'>, <class 'mediapipe.python.solution_base.SolutionOutputs'>, <class 'mediapipe.python.solution_base.SolutionOutputs'>, <class 'mediapipe.python.solution_base.SolutionOutputs'>, <class 'mediapipe.python.solution_base.SolutionOutputs'>, <class 'mediapipe.python.solution_base.SolutionOutputs'>, <class 'mediapipe.python.solution_base.SolutionOutputs'>, <class 'mediapipe.python.solution_base.SolutionOutputs'>, <class 'mediapipe.python.solution_base.SolutionOutputs'>, <class 'mediapipe.python.solution_base.SolutionOutputs'>, <class 'mediapipe.python.solution_base.SolutionOutputs'>, <class 'mediapipe.python.solution_base.SolutionOutputs'>, <class 'mediapipe.python.solution_base.SolutionOutputs'>, <class 'mediapipe.python.solution_base.SolutionOutputs'>, <class 'mediapipe.python.solution_base.SolutionOutputs'>, <class 'mediapipe.python.solution_base.SolutionOutputs'>, <class 'mediapipe.python.solution_base.SolutionOutputs'>, <class 'mediapipe.python.solution_base.SolutionOutputs'>, <class 'mediapipe.python.solution_base.SolutionOutputs'>, <class 'mediapipe.python.solution_base.SolutionOutputs'>, <class 'mediapipe.python.solution_base.SolutionOutputs'>, <class 'mediapipe.python.solution_base.SolutionOutputs'>, <class 'mediapipe.python.solution_base.SolutionOutputs'>, <class 'mediapipe.python.solution_base.SolutionOutputs'>, <class 'mediapipe.python.solution_base.SolutionOutputs'>, <class 'mediapipe.python.solution_base.SolutionOutputs'>, <class 'mediapipe.python.solution_base.SolutionOutputs'>, <class 'mediapipe.python.solution_base.SolutionOutputs'>, <class 'mediapipe.python.solution_base.SolutionOutputs'>, <class 'mediapipe.python.solution_base.SolutionOutputs'>, <class 'mediapipe.python.solution_base.SolutionOutputs'>, <class 'mediapipe.python.solution_base.SolutionOutputs'>, <class 'mediapipe.python.solution_base.SolutionOutputs'>, <class 'mediapipe.python.solution_base.SolutionOutputs'>, <class 'mediapipe.python.solution_base.SolutionOutputs'>, <class 'mediapipe.python.solution_base.SolutionOutputs'>, <class 'mediapipe.python.solution_base.SolutionOutputs'>, <class 'mediapipe.python.solution_base.SolutionOutputs'>, <class 'mediapipe.python.solution_base.SolutionOutputs'>, <class 'mediapipe.python.solution_base.SolutionOutputs'>, <class 'mediapipe.python.solution_base.SolutionOutputs'>, <class 'mediapipe.python.solution_base.SolutionOutputs'>, <class 'mediapipe.python.solution_base.SolutionOutputs'>, <class 'mediapipe.python.solution_base.SolutionOutputs'>, <class 'mediapipe.python.solution_base.SolutionOutputs'>, <class 'mediapipe.python.solution_base.SolutionOutputs'>, <class 'mediapipe.python.solution_base.SolutionOutputs'>, <class 'mediapipe.python.solution_base.SolutionOutputs'>, <class 'mediapipe.python.solution_base.SolutionOutputs'>, <class 'mediapipe.python.solution_base.SolutionOutputs'>, <class 'mediapipe.python.solution_base.SolutionOutputs'>, <class 'mediapipe.python.solution_base.SolutionOutputs'>, <class 'mediapipe.python.solution_base.SolutionOutputs'>, <class 'mediapipe.python.solution_base.SolutionOutputs'>, <class 'mediapipe.python.solution_base.SolutionOutputs'>, <class 'mediapipe.python.solution_base.SolutionOutputs'>, <class 'mediapipe.python.solution_base.SolutionOutputs'>, <class 'mediapipe.python.solution_base.SolutionOutputs'>, <class 'mediapipe.python.solution_base.SolutionOutputs'>, <class 'mediapipe.python.solution_base.SolutionOutputs'>, <class 'mediapipe.python.solution_base.SolutionOutputs'>, <class 'mediapipe.python.solution_base.SolutionOutputs'>, <class 'mediapipe.python.solution_base.SolutionOutputs'>, <class 'mediapipe.python.solution_base.SolutionOutputs'>, <class 'mediapipe.python.solution_base.SolutionOutputs'>, <class 'mediapipe.python.solution_base.SolutionOutputs'>, <class 'mediapipe.python.solution_base.SolutionOutputs'>, <class 'mediapipe.python.solution_base.SolutionOutputs'>, <class 'mediapipe.python.solution_base.SolutionOutputs'>, <class 'mediapipe.python.solution_base.SolutionOutputs'>, <class 'mediapipe.python.solution_base.SolutionOutputs'>, <class 'mediapipe.python.solution_base.SolutionOutputs'>, <class 'mediapipe.python.solution_base.SolutionOutputs'>, <class 'mediapipe.python.solution_base.SolutionOutputs'>, <class 'mediapipe.python.solution_base.SolutionOutputs'>, <class 'mediapipe.python.solution_base.SolutionOutputs'>, <class 'mediapipe.python.solution_base.SolutionOutputs'>, <class 'mediapipe.python.solution_base.SolutionOutputs'>, <class 'mediapipe.python.solution_base.SolutionOutputs'>, <class 'mediapipe.python.solution_base.SolutionOutputs'>, <class 'mediapipe.python.solution_base.SolutionOutputs'>, <class 'mediapipe.python.solution_base.SolutionOutputs'>, <class 'mediapipe.python.solution_base.SolutionOutputs'>, <class 'mediapipe.python.solution_base.SolutionOutputs'>, <class 'mediapipe.python.solution_base.SolutionOutputs'>, <class 'mediapipe.python.solution_base.SolutionOutputs'>, <class 'mediapipe.python.solution_base.SolutionOutputs'>, <class 'mediapipe.python.solution_base.SolutionOutputs'>, <class 'mediapipe.python.solution_base.SolutionOutputs'>, <class 'mediapipe.python.solution_base.SolutionOutputs'>, <class 'mediapipe.python.solution_base.SolutionOutputs'>, <class 'mediapipe.python.solution_base.SolutionOutputs'>, <class 'mediapipe.python.solution_base.SolutionOutputs'>, <class 'mediapipe.python.solution_base.SolutionOutputs'>, <class 'mediapipe.python.solution_base.SolutionOutputs'>, <class 'mediapipe.python.solution_base.SolutionOutputs'>, <class 'mediapipe.python.solution_base.SolutionOutputs'>, <class 'mediapipe.python.solution_base.SolutionOutputs'>, <class 'mediapipe.python.solution_base.SolutionOutputs'>, <class 'mediapipe.python.solution_base.SolutionOutputs'>, <class 'mediapipe.python.solution_base.SolutionOutputs'>, <class 'mediapipe.python.solution_base.SolutionOutputs'>, <class 'mediapipe.python.solution_base.SolutionOutputs'>, <class 'mediapipe.python.solution_base.SolutionOutputs'>, <class 'mediapipe.python.solution_base.SolutionOutputs'>, <class 'mediapipe.python.solution_base.SolutionOutputs'>, <class 'mediapipe.python.solution_base.SolutionOutputs'>, <class 'mediapipe.python.solution_base.SolutionOutputs'>, <class 'mediapipe.python.solution_base.SolutionOutputs'>, <class 'mediapipe.python.solution_base.SolutionOutputs'>, <class 'mediapipe.python.solution_base.SolutionOutputs'>, <class 'mediapipe.python.solution_base.SolutionOutputs'>, <class 'mediapipe.python.solution_base.SolutionOutputs'>, <class 'mediapipe.python.solution_base.SolutionOutputs'>, <class 'mediapipe.python.solution_base.SolutionOutputs'>, <class 'mediapipe.python.solution_base.SolutionOutputs'>, <class 'mediapipe.python.solution_base.SolutionOutputs'>, <class 'mediapipe.python.solution_base.SolutionOutputs'>, <class 'mediapipe.python.solution_base.SolutionOutputs'>, <class 'mediapipe.python.solution_base.SolutionOutputs'>, <class 'mediapipe.python.solution_base.SolutionOutputs'>, <class 'mediapipe.python.solution_base.SolutionOutputs'>, <class 'mediapipe.python.solution_base.SolutionOutputs'>, <class 'mediapipe.python.solution_base.SolutionOutputs'>, <class 'mediapipe.python.solution_base.SolutionOutputs'>, <class 'mediapipe.python.solution_base.SolutionOutputs'>, <class 'mediapipe.python.solution_base.SolutionOutputs'>, <class 'mediapipe.python.solution_base.SolutionOutputs'>, <class 'mediapipe.python.solution_base.SolutionOutputs'>, <class 'mediapipe.python.solution_base.SolutionOutputs'>, <class 'mediapipe.python.solution_base.SolutionOutputs'>, <class 'mediapipe.python.solution_base.SolutionOutputs'>, <class 'mediapipe.python.solution_base.SolutionOutputs'>, <class 'mediapipe.python.solution_base.SolutionOutputs'>, <class 'mediapipe.python.solution_base.SolutionOutputs'>, <class 'mediapipe.python.solution_base.SolutionOutputs'>, <class 'mediapipe.python.solution_base.SolutionOutputs'>, <class 'mediapipe.python.solution_base.SolutionOutputs'>, <class 'mediapipe.python.solution_base.SolutionOutputs'>, <class 'mediapipe.python.solution_base.SolutionOutputs'>, <class 'mediapipe.python.solution_base.SolutionOutputs'>, <class 'mediapipe.python.solution_base.SolutionOutputs'>, <class 'mediapipe.python.solution_base.SolutionOutputs'>, <class 'mediapipe.python.solution_base.SolutionOutputs'>, <class 'mediapipe.python.solution_base.SolutionOutputs'>, <class 'mediapipe.python.solution_base.SolutionOutputs'>, <class 'mediapipe.python.solution_base.SolutionOutputs'>, <class 'mediapipe.python.solution_base.SolutionOutputs'>, <class 'mediapipe.python.solution_base.SolutionOutputs'>, <class 'mediapipe.python.solution_base.SolutionOutputs'>, <class 'mediapipe.python.solution_base.SolutionOutputs'>, <class 'mediapipe.python.solution_base.SolutionOutputs'>, <class 'mediapipe.python.solution_base.SolutionOutputs'>, <class 'mediapipe.python.solution_base.SolutionOutputs'>, <class 'mediapipe.python.solution_base.SolutionOutputs'>, <class 'mediapipe.python.solution_base.SolutionOutputs'>, <class 'mediapipe.python.solution_base.SolutionOutputs'>, <class 'mediapipe.python.solution_base.SolutionOutputs'>, <class 'mediapipe.python.solution_base.SolutionOutputs'>, <class 'mediapipe.python.solution_base.SolutionOutputs'>, <class 'mediapipe.python.solution_base.SolutionOutputs'>, <class 'mediapipe.python.solution_base.SolutionOutputs'>, <class 'mediapipe.python.solution_base.SolutionOutputs'>, <class 'mediapipe.python.solution_base.SolutionOutputs'>, <class 'mediapipe.python.solution_base.SolutionOutputs'>, <class 'mediapipe.python.solution_base.SolutionOutputs'>, <class 'mediapipe.python.solution_base.SolutionOutputs'>, <class 'mediapipe.python.solution_base.SolutionOutputs'>, <class 'mediapipe.python.solution_base.SolutionOutputs'>, <class 'mediapipe.python.solution_base.SolutionOutputs'>, <class 'mediapipe.python.solution_base.SolutionOutputs'>, <class 'mediapipe.python.solution_base.SolutionOutputs'>, <class 'mediapipe.python.solution_base.SolutionOutputs'>, <class 'mediapipe.python.solution_base.SolutionOutputs'>, <class 'mediapipe.python.solution_base.SolutionOutputs'>, <class 'mediapipe.python.solution_base.SolutionOutputs'>, <class 'mediapipe.python.solution_base.SolutionOutputs'>, <class 'mediapipe.python.solution_base.SolutionOutputs'>, <class 'mediapipe.python.solution_base.SolutionOutputs'>, <class 'mediapipe.python.solution_base.SolutionOutputs'>, <class 'mediapipe.python.solution_base.SolutionOutputs'>, <class 'mediapipe.python.solution_base.SolutionOutputs'>, <class 'mediapipe.python.solution_base.SolutionOutputs'>, <class 'mediapipe.python.solution_base.SolutionOutputs'>, <class 'mediapipe.python.solution_base.SolutionOutputs'>, <class 'mediapipe.python.solution_base.SolutionOutputs'>, <class 'mediapipe.python.solution_base.SolutionOutputs'>, <class 'mediapipe.python.solution_base.SolutionOutputs'>, <class 'mediapipe.python.solution_base.SolutionOutputs'>, <class 'mediapipe.python.solution_base.SolutionOutputs'>, <class 'mediapipe.python.solution_base.SolutionOutputs'>, <class 'mediapipe.python.solution_base.SolutionOutputs'>, <class 'mediapipe.python.solution_base.SolutionOutputs'>, <class 'mediapipe.python.solution_base.SolutionOutputs'>, <class 'mediapipe.python.solution_base.SolutionOutputs'>, <class 'mediapipe.python.solution_base.SolutionOutputs'>, <class 'mediapipe.python.solution_base.SolutionOutputs'>, <class 'mediapipe.python.solution_base.SolutionOutputs'>, <class 'mediapipe.python.solution_base.SolutionOutputs'>, <class 'mediapipe.python.solution_base.SolutionOutputs'>, <class 'mediapipe.python.solution_base.SolutionOutputs'>, <class 'mediapipe.python.solution_base.SolutionOutputs'>, <class 'mediapipe.python.solution_base.SolutionOutputs'>, <class 'mediapipe.python.solution_base.SolutionOutputs'>, <class 'mediapipe.python.solution_base.SolutionOutputs'>, <class 'mediapipe.python.solution_base.SolutionOutputs'>, <class 'mediapipe.python.solution_base.SolutionOutputs'>, <class 'mediapipe.python.solution_base.SolutionOutputs'>, <class 'mediapipe.python.solution_base.SolutionOutputs'>, <class 'mediapipe.python.solution_base.SolutionOutputs'>, <class 'mediapipe.python.solution_base.SolutionOutputs'>, <class 'mediapipe.python.solution_base.SolutionOutputs'>, <class 'mediapipe.python.solution_base.SolutionOutputs'>, <class 'mediapipe.python.solution_base.SolutionOutputs'>, <class 'mediapipe.python.solution_base.SolutionOutputs'>, <class 'mediapipe.python.solution_base.SolutionOutputs'>, <class 'mediapipe.python.solution_base.SolutionOutputs'>, <class 'mediapipe.python.solution_base.SolutionOutputs'>, <class 'mediapipe.python.solution_base.SolutionOutputs'>, <class 'mediapipe.python.solution_base.SolutionOutputs'>, <class 'mediapipe.python.solution_base.SolutionOutputs'>, <class 'mediapipe.python.solution_base.SolutionOutputs'>, <class 'mediapipe.python.solution_base.SolutionOutputs'>, <class 'mediapipe.python.solution_base.SolutionOutputs'>, <class 'mediapipe.python.solution_base.SolutionOutputs'>, <class 'mediapipe.python.solution_base.SolutionOutputs'>, <class 'mediapipe.python.solution_base.SolutionOutputs'>, <class 'mediapipe.python.solution_base.SolutionOutputs'>, <class 'mediapipe.python.solution_base.SolutionOutputs'>, <class 'mediapipe.python.solution_base.SolutionOutputs'>, <class 'mediapipe.python.solution_base.SolutionOutputs'>, <class 'mediapipe.python.solution_base.SolutionOutputs'>, <class 'mediapipe.python.solution_base.SolutionOutputs'>, <class 'mediapipe.python.solution_base.SolutionOutputs'>, <class 'mediapipe.python.solution_base.SolutionOutputs'>, <class 'mediapipe.python.solution_base.SolutionOutputs'>, <class 'mediapipe.python.solution_base.SolutionOutputs'>, <class 'mediapipe.python.solution_base.SolutionOutputs'>, <class 'mediapipe.python.solution_base.SolutionOutputs'>, <class 'mediapipe.python.solution_base.SolutionOutputs'>, <class 'mediapipe.python.solution_base.SolutionOutputs'>, <class 'mediapipe.python.solution_base.SolutionOutputs'>, <class 'mediapipe.python.solution_base.SolutionOutputs'>, <class 'mediapipe.python.solution_base.SolutionOutputs'>, <class 'mediapipe.python.solution_base.SolutionOutputs'>, <class 'mediapipe.python.solution_base.SolutionOutputs'>, <class 'mediapipe.python.solution_base.SolutionOutputs'>, <class 'mediapipe.python.solution_base.SolutionOutputs'>, <class 'mediapipe.python.solution_base.SolutionOutputs'>, <class 'mediapipe.python.solution_base.SolutionOutputs'>, <class 'mediapipe.python.solution_base.SolutionOutputs'>, <class 'mediapipe.python.solution_base.SolutionOutputs'>, <class 'mediapipe.python.solution_base.SolutionOutputs'>, <class 'mediapipe.python.solution_base.SolutionOutputs'>, <class 'mediapipe.python.solution_base.SolutionOutputs'>, <class 'mediapipe.python.solution_base.SolutionOutputs'>, <class 'mediapipe.python.solution_base.SolutionOutputs'>, <class 'mediapipe.python.solution_base.SolutionOutputs'>, <class 'mediapipe.python.solution_base.SolutionOutputs'>, <class 'mediapipe.python.solution_base.SolutionOutputs'>, <class 'mediapipe.python.solution_base.SolutionOutputs'>, <class 'mediapipe.python.solution_base.SolutionOutputs'>, <class 'mediapipe.python.solution_base.SolutionOutputs'>, <class 'mediapipe.python.solution_base.SolutionOutputs'>, <class 'mediapipe.python.solution_base.SolutionOutputs'>, <class 'mediapipe.python.solution_base.SolutionOutputs'>, <class 'mediapipe.python.solution_base.SolutionOutputs'>, <class 'mediapipe.python.solution_base.SolutionOutputs'>, <class 'mediapipe.python.solution_base.SolutionOutputs'>, <class 'mediapipe.python.solution_base.SolutionOutputs'>, <class 'mediapipe.python.solution_base.SolutionOutputs'>, <class 'mediapipe.python.solution_base.SolutionOutputs'>, <class 'mediapipe.python.solution_base.SolutionOutputs'>, <class 'mediapipe.python.solution_base.SolutionOutputs'>, <class 'mediapipe.python.solution_base.SolutionOutputs'>, <class 'mediapipe.python.solution_base.SolutionOutputs'>, <class 'mediapipe.python.solution_base.SolutionOutputs'>, <class 'mediapipe.python.solution_base.SolutionOutputs'>, <class 'mediapipe.python.solution_base.SolutionOutputs'>, <class 'mediapipe.python.solution_base.SolutionOutputs'>, <class 'mediapipe.python.solution_base.SolutionOutputs'>, <class 'mediapipe.python.solution_base.SolutionOutputs'>, <class 'mediapipe.python.solution_base.SolutionOutputs'>, <class 'mediapipe.python.solution_base.SolutionOutputs'>, <class 'mediapipe.python.solution_base.SolutionOutputs'>, <class 'mediapipe.python.solution_base.SolutionOutputs'>, <class 'mediapipe.python.solution_base.SolutionOutputs'>, <class 'mediapipe.python.solution_base.SolutionOutputs'>, <class 'mediapipe.python.solution_base.SolutionOutputs'>, <class 'mediapipe.python.solution_base.SolutionOutputs'>, <class 'mediapipe.python.solution_base.SolutionOutputs'>, <class 'mediapipe.python.solution_base.SolutionOutputs'>, <class 'mediapipe.python.solution_base.SolutionOutputs'>, <class 'mediapipe.python.solution_base.SolutionOutputs'>, <class 'mediapipe.python.solution_base.SolutionOutputs'>, <class 'mediapipe.python.solution_base.SolutionOutputs'>, <class 'mediapipe.python.solution_base.SolutionOutputs'>, <class 'mediapipe.python.solution_base.SolutionOutputs'>, <class 'mediapipe.python.solution_base.SolutionOutputs'>, <class 'mediapipe.python.solution_base.SolutionOutputs'>, <class 'mediapipe.python.solution_base.SolutionOutputs'>, <class 'mediapipe.python.solution_base.SolutionOutputs'>, <class 'mediapipe.python.solution_base.SolutionOutputs'>, <class 'mediapipe.python.solution_base.SolutionOutputs'>, <class 'mediapipe.python.solution_base.SolutionOutputs'>, <class 'mediapipe.python.solution_base.SolutionOutputs'>, <class 'mediapipe.python.solution_base.SolutionOutputs'>, <class 'mediapipe.python.solution_base.SolutionOutputs'>, <class 'mediapipe.python.solution_base.SolutionOutputs'>, <class 'mediapipe.python.solution_base.SolutionOutputs'>, <class 'mediapipe.python.solution_base.SolutionOutputs'>, <class 'mediapipe.python.solution_base.SolutionOutputs'>, <class 'mediapipe.python.solution_base.SolutionOutputs'>, <class 'mediapipe.python.solution_base.SolutionOutputs'>, <class 'mediapipe.python.solution_base.SolutionOutputs'>, <class 'mediapipe.python.solution_base.SolutionOutputs'>, <class 'mediapipe.python.solution_base.SolutionOutputs'>, <class 'mediapipe.python.solution_base.SolutionOutputs'>, <class 'mediapipe.python.solution_base.SolutionOutputs'>, <class 'mediapipe.python.solution_base.SolutionOutputs'>, <class 'mediapipe.python.solution_base.SolutionOutputs'>, <class 'mediapipe.python.solution_base.SolutionOutputs'>, <class 'mediapipe.python.solution_base.SolutionOutputs'>, <class 'mediapipe.python.solution_base.SolutionOutputs'>, <class 'mediapipe.python.solution_base.SolutionOutputs'>, <class 'mediapipe.python.solution_base.SolutionOutputs'>, <class 'mediapipe.python.solution_base.SolutionOutputs'>, <class 'mediapipe.python.solution_base.SolutionOutputs'>, <class 'mediapipe.python.solution_base.SolutionOutputs'>, <class 'mediapipe.python.solution_base.SolutionOutputs'>, <class 'mediapipe.python.solution_base.SolutionOutputs'>, <class 'mediapipe.python.solution_base.SolutionOutputs'>, <class 'mediapipe.python.solution_base.SolutionOutputs'>, <class 'mediapipe.python.solution_base.SolutionOutputs'>, <class 'mediapipe.python.solution_base.SolutionOutputs'>, <class 'mediapipe.python.solution_base.SolutionOutputs'>, <class 'mediapipe.python.solution_base.SolutionOutputs'>, <class 'mediapipe.python.solution_base.SolutionOutputs'>, <class 'mediapipe.python.solution_base.SolutionOutputs'>, <class 'mediapipe.python.solution_base.SolutionOutputs'>, <class 'mediapipe.python.solution_base.SolutionOutputs'>, <class 'mediapipe.python.solution_base.SolutionOutputs'>, <class 'mediapipe.python.solution_base.SolutionOutputs'>, <class 'mediapipe.python.solution_base.SolutionOutputs'>, <class 'mediapipe.python.solution_base.SolutionOutputs'>, <class 'mediapipe.python.solution_base.SolutionOutputs'>, <class 'mediapipe.python.solution_base.SolutionOutputs'>, <class 'mediapipe.python.solution_base.SolutionOutputs'>, <class 'mediapipe.python.solution_base.SolutionOutputs'>, <class 'mediapipe.python.solution_base.SolutionOutputs'>, <class 'mediapipe.python.solution_base.SolutionOutputs'>, <class 'mediapipe.python.solution_base.SolutionOutputs'>, <class 'mediapipe.python.solution_base.SolutionOutputs'>, <class 'mediapipe.python.solution_base.SolutionOutputs'>, <class 'mediapipe.python.solution_base.SolutionOutputs'>, <class 'mediapipe.python.solution_base.SolutionOutputs'>, <class 'mediapipe.python.solution_base.SolutionOutputs'>, <class 'mediapipe.python.solution_base.SolutionOutputs'>, <class 'mediapipe.python.solution_base.SolutionOutputs'>, <class 'mediapipe.python.solution_base.SolutionOutputs'>, <class 'mediapipe.python.solution_base.SolutionOutputs'>, <class 'mediapipe.python.solution_base.SolutionOutputs'>, <class 'mediapipe.python.solution_base.SolutionOutputs'>, <class 'mediapipe.python.solution_base.SolutionOutputs'>, <class 'mediapipe.python.solution_base.SolutionOutputs'>, <class 'mediapipe.python.solution_base.SolutionOutputs'>, <class 'mediapipe.python.solution_base.SolutionOutputs'>, <class 'mediapipe.python.solution_base.SolutionOutputs'>, <class 'mediapipe.python.solution_base.SolutionOutputs'>, <class 'mediapipe.python.solution_base.SolutionOutputs'>, <class 'mediapipe.python.solution_base.SolutionOutputs'>, <class 'mediapipe.python.solution_base.SolutionOutputs'>, <class 'mediapipe.python.solution_base.SolutionOutputs'>, <class 'mediapipe.python.solution_base.SolutionOutputs'>, <class 'mediapipe.python.solution_base.SolutionOutputs'>, <class 'mediapipe.python.solution_base.SolutionOutputs'>, <class 'mediapipe.python.solution_base.SolutionOutputs'>, <class 'mediapipe.python.solution_base.SolutionOutputs'>, <class 'mediapipe.python.solution_base.SolutionOutputs'>, <class 'mediapipe.python.solution_base.SolutionOutputs'>, <class 'mediapipe.python.solution_base.SolutionOutputs'>, <class 'mediapipe.python.solution_base.SolutionOutputs'>, <class 'mediapipe.python.solution_base.SolutionOutputs'>, <class 'mediapipe.python.solution_base.SolutionOutputs'>, <class 'mediapipe.python.solution_base.SolutionOutputs'>, <class 'mediapipe.python.solution_base.SolutionOutputs'>, <class 'mediapipe.python.solution_base.SolutionOutputs'>, <class 'mediapipe.python.solution_base.SolutionOutputs'>, <class 'mediapipe.python.solution_base.SolutionOutputs'>, <class 'mediapipe.python.solution_base.SolutionOutputs'>, <class 'mediapipe.python.solution_base.SolutionOutputs'>, <class 'mediapipe.python.solution_base.SolutionOutputs'>, <class 'mediapipe.python.solution_base.SolutionOutputs'>, <class 'mediapipe.python.solution_base.SolutionOutputs'>, <class 'mediapipe.python.solution_base.SolutionOutputs'>, <class 'mediapipe.python.solution_base.SolutionOutputs'>, <class 'mediapipe.python.solution_base.SolutionOutputs'>, <class 'mediapipe.python.solution_base.SolutionOutputs'>, <class 'mediapipe.python.solution_base.SolutionOutputs'>, <class 'mediapipe.python.solution_base.SolutionOutputs'>, <class 'mediapipe.python.solution_base.SolutionOutputs'>, <class 'mediapipe.python.solution_base.SolutionOutputs'>, <class 'mediapipe.python.solution_base.SolutionOutputs'>, <class 'mediapipe.python.solution_base.SolutionOutputs'>, <class 'mediapipe.python.solution_base.SolutionOutputs'>, <class 'mediapipe.python.solution_base.SolutionOutputs'>, <class 'mediapipe.python.solution_base.SolutionOutputs'>, <class 'mediapipe.python.solution_base.SolutionOutputs'>, <class 'mediapipe.python.solution_base.SolutionOutputs'>, <class 'mediapipe.python.solution_base.SolutionOutputs'>, <class 'mediapipe.python.solution_base.SolutionOutputs'>, <class 'mediapipe.python.solution_base.SolutionOutputs'>, <class 'mediapipe.python.solution_base.SolutionOutputs'>, <class 'mediapipe.python.solution_base.SolutionOutputs'>, <class 'mediapipe.python.solution_base.SolutionOutputs'>, <class 'mediapipe.python.solution_base.SolutionOutputs'>, <class 'mediapipe.python.solution_base.SolutionOutputs'>, <class 'mediapipe.python.solution_base.SolutionOutputs'>, <class 'mediapipe.python.solution_base.SolutionOutputs'>, <class 'mediapipe.python.solution_base.SolutionOutputs'>, <class 'mediapipe.python.solution_base.SolutionOutputs'>, <class 'mediapipe.python.solution_base.SolutionOutputs'>, <class 'mediapipe.python.solution_base.SolutionOutputs'>, <class 'mediapipe.python.solution_base.SolutionOutputs'>, <class 'mediapipe.python.solution_base.SolutionOutputs'>, <class 'mediapipe.python.solution_base.SolutionOutputs'>, <class 'mediapipe.python.solution_base.SolutionOutputs'>, <class 'mediapipe.python.solution_base.SolutionOutputs'>, <class 'mediapipe.python.solution_base.SolutionOutputs'>, <class 'mediapipe.python.solution_base.SolutionOutputs'>, <class 'mediapipe.python.solution_base.SolutionOutputs'>, <class 'mediapipe.python.solution_base.SolutionOutputs'>, <class 'mediapipe.python.solution_base.SolutionOutputs'>, <class 'mediapipe.python.solution_base.SolutionOutputs'>, <class 'mediapipe.python.solution_base.SolutionOutputs'>, <class 'mediapipe.python.solution_base.SolutionOutputs'>, <class 'mediapipe.python.solution_base.SolutionOutputs'>, <class 'mediapipe.python.solution_base.SolutionOutputs'>, <class 'mediapipe.python.solution_base.SolutionOutputs'>, <class 'mediapipe.python.solution_base.SolutionOutputs'>, <class 'mediapipe.python.solution_base.SolutionOutputs'>, <class 'mediapipe.python.solution_base.SolutionOutputs'>, <class 'mediapipe.python.solution_base.SolutionOutputs'>, <class 'mediapipe.python.solution_base.SolutionOutputs'>, <class 'mediapipe.python.solution_base.SolutionOutputs'>, <class 'mediapipe.python.solution_base.SolutionOutputs'>, <class 'mediapipe.python.solution_base.SolutionOutputs'>, <class 'mediapipe.python.solution_base.SolutionOutputs'>, <class 'mediapipe.python.solution_base.SolutionOutputs'>, <class 'mediapipe.python.solution_base.SolutionOutputs'>, <class 'mediapipe.python.solution_base.SolutionOutputs'>, <class 'mediapipe.python.solution_base.SolutionOutputs'>, <class 'mediapipe.python.solution_base.SolutionOutputs'>, <class 'mediapipe.python.solution_base.SolutionOutputs'>, <class 'mediapipe.python.solution_base.SolutionOutputs'>, <class 'mediapipe.python.solution_base.SolutionOutputs'>, <class 'mediapipe.python.solution_base.SolutionOutputs'>, <class 'mediapipe.python.solution_base.SolutionOutputs'>, <class 'mediapipe.python.solution_base.SolutionOutputs'>, <class 'mediapipe.python.solution_base.SolutionOutputs'>, <class 'mediapipe.python.solution_base.SolutionOutputs'>, <class 'mediapipe.python.solution_base.SolutionOutputs'>, <class 'mediapipe.python.solution_base.SolutionOutputs'>, <class 'mediapipe.python.solution_base.SolutionOutputs'>, <class 'mediapipe.python.solution_base.SolutionOutputs'>, <class 'mediapipe.python.solution_base.SolutionOutputs'>, <class 'mediapipe.python.solution_base.SolutionOutputs'>, <class 'mediapipe.python.solution_base.SolutionOutputs'>, <class 'mediapipe.python.solution_base.SolutionOutputs'>, <class 'mediapipe.python.solution_base.SolutionOutputs'>, <class 'mediapipe.python.solution_base.SolutionOutputs'>, <class 'mediapipe.python.solution_base.SolutionOutputs'>, <class 'mediapipe.python.solution_base.SolutionOutputs'>, <class 'mediapipe.python.solution_base.SolutionOutputs'>, <class 'mediapipe.python.solution_base.SolutionOutputs'>, <class 'mediapipe.python.solution_base.SolutionOutputs'>, <class 'mediapipe.python.solution_base.SolutionOutputs'>, <class 'mediapipe.python.solution_base.SolutionOutputs'>, <class 'mediapipe.python.solution_base.SolutionOutputs'>, <class 'mediapipe.python.solution_base.SolutionOutputs'>, <class 'mediapipe.python.solution_base.SolutionOutputs'>, <class 'mediapipe.python.solution_base.SolutionOutputs'>, <class 'mediapipe.python.solution_base.SolutionOutputs'>, <class 'mediapipe.python.solution_base.SolutionOutputs'>, <class 'mediapipe.python.solution_base.SolutionOutputs'>, <class 'mediapipe.python.solution_base.SolutionOutputs'>, <class 'mediapipe.python.solution_base.SolutionOutputs'>, <class 'mediapipe.python.solution_base.SolutionOutputs'>, <class 'mediapipe.python.solution_base.SolutionOutputs'>, <class 'mediapipe.python.solution_base.SolutionOutputs'>, <class 'mediapipe.python.solution_base.SolutionOutputs'>, <class 'mediapipe.python.solution_base.SolutionOutputs'>, <class 'mediapipe.python.solution_base.SolutionOutputs'>, <class 'mediapipe.python.solution_base.SolutionOutputs'>, <class 'mediapipe.python.solution_base.SolutionOutputs'>, <class 'mediapipe.python.solution_base.SolutionOutputs'>, <class 'mediapipe.python.solution_base.SolutionOutputs'>, <class 'mediapipe.python.solution_base.SolutionOutputs'>, <class 'mediapipe.python.solution_base.SolutionOutputs'>, <class 'mediapipe.python.solution_base.SolutionOutputs'>, <class 'mediapipe.python.solution_base.SolutionOutputs'>, <class 'mediapipe.python.solution_base.SolutionOutputs'>, <class 'mediapipe.python.solution_base.SolutionOutputs'>, <class 'mediapipe.python.solution_base.SolutionOutputs'>, <class 'mediapipe.python.solution_base.SolutionOutputs'>, <class 'mediapipe.python.solution_base.SolutionOutputs'>, <class 'mediapipe.python.solution_base.SolutionOutputs'>, <class 'mediapipe.python.solution_base.SolutionOutputs'>, <class 'mediapipe.python.solution_base.SolutionOutputs'>, <class 'mediapipe.python.solution_base.SolutionOutputs'>, <class 'mediapipe.python.solution_base.SolutionOutputs'>, <class 'mediapipe.python.solution_base.SolutionOutputs'>, <class 'mediapipe.python.solution_base.SolutionOutputs'>, <class 'mediapipe.python.solution_base.SolutionOutputs'>, <class 'mediapipe.python.solution_base.SolutionOutputs'>, <class 'mediapipe.python.solution_base.SolutionOutputs'>, <class 'mediapipe.python.solution_base.SolutionOutputs'>, <class 'mediapipe.python.solution_base.SolutionOutputs'>, <class 'mediapipe.python.solution_base.SolutionOutputs'>, <class 'mediapipe.python.solution_base.SolutionOutputs'>, <class 'mediapipe.python.solution_base.SolutionOutputs'>, <class 'mediapipe.python.solution_base.SolutionOutputs'>, <class 'mediapipe.python.solution_base.SolutionOutputs'>, <class 'mediapipe.python.solution_base.SolutionOutputs'>, <class 'mediapipe.python.solution_base.SolutionOutputs'>, <class 'mediapipe.python.solution_base.SolutionOutputs'>, <class 'mediapipe.python.solution_base.SolutionOutputs'>, <class 'mediapipe.python.solution_base.SolutionOutputs'>, <class 'mediapipe.python.solution_base.SolutionOutputs'>, <class 'mediapipe.python.solution_base.SolutionOutputs'>, <class 'mediapipe.python.solution_base.SolutionOutputs'>, <class 'mediapipe.python.solution_base.SolutionOutputs'>, <class 'mediapipe.python.solution_base.SolutionOutputs'>, <class 'mediapipe.python.solution_base.SolutionOutputs'>, <class 'mediapipe.python.solution_base.SolutionOutputs'>, <class 'mediapipe.python.solution_base.SolutionOutputs'>, <class 'mediapipe.python.solution_base.SolutionOutputs'>, <class 'mediapipe.python.solution_base.SolutionOutputs'>, <class 'mediapipe.python.solution_base.SolutionOutputs'>, <class 'mediapipe.python.solution_base.SolutionOutputs'>, <class 'mediapipe.python.solution_base.SolutionOutputs'>, <class 'mediapipe.python.solution_base.SolutionOutputs'>, <class 'mediapipe.python.solution_base.SolutionOutputs'>, <class 'mediapipe.python.solution_base.SolutionOutputs'>, <class 'mediapipe.python.solution_base.SolutionOutputs'>, <class 'mediapipe.python.solution_base.SolutionOutputs'>, <class 'mediapipe.python.solution_base.SolutionOutputs'>, <class 'mediapipe.python.solution_base.SolutionOutputs'>, <class 'mediapipe.python.solution_base.SolutionOutputs'>, <class 'mediapipe.python.solution_base.SolutionOutputs'>, <class 'mediapipe.python.solution_base.SolutionOutputs'>, <class 'mediapipe.python.solution_base.SolutionOutputs'>, <class 'mediapipe.python.solution_base.SolutionOutputs'>, <class 'mediapipe.python.solution_base.SolutionOutputs'>, <class 'mediapipe.python.solution_base.SolutionOutputs'>, <class 'mediapipe.python.solution_base.SolutionOutputs'>, <class 'mediapipe.python.solution_base.SolutionOutputs'>, <class 'mediapipe.python.solution_base.SolutionOutputs'>, <class 'mediapipe.python.solution_base.SolutionOutputs'>, <class 'mediapipe.python.solution_base.SolutionOutputs'>, <class 'mediapipe.python.solution_base.SolutionOutputs'>, <class 'mediapipe.python.solution_base.SolutionOutputs'>, <class 'mediapipe.python.solution_base.SolutionOutputs'>, <class 'mediapipe.python.solution_base.SolutionOutputs'>, <class 'mediapipe.python.solution_base.SolutionOutputs'>, <class 'mediapipe.python.solution_base.SolutionOutputs'>, <class 'mediapipe.python.solution_base.SolutionOutputs'>, <class 'mediapipe.python.solution_base.SolutionOutputs'>, <class 'mediapipe.python.solution_base.SolutionOutputs'>, <class 'mediapipe.python.solution_base.SolutionOutputs'>, <class 'mediapipe.python.solution_base.SolutionOutputs'>, <class 'mediapipe.python.solution_base.SolutionOutputs'>, <class 'mediapipe.python.solution_base.SolutionOutputs'>, <class 'mediapipe.python.solution_base.SolutionOutputs'>, <class 'mediapipe.python.solution_base.SolutionOutputs'>, <class 'mediapipe.python.solution_base.SolutionOutputs'>, <class 'mediapipe.python.solution_base.SolutionOutputs'>, <class 'mediapipe.python.solution_base.SolutionOutputs'>, <class 'mediapipe.python.solution_base.SolutionOutputs'>, <class 'mediapipe.python.solution_base.SolutionOutputs'>, <class 'mediapipe.python.solution_base.SolutionOutputs'>, <class 'mediapipe.python.solution_base.SolutionOutputs'>, <class 'mediapipe.python.solution_base.SolutionOutputs'>, <class 'mediapipe.python.solution_base.SolutionOutputs'>, <class 'mediapipe.python.solution_base.SolutionOutputs'>, <class 'mediapipe.python.solution_base.SolutionOutputs'>, <class 'mediapipe.python.solution_base.SolutionOutputs'>, <class 'mediapipe.python.solution_base.SolutionOutputs'>, <class 'mediapipe.python.solution_base.SolutionOutputs'>, <class 'mediapipe.python.solution_base.SolutionOutputs'>, <class 'mediapipe.python.solution_base.SolutionOutputs'>, <class 'mediapipe.python.solution_base.SolutionOutputs'>, <class 'mediapipe.python.solution_base.SolutionOutputs'>, <class 'mediapipe.python.solution_base.SolutionOutputs'>, <class 'mediapipe.python.solution_base.SolutionOutputs'>, <class 'mediapipe.python.solution_base.SolutionOutputs'>, <class 'mediapipe.python.solution_base.SolutionOutputs'>, <class 'mediapipe.python.solution_base.SolutionOutputs'>, <class 'mediapipe.python.solution_base.SolutionOutputs'>, <class 'mediapipe.python.solution_base.SolutionOutputs'>, <class 'mediapipe.python.solution_base.SolutionOutputs'>, <class 'mediapipe.python.solution_base.SolutionOutputs'>, <class 'mediapipe.python.solution_base.SolutionOutputs'>, <class 'mediapipe.python.solution_base.SolutionOutputs'>, <class 'mediapipe.python.solution_base.SolutionOutputs'>, <class 'mediapipe.python.solution_base.SolutionOutputs'>, <class 'mediapipe.python.solution_base.SolutionOutputs'>, <class 'mediapipe.python.solution_base.SolutionOutputs'>, <class 'mediapipe.python.solution_base.SolutionOutputs'>, <class 'mediapipe.python.solution_base.SolutionOutputs'>, <class 'mediapipe.python.solution_base.SolutionOutputs'>, <class 'mediapipe.python.solution_base.SolutionOutputs'>, <class 'mediapipe.python.solution_base.SolutionOutputs'>, <class 'mediapipe.python.solution_base.SolutionOutputs'>, <class 'mediapipe.python.solution_base.SolutionOutputs'>, <class 'mediapipe.python.solution_base.SolutionOutputs'>, <class 'mediapipe.python.solution_base.SolutionOutputs'>, <class 'mediapipe.python.solution_base.SolutionOutputs'>, <class 'mediapipe.python.solution_base.SolutionOutputs'>, <class 'mediapipe.python.solution_base.SolutionOutputs'>, <class 'mediapipe.python.solution_base.SolutionOutputs'>, <class 'mediapipe.python.solution_base.SolutionOutputs'>, <class 'mediapipe.python.solution_base.SolutionOutputs'>, <class 'mediapipe.python.solution_base.SolutionOutputs'>, <class 'mediapipe.python.solution_base.SolutionOutputs'>, <class 'mediapipe.python.solution_base.SolutionOutputs'>, <class 'mediapipe.python.solution_base.SolutionOutputs'>, <class 'mediapipe.python.solution_base.SolutionOutputs'>, <class 'mediapipe.python.solution_base.SolutionOutputs'>, <class 'mediapipe.python.solution_base.SolutionOutputs'>, <class 'mediapipe.python.solution_base.SolutionOutputs'>, <class 'mediapipe.python.solution_base.SolutionOutputs'>, <class 'mediapipe.python.solution_base.SolutionOutputs'>, <class 'mediapipe.python.solution_base.SolutionOutputs'>, <class 'mediapipe.python.solution_base.SolutionOutputs'>, <class 'mediapipe.python.solution_base.SolutionOutputs'>, <class 'mediapipe.python.solution_base.SolutionOutputs'>, <class 'mediapipe.python.solution_base.SolutionOutputs'>, <class 'mediapipe.python.solution_base.SolutionOutputs'>, <class 'mediapipe.python.solution_base.SolutionOutputs'>, <class 'mediapipe.python.solution_base.SolutionOutputs'>, <class 'mediapipe.python.solution_base.SolutionOutputs'>, <class 'mediapipe.python.solution_base.SolutionOutputs'>, <class 'mediapipe.python.solution_base.SolutionOutputs'>, <class 'mediapipe.python.solution_base.SolutionOutputs'>, <class 'mediapipe.python.solution_base.SolutionOutputs'>, <class 'mediapipe.python.solution_base.SolutionOutputs'>, <class 'mediapipe.python.solution_base.SolutionOutputs'>, <class 'mediapipe.python.solution_base.SolutionOutputs'>, <class 'mediapipe.python.solution_base.SolutionOutputs'>, <class 'mediapipe.python.solution_base.SolutionOutputs'>, <class 'mediapipe.python.solution_base.SolutionOutputs'>, <class 'mediapipe.python.solution_base.SolutionOutputs'>, <class 'mediapipe.python.solution_base.SolutionOutputs'>, <class 'mediapipe.python.solution_base.SolutionOutputs'>, <class 'mediapipe.python.solution_base.SolutionOutputs'>, <class 'mediapipe.python.solution_base.SolutionOutputs'>, <class 'mediapipe.python.solution_base.SolutionOutputs'>, <class 'mediapipe.python.solution_base.SolutionOutputs'>, <class 'mediapipe.python.solution_base.SolutionOutputs'>, <class 'mediapipe.python.solution_base.SolutionOutputs'>, <class 'mediapipe.python.solution_base.SolutionOutputs'>, <class 'mediapipe.python.solution_base.SolutionOutputs'>, <class 'mediapipe.python.solution_base.SolutionOutputs'>, <class 'mediapipe.python.solution_base.SolutionOutputs'>, <class 'mediapipe.python.solution_base.SolutionOutputs'>, <class 'mediapipe.python.solution_base.SolutionOutputs'>, <class 'mediapipe.python.solution_base.SolutionOutputs'>, <class 'mediapipe.python.solution_base.SolutionOutputs'>, <class 'mediapipe.python.solution_base.SolutionOutputs'>, <class 'mediapipe.python.solution_base.SolutionOutputs'>, <class 'mediapipe.python.solution_base.SolutionOutputs'>, <class 'mediapipe.python.solution_base.SolutionOutputs'>, <class 'mediapipe.python.solution_base.SolutionOutputs'>, <class 'mediapipe.python.solution_base.SolutionOutputs'>, <class 'mediapipe.python.solution_base.SolutionOutputs'>, <class 'mediapipe.python.solution_base.SolutionOutputs'>, <class 'mediapipe.python.solution_base.SolutionOutputs'>, <class 'mediapipe.python.solution_base.SolutionOutputs'>, <class 'mediapipe.python.solution_base.SolutionOutputs'>, <class 'mediapipe.python.solution_base.SolutionOutputs'>, <class 'mediapipe.python.solution_base.SolutionOutputs'>, <class 'mediapipe.python.solution_base.SolutionOutputs'>, <class 'mediapipe.python.solution_base.SolutionOutputs'>, <class 'mediapipe.python.solution_base.SolutionOutputs'>, <class 'mediapipe.python.solution_base.SolutionOutputs'>, <class 'mediapipe.python.solution_base.SolutionOutputs'>, <class 'mediapipe.python.solution_base.SolutionOutputs'>, <class 'mediapipe.python.solution_base.SolutionOutputs'>, <class 'mediapipe.python.solution_base.SolutionOutputs'>, <class 'mediapipe.python.solution_base.SolutionOutputs'>, <class 'mediapipe.python.solution_base.SolutionOutputs'>, <class 'mediapipe.python.solution_base.SolutionOutputs'>, <class 'mediapipe.python.solution_base.SolutionOutputs'>, <class 'mediapipe.python.solution_base.SolutionOutputs'>, <class 'mediapipe.python.solution_base.SolutionOutputs'>, <class 'mediapipe.python.solution_base.SolutionOutputs'>, <class 'mediapipe.python.solution_base.SolutionOutputs'>, <class 'mediapipe.python.solution_base.SolutionOutputs'>, <class 'mediapipe.python.solution_base.SolutionOutputs'>, <class 'mediapipe.python.solution_base.SolutionOutputs'>, <class 'mediapipe.python.solution_base.SolutionOutputs'>, <class 'mediapipe.python.solution_base.SolutionOutputs'>, <class 'mediapipe.python.solution_base.SolutionOutputs'>, <class 'mediapipe.python.solution_base.SolutionOutputs'>, <class 'mediapipe.python.solution_base.SolutionOutputs'>, <class 'mediapipe.python.solution_base.SolutionOutputs'>, <class 'mediapipe.python.solution_base.SolutionOutputs'>, <class 'mediapipe.python.solution_base.SolutionOutputs'>, <class 'mediapipe.python.solution_base.SolutionOutputs'>, <class 'mediapipe.python.solution_base.SolutionOutputs'>, <class 'mediapipe.python.solution_base.SolutionOutputs'>, <class 'mediapipe.python.solution_base.SolutionOutputs'>, <class 'mediapipe.python.solution_base.SolutionOutputs'>, <class 'mediapipe.python.solution_base.SolutionOutputs'>, <class 'mediapipe.python.solution_base.SolutionOutputs'>, <class 'mediapipe.python.solution_base.SolutionOutputs'>, <class 'mediapipe.python.solution_base.SolutionOutputs'>, <class 'mediapipe.python.solution_base.SolutionOutputs'>, <class 'mediapipe.python.solution_base.SolutionOutputs'>, <class 'mediapipe.python.solution_base.SolutionOutputs'>, <class 'mediapipe.python.solution_base.SolutionOutputs'>, <class 'mediapipe.python.solution_base.SolutionOutputs'>, <class 'mediapipe.python.solution_base.SolutionOutputs'>, <class 'mediapipe.python.solution_base.SolutionOutputs'>, <class 'mediapipe.python.solution_base.SolutionOutputs'>, <class 'mediapipe.python.solution_base.SolutionOutputs'>, <class 'mediapipe.python.solution_base.SolutionOutputs'>, <class 'mediapipe.python.solution_base.SolutionOutputs'>, <class 'mediapipe.python.solution_base.SolutionOutputs'>, <class 'mediapipe.python.solution_base.SolutionOutputs'>, <class 'mediapipe.python.solution_base.SolutionOutputs'>, <class 'mediapipe.python.solution_base.SolutionOutputs'>, <class 'mediapipe.python.solution_base.SolutionOutputs'>, <class 'mediapipe.python.solution_base.SolutionOutputs'>, <class 'mediapipe.python.solution_base.SolutionOutputs'>, <class 'mediapipe.python.solution_base.SolutionOutputs'>, <class 'mediapipe.python.solution_base.SolutionOutputs'>, <class 'mediapipe.python.solution_base.SolutionOutputs'>, <class 'mediapipe.python.solution_base.SolutionOutputs'>, <class 'mediapipe.python.solution_base.SolutionOutputs'>, <class 'mediapipe.python.solution_base.SolutionOutputs'>, <class 'mediapipe.python.solution_base.SolutionOutputs'>, <class 'mediapipe.python.solution_base.SolutionOutputs'>, <class 'mediapipe.python.solution_base.SolutionOutputs'>, <class 'mediapipe.python.solution_base.SolutionOutputs'>, <class 'mediapipe.python.solution_base.SolutionOutputs'>, <class 'mediapipe.python.solution_base.SolutionOutputs'>, <class 'mediapipe.python.solution_base.SolutionOutputs'>, <class 'mediapipe.python.solution_base.SolutionOutputs'>, <class 'mediapipe.python.solution_base.SolutionOutputs'>, <class 'mediapipe.python.solution_base.SolutionOutputs'>, <class 'mediapipe.python.solution_base.SolutionOutputs'>, <class 'mediapipe.python.solution_base.SolutionOutputs'>, <class 'mediapipe.python.solution_base.SolutionOutputs'>, <class 'mediapipe.python.solution_base.SolutionOutputs'>, <class 'mediapipe.python.solution_base.SolutionOutputs'>, <class 'mediapipe.python.solution_base.SolutionOutputs'>, <class 'mediapipe.python.solution_base.SolutionOutputs'>, <class 'mediapipe.python.solution_base.SolutionOutputs'>, <class 'mediapipe.python.solution_base.SolutionOutputs'>, <class 'mediapipe.python.solution_base.SolutionOutputs'>, <class 'mediapipe.python.solution_base.SolutionOutputs'>, <class 'mediapipe.python.solution_base.SolutionOutputs'>, <class 'mediapipe.python.solution_base.SolutionOutputs'>, <class 'mediapipe.python.solution_base.SolutionOutputs'>, <class 'mediapipe.python.solution_base.SolutionOutputs'>, <class 'mediapipe.python.solution_base.SolutionOutputs'>, <class 'mediapipe.python.solution_base.SolutionOutputs'>, <class 'mediapipe.python.solution_base.SolutionOutputs'>, <class 'mediapipe.python.solution_base.SolutionOutputs'>, <class 'mediapipe.python.solution_base.SolutionOutputs'>, <class 'mediapipe.python.solution_base.SolutionOutputs'>, <class 'mediapipe.python.solution_base.SolutionOutputs'>, <class 'mediapipe.python.solution_base.SolutionOutputs'>, <class 'mediapipe.python.solution_base.SolutionOutputs'>, <class 'mediapipe.python.solution_base.SolutionOutputs'>, <class 'mediapipe.python.solution_base.SolutionOutputs'>, <class 'mediapipe.python.solution_base.SolutionOutputs'>, <class 'mediapipe.python.solution_base.SolutionOutputs'>, <class 'mediapipe.python.solution_base.SolutionOutputs'>, <class 'mediapipe.python.solution_base.SolutionOutputs'>, <class 'mediapipe.python.solution_base.SolutionOutputs'>, <class 'mediapipe.python.solution_base.SolutionOutputs'>, <class 'mediapipe.python.solution_base.SolutionOutputs'>, <class 'mediapipe.python.solution_base.SolutionOutputs'>, <class 'mediapipe.python.solution_base.SolutionOutputs'>, <class 'mediapipe.python.solution_base.SolutionOutputs'>, <class 'mediapipe.python.solution_base.SolutionOutputs'>, <class 'mediapipe.python.solution_base.SolutionOutputs'>, <class 'mediapipe.python.solution_base.SolutionOutputs'>, <class 'mediapipe.python.solution_base.SolutionOutputs'>, <class 'mediapipe.python.solution_base.SolutionOutputs'>, <class 'mediapipe.python.solution_base.SolutionOutputs'>, <class 'mediapipe.python.solution_base.SolutionOutputs'>, <class 'mediapipe.python.solution_base.SolutionOutputs'>, <class 'mediapipe.python.solution_base.SolutionOutputs'>, <class 'mediapipe.python.solution_base.SolutionOutputs'>, <class 'mediapipe.python.solution_base.SolutionOutputs'>, <class 'mediapipe.python.solution_base.SolutionOutputs'>, <class 'mediapipe.python.solution_base.SolutionOutputs'>, <class 'mediapipe.python.solution_base.SolutionOutputs'>, <class 'mediapipe.python.solution_base.SolutionOutputs'>, <class 'mediapipe.python.solution_base.SolutionOutputs'>, <class 'mediapipe.python.solution_base.SolutionOutputs'>, <class 'mediapipe.python.solution_base.SolutionOutputs'>, <class 'mediapipe.python.solution_base.SolutionOutputs'>, <class 'mediapipe.python.solution_base.SolutionOutputs'>, <class 'mediapipe.python.solution_base.SolutionOutputs'>, <class 'mediapipe.python.solution_base.SolutionOutputs'>, <class 'mediapipe.python.solution_base.SolutionOutputs'>, <class 'mediapipe.python.solution_base.SolutionOutputs'>, <class 'mediapipe.python.solution_base.SolutionOutputs'>, <class 'mediapipe.python.solution_base.SolutionOutputs'>, <class 'mediapipe.python.solution_base.SolutionOutputs'>, <class 'mediapipe.python.solution_base.SolutionOutputs'>, <class 'mediapipe.python.solution_base.SolutionOutputs'>, <class 'mediapipe.python.solution_base.SolutionOutputs'>, <class 'mediapipe.python.solution_base.SolutionOutputs'>, <class 'mediapipe.python.solution_base.SolutionOutputs'>, <class 'mediapipe.python.solution_base.SolutionOutputs'>, <class 'mediapipe.python.solution_base.SolutionOutputs'>, <class 'mediapipe.python.solution_base.SolutionOutputs'>, <class 'mediapipe.python.solution_base.SolutionOutputs'>, <class 'mediapipe.python.solution_base.SolutionOutputs'>, <class 'mediapipe.python.solution_base.SolutionOutputs'>, <class 'mediapipe.python.solution_base.SolutionOutputs'>, <class 'mediapipe.python.solution_base.SolutionOutputs'>, <class 'mediapipe.python.solution_base.SolutionOutputs'>, <class 'mediapipe.python.solution_base.SolutionOutputs'>, <class 'mediapipe.python.solution_base.SolutionOutputs'>, <class 'mediapipe.python.solution_base.SolutionOutputs'>, <class 'mediapipe.python.solution_base.SolutionOutputs'>, <class 'mediapipe.python.solution_base.SolutionOutputs'>, <class 'mediapipe.python.solution_base.SolutionOutputs'>, <class 'mediapipe.python.solution_base.SolutionOutputs'>, <class 'mediapipe.python.solution_base.SolutionOutputs'>, <class 'mediapipe.python.solution_base.SolutionOutputs'>, <class 'mediapipe.python.solution_base.SolutionOutputs'>, <class 'mediapipe.python.solution_base.SolutionOutputs'>, <class 'mediapipe.python.solution_base.SolutionOutputs'>, <class 'mediapipe.python.solution_base.SolutionOutputs'>, <class 'mediapipe.python.solution_base.SolutionOutputs'>, <class 'mediapipe.python.solution_base.SolutionOutputs'>, <class 'mediapipe.python.solution_base.SolutionOutputs'>, <class 'mediapipe.python.solution_base.SolutionOutputs'>, <class 'mediapipe.python.solution_base.SolutionOutputs'>, <class 'mediapipe.python.solution_base.SolutionOutputs'>, <class 'mediapipe.python.solution_base.SolutionOutputs'>, <class 'mediapipe.python.solution_base.SolutionOutputs'>, <class 'mediapipe.python.solution_base.SolutionOutputs'>, <class 'mediapipe.python.solution_base.SolutionOutputs'>, <class 'mediapipe.python.solution_base.SolutionOutputs'>, <class 'mediapipe.python.solution_base.SolutionOutputs'>, <class 'mediapipe.python.solution_base.SolutionOutputs'>, <class 'mediapipe.python.solution_base.SolutionOutputs'>, <class 'mediapipe.python.solution_base.SolutionOutputs'>, <class 'mediapipe.python.solution_base.SolutionOutputs'>, <class 'mediapipe.python.solution_base.SolutionOutputs'>, <class 'mediapipe.python.solution_base.SolutionOutputs'>, <class 'mediapipe.python.solution_base.SolutionOutputs'>, <class 'mediapipe.python.solution_base.SolutionOutputs'>, <class 'mediapipe.python.solution_base.SolutionOutputs'>, <class 'mediapipe.python.solution_base.SolutionOutputs'>, <class 'mediapipe.python.solution_base.SolutionOutputs'>, <class 'mediapipe.python.solution_base.SolutionOutputs'>, <class 'mediapipe.python.solution_base.SolutionOutputs'>, <class 'mediapipe.python.solution_base.SolutionOutputs'>, <class 'mediapipe.python.solution_base.SolutionOutputs'>, <class 'mediapipe.python.solution_base.SolutionOutputs'>, <class 'mediapipe.python.solution_base.SolutionOutputs'>, <class 'mediapipe.python.solution_base.SolutionOutputs'>, <class 'mediapipe.python.solution_base.SolutionOutputs'>, <class 'mediapipe.python.solution_base.SolutionOutputs'>, <class 'mediapipe.python.solution_base.SolutionOutputs'>, <class 'mediapipe.python.solution_base.SolutionOutputs'>, <class 'mediapipe.python.solution_base.SolutionOutputs'>, <class 'mediapipe.python.solution_base.SolutionOutputs'>, <class 'mediapipe.python.solution_base.SolutionOutputs'>, <class 'mediapipe.python.solution_base.SolutionOutputs'>, <class 'mediapipe.python.solution_base.SolutionOutputs'>, <class 'mediapipe.python.solution_base.SolutionOutputs'>, <class 'mediapipe.python.solution_base.SolutionOutputs'>, <class 'mediapipe.python.solution_base.SolutionOutputs'>, <class 'mediapipe.python.solution_base.SolutionOutputs'>, <class 'mediapipe.python.solution_base.SolutionOutputs'>, <class 'mediapipe.python.solution_base.SolutionOutputs'>, <class 'mediapipe.python.solution_base.SolutionOutputs'>, <class 'mediapipe.python.solution_base.SolutionOutputs'>, <class 'mediapipe.python.solution_base.SolutionOutputs'>, <class 'mediapipe.python.solution_base.SolutionOutputs'>, <class 'mediapipe.python.solution_base.SolutionOutputs'>, <class 'mediapipe.python.solution_base.SolutionOutputs'>, <class 'mediapipe.python.solution_base.SolutionOutputs'>, <class 'mediapipe.python.solution_base.SolutionOutputs'>, <class 'mediapipe.python.solution_base.SolutionOutputs'>, <class 'mediapipe.python.solution_base.SolutionOutputs'>, <class 'mediapipe.python.solution_base.SolutionOutputs'>, <class 'mediapipe.python.solution_base.SolutionOutputs'>, <class 'mediapipe.python.solution_base.SolutionOutputs'>, <class 'mediapipe.python.solution_base.SolutionOutputs'>, <class 'mediapipe.python.solution_base.SolutionOutputs'>, <class 'mediapipe.python.solution_base.SolutionOutputs'>, <class 'mediapipe.python.solution_base.SolutionOutputs'>, <class 'mediapipe.python.solution_base.SolutionOutputs'>, <class 'mediapipe.python.solution_base.SolutionOutputs'>, <class 'mediapipe.python.solution_base.SolutionOutputs'>, <class 'mediapipe.python.solution_base.SolutionOutputs'>, <class 'mediapipe.python.solution_base.SolutionOutputs'>, <class 'mediapipe.python.solution_base.SolutionOutputs'>, <class 'mediapipe.python.solution_base.SolutionOutputs'>, <class 'mediapipe.python.solution_base.SolutionOutputs'>, <class 'mediapipe.python.solution_base.SolutionOutputs'>, <class 'mediapipe.python.solution_base.SolutionOutputs'>, <class 'mediapipe.python.solution_base.SolutionOutputs'>, <class 'mediapipe.python.solution_base.SolutionOutputs'>, <class 'mediapipe.python.solution_base.SolutionOutputs'>, <class 'mediapipe.python.solution_base.SolutionOutputs'>, <class 'mediapipe.python.solution_base.SolutionOutputs'>, <class 'mediapipe.python.solution_base.SolutionOutputs'>, <class 'mediapipe.python.solution_base.SolutionOutputs'>, <class 'mediapipe.python.solution_base.SolutionOutputs'>, <class 'mediapipe.python.solution_base.SolutionOutputs'>, <class 'mediapipe.python.solution_base.SolutionOutputs'>, <class 'mediapipe.python.solution_base.SolutionOutputs'>, <class 'mediapipe.python.solution_base.SolutionOutputs'>, <class 'mediapipe.python.solution_base.SolutionOutputs'>, <class 'mediapipe.python.solution_base.SolutionOutputs'>, <class 'mediapipe.python.solution_base.SolutionOutputs'>, <class 'mediapipe.python.solution_base.SolutionOutputs'>, <class 'mediapipe.python.solution_base.SolutionOutputs'>, <class 'mediapipe.python.solution_base.SolutionOutputs'>, <class 'mediapipe.python.solution_base.SolutionOutputs'>, <class 'mediapipe.python.solution_base.SolutionOutputs'>, <class 'mediapipe.python.solution_base.SolutionOutputs'>, <class 'mediapipe.python.solution_base.SolutionOutputs'>, <class 'mediapipe.python.solution_base.SolutionOutputs'>, <class 'mediapipe.python.solution_base.SolutionOutputs'>, <class 'mediapipe.python.solution_base.SolutionOutputs'>, <class 'mediapipe.python.solution_base.SolutionOutputs'>, <class 'mediapipe.python.solution_base.SolutionOutputs'>, <class 'mediapipe.python.solution_base.SolutionOutputs'>, <class 'mediapipe.python.solution_base.SolutionOutputs'>, <class 'mediapipe.python.solution_base.SolutionOutputs'>, <class 'mediapipe.python.solution_base.SolutionOutputs'>, <class 'mediapipe.python.solution_base.SolutionOutputs'>, <class 'mediapipe.python.solution_base.SolutionOutputs'>, <class 'mediapipe.python.solution_base.SolutionOutputs'>, <class 'mediapipe.python.solution_base.SolutionOutputs'>, <class 'mediapipe.python.solution_base.SolutionOutputs'>, <class 'mediapipe.python.solution_base.SolutionOutputs'>, <class 'mediapipe.python.solution_base.SolutionOutputs'>, <class 'mediapipe.python.solution_base.SolutionOutputs'>, <class 'mediapipe.python.solution_base.SolutionOutputs'>, <class 'mediapipe.python.solution_base.SolutionOutputs'>, <class 'mediapipe.python.solution_base.SolutionOutputs'>, <class 'mediapipe.python.solution_base.SolutionOutputs'>, <class 'mediapipe.python.solution_base.SolutionOutputs'>, <class 'mediapipe.python.solution_base.SolutionOutputs'>, <class 'mediapipe.python.solution_base.SolutionOutputs'>, <class 'mediapipe.python.solution_base.SolutionOutputs'>, <class 'mediapipe.python.solution_base.SolutionOutputs'>, <class 'mediapipe.python.solution_base.SolutionOutputs'>, <class 'mediapipe.python.solution_base.SolutionOutputs'>, <class 'mediapipe.python.solution_base.SolutionOutputs'>, <class 'mediapipe.python.solution_base.SolutionOutputs'>, <class 'mediapipe.python.solution_base.SolutionOutputs'>, <class 'mediapipe.python.solution_base.SolutionOutputs'>, <class 'mediapipe.python.solution_base.SolutionOutputs'>, <class 'mediapipe.python.solution_base.SolutionOutputs'>, <class 'mediapipe.python.solution_base.SolutionOutputs'>, <class 'mediapipe.python.solution_base.SolutionOutputs'>, <class 'mediapipe.python.solution_base.SolutionOutputs'>, <class 'mediapipe.python.solution_base.SolutionOutputs'>, <class 'mediapipe.python.solution_base.SolutionOutputs'>, <class 'mediapipe.python.solution_base.SolutionOutputs'>, <class 'mediapipe.python.solution_base.SolutionOutputs'>, <class 'mediapipe.python.solution_base.SolutionOutputs'>, <class 'mediapipe.python.solution_base.SolutionOutputs'>, <class 'mediapipe.python.solution_base.SolutionOutputs'>, <class 'mediapipe.python.solution_base.SolutionOutputs'>, <class 'mediapipe.python.solution_base.SolutionOutputs'>, <class 'mediapipe.python.solution_base.SolutionOutputs'>, <class 'mediapipe.python.solution_base.SolutionOutputs'>, <class 'mediapipe.python.solution_base.SolutionOutputs'>, <class 'mediapipe.python.solution_base.SolutionOutputs'>, <class 'mediapipe.python.solution_base.SolutionOutputs'>, <class 'mediapipe.python.solution_base.SolutionOutputs'>, <class 'mediapipe.python.solution_base.SolutionOutputs'>, <class 'mediapipe.python.solution_base.SolutionOutputs'>, <class 'mediapipe.python.solution_base.SolutionOutputs'>, <class 'mediapipe.python.solution_base.SolutionOutputs'>, <class 'mediapipe.python.solution_base.SolutionOutputs'>, <class 'mediapipe.python.solution_base.SolutionOutputs'>, <class 'mediapipe.python.solution_base.SolutionOutputs'>, <class 'mediapipe.python.solution_base.SolutionOutputs'>, <class 'mediapipe.python.solution_base.SolutionOutputs'>, <class 'mediapipe.python.solution_base.SolutionOutputs'>, <class 'mediapipe.python.solution_base.SolutionOutputs'>, <class 'mediapipe.python.solution_base.SolutionOutputs'>, <class 'mediapipe.python.solution_base.SolutionOutputs'>, <class 'mediapipe.python.solution_base.SolutionOutputs'>, <class 'mediapipe.python.solution_base.SolutionOutputs'>, <class 'mediapipe.python.solution_base.SolutionOutputs'>, <class 'mediapipe.python.solution_base.SolutionOutputs'>, <class 'mediapipe.python.solution_base.SolutionOutputs'>, <class 'mediapipe.python.solution_base.SolutionOutputs'>, <class 'mediapipe.python.solution_base.SolutionOutputs'>, <class 'mediapipe.python.solution_base.SolutionOutputs'>, <class 'mediapipe.python.solution_base.SolutionOutputs'>, <class 'mediapipe.python.solution_base.SolutionOutputs'>, <class 'mediapipe.python.solution_base.SolutionOutputs'>, <class 'mediapipe.python.solution_base.SolutionOutputs'>, <class 'mediapipe.python.solution_base.SolutionOutputs'>, <class 'mediapipe.python.solution_base.SolutionOutputs'>, <class 'mediapipe.python.solution_base.SolutionOutputs'>, <class 'mediapipe.python.solution_base.SolutionOutputs'>, <class 'mediapipe.python.solution_base.SolutionOutputs'>, <class 'mediapipe.python.solution_base.SolutionOutputs'>, <class 'mediapipe.python.solution_base.SolutionOutputs'>, <class 'mediapipe.python.solution_base.SolutionOutputs'>, <class 'mediapipe.python.solution_base.SolutionOutputs'>, <class 'mediapipe.python.solution_base.SolutionOutputs'>, <class 'mediapipe.python.solution_base.SolutionOutputs'>, <class 'mediapipe.python.solution_base.SolutionOutputs'>, <class 'mediapipe.python.solution_base.SolutionOutputs'>, <class 'mediapipe.python.solution_base.SolutionOutputs'>, <class 'mediapipe.python.solution_base.SolutionOutputs'>, <class 'mediapipe.python.solution_base.SolutionOutputs'>, <class 'mediapipe.python.solution_base.SolutionOutputs'>, <class 'mediapipe.python.solution_base.SolutionOutputs'>, <class 'mediapipe.python.solution_base.SolutionOutputs'>, <class 'mediapipe.python.solution_base.SolutionOutputs'>, <class 'mediapipe.python.solution_base.SolutionOutputs'>, <class 'mediapipe.python.solution_base.SolutionOutputs'>, <class 'mediapipe.python.solution_base.SolutionOutputs'>, <class 'mediapipe.python.solution_base.SolutionOutputs'>, <class 'mediapipe.python.solution_base.SolutionOutputs'>, <class 'mediapipe.python.solution_base.SolutionOutputs'>, <class 'mediapipe.python.solution_base.SolutionOutputs'>, <class 'mediapipe.python.solution_base.SolutionOutputs'>, <class 'mediapipe.python.solution_base.SolutionOutputs'>, <class 'mediapipe.python.solution_base.SolutionOutputs'>, <class 'mediapipe.python.solution_base.SolutionOutputs'>, <class 'mediapipe.python.solution_base.SolutionOutputs'>, <class 'mediapipe.python.solution_base.SolutionOutputs'>, <class 'mediapipe.python.solution_base.SolutionOutputs'>, <class 'mediapipe.python.solution_base.SolutionOutputs'>, <class 'mediapipe.python.solution_base.SolutionOutputs'>, <class 'mediapipe.python.solution_base.SolutionOutputs'>, <class 'mediapipe.python.solution_base.SolutionOutputs'>, <class 'mediapipe.python.solution_base.SolutionOutputs'>, <class 'mediapipe.python.solution_base.SolutionOutputs'>, <class 'mediapipe.python.solution_base.SolutionOutputs'>, <class 'mediapipe.python.solution_base.SolutionOutputs'>, <class 'mediapipe.python.solution_base.SolutionOutputs'>, <class 'mediapipe.python.solution_base.SolutionOutputs'>, <class 'mediapipe.python.solution_base.SolutionOutputs'>, <class 'mediapipe.python.solution_base.SolutionOutputs'>, <class 'mediapipe.python.solution_base.SolutionOutputs'>, <class 'mediapipe.python.solution_base.SolutionOutputs'>, <class 'mediapipe.python.solution_base.SolutionOutputs'>, <class 'mediapipe.python.solution_base.SolutionOutputs'>, <class 'mediapipe.python.solution_base.SolutionOutputs'>, <class 'mediapipe.python.solution_base.SolutionOutputs'>, <class 'mediapipe.python.solution_base.SolutionOutputs'>, <class 'mediapipe.python.solution_base.SolutionOutputs'>, <class 'mediapipe.python.solution_base.SolutionOutputs'>, <class 'mediapipe.python.solution_base.SolutionOutputs'>, <class 'mediapipe.python.solution_base.SolutionOutputs'>, <class 'mediapipe.python.solution_base.SolutionOutputs'>, <class 'mediapipe.python.solution_base.SolutionOutputs'>, <class 'mediapipe.python.solution_base.SolutionOutputs'>, <class 'mediapipe.python.solution_base.SolutionOutputs'>, <class 'mediapipe.python.solution_base.SolutionOutputs'>, <class 'mediapipe.python.solution_base.SolutionOutputs'>, <class 'mediapipe.python.solution_base.SolutionOutputs'>, <class 'mediapipe.python.solution_base.SolutionOutputs'>, <class 'mediapipe.python.solution_base.SolutionOutputs'>, <class 'mediapipe.python.solution_base.SolutionOutputs'>, <class 'mediapipe.python.solution_base.SolutionOutputs'>, <class 'mediapipe.python.solution_base.SolutionOutputs'>, <class 'mediapipe.python.solution_base.SolutionOutputs'>, <class 'mediapipe.python.solution_base.SolutionOutputs'>, <class 'mediapipe.python.solution_base.SolutionOutputs'>, <class 'mediapipe.python.solution_base.SolutionOutputs'>, <class 'mediapipe.python.solution_base.SolutionOutputs'>, <class 'mediapipe.python.solution_base.SolutionOutputs'>, <class 'mediapipe.python.solution_base.SolutionOutputs'>, <class 'mediapipe.python.solution_base.SolutionOutputs'>, <class 'mediapipe.python.solution_base.SolutionOutputs'>, <class 'mediapipe.python.solution_base.SolutionOutputs'>, <class 'mediapipe.python.solution_base.SolutionOutputs'>, <class 'mediapipe.python.solution_base.SolutionOutputs'>, <class 'mediapipe.python.solution_base.SolutionOutputs'>, <class 'mediapipe.python.solution_base.SolutionOutputs'>, <class 'mediapipe.python.solution_base.SolutionOutputs'>, <class 'mediapipe.python.solution_base.SolutionOutputs'>, <class 'mediapipe.python.solution_base.SolutionOutputs'>, <class 'mediapipe.python.solution_base.SolutionOutputs'>, <class 'mediapipe.python.solution_base.SolutionOutputs'>, <class 'mediapipe.python.solution_base.SolutionOutputs'>, <class 'mediapipe.python.solution_base.SolutionOutputs'>, <class 'mediapipe.python.solution_base.SolutionOutputs'>, <class 'mediapipe.python.solution_base.SolutionOutputs'>, <class 'mediapipe.python.solution_base.SolutionOutputs'>, <class 'mediapipe.python.solution_base.SolutionOutputs'>, <class 'mediapipe.python.solution_base.SolutionOutputs'>, <class 'mediapipe.python.solution_base.SolutionOutputs'>, <class 'mediapipe.python.solution_base.SolutionOutputs'>, <class 'mediapipe.python.solution_base.SolutionOutputs'>, <class 'mediapipe.python.solution_base.SolutionOutputs'>, <class 'mediapipe.python.solution_base.SolutionOutputs'>, <class 'mediapipe.python.solution_base.SolutionOutputs'>, <class 'mediapipe.python.solution_base.SolutionOutputs'>, <class 'mediapipe.python.solution_base.SolutionOutputs'>, <class 'mediapipe.python.solution_base.SolutionOutputs'>, <class 'mediapipe.python.solution_base.SolutionOutputs'>, <class 'mediapipe.python.solution_base.SolutionOutputs'>, <class 'mediapipe.python.solution_base.SolutionOutputs'>, <class 'mediapipe.python.solution_base.SolutionOutputs'>, <class 'mediapipe.python.solution_base.SolutionOutputs'>, <class 'mediapipe.python.solution_base.SolutionOutputs'>, <class 'mediapipe.python.solution_base.SolutionOutputs'>, <class 'mediapipe.python.solution_base.SolutionOutputs'>, <class 'mediapipe.python.solution_base.SolutionOutputs'>, <class 'mediapipe.python.solution_base.SolutionOutputs'>, <class 'mediapipe.python.solution_base.SolutionOutputs'>, <class 'mediapipe.python.solution_base.SolutionOutputs'>, <class 'mediapipe.python.solution_base.SolutionOutputs'>, <class 'mediapipe.python.solution_base.SolutionOutputs'>, <class 'mediapipe.python.solution_base.SolutionOutputs'>, <class 'mediapipe.python.solution_base.SolutionOutputs'>, <class 'mediapipe.python.solution_base.SolutionOutputs'>, <class 'mediapipe.python.solution_base.SolutionOutputs'>, <class 'mediapipe.python.solution_base.SolutionOutputs'>, <class 'mediapipe.python.solution_base.SolutionOutputs'>, <class 'mediapipe.python.solution_base.SolutionOutputs'>, <class 'mediapipe.python.solution_base.SolutionOutputs'>, <class 'mediapipe.python.solution_base.SolutionOutputs'>, <class 'mediapipe.python.solution_base.SolutionOutputs'>, <class 'mediapipe.python.solution_base.SolutionOutputs'>, <class 'mediapipe.python.solution_base.SolutionOutputs'>, <class 'mediapipe.python.solution_base.SolutionOutputs'>, <class 'mediapipe.python.solution_base.SolutionOutputs'>, <class 'mediapipe.python.solution_base.SolutionOutputs'>, <class 'mediapipe.python.solution_base.SolutionOutputs'>, <class 'mediapipe.python.solution_base.SolutionOutputs'>, <class 'mediapipe.python.solution_base.SolutionOutputs'>, <class 'mediapipe.python.solution_base.SolutionOutputs'>, <class 'mediapipe.python.solution_base.SolutionOutputs'>, <class 'mediapipe.python.solution_base.SolutionOutputs'>, <class 'mediapipe.python.solution_base.SolutionOutputs'>, <class 'mediapipe.python.solution_base.SolutionOutputs'>, <class 'mediapipe.python.solution_base.SolutionOutputs'>, <class 'mediapipe.python.solution_base.SolutionOutputs'>, <class 'mediapipe.python.solution_base.SolutionOutputs'>, <class 'mediapipe.python.solution_base.SolutionOutputs'>, <class 'mediapipe.python.solution_base.SolutionOutputs'>, <class 'mediapipe.python.solution_base.SolutionOutputs'>, <class 'mediapipe.python.solution_base.SolutionOutputs'>, <class 'mediapipe.python.solution_base.SolutionOutputs'>, <class 'mediapipe.python.solution_base.SolutionOutputs'>, <class 'mediapipe.python.solution_base.SolutionOutputs'>, <class 'mediapipe.python.solution_base.SolutionOutputs'>, <class 'mediapipe.python.solution_base.SolutionOutputs'>, <class 'mediapipe.python.solution_base.SolutionOutputs'>, <class 'mediapipe.python.solution_base.SolutionOutputs'>, <class 'mediapipe.python.solution_base.SolutionOutputs'>, <class 'mediapipe.python.solution_base.SolutionOutputs'>, <class 'mediapipe.python.solution_base.SolutionOutputs'>, <class 'mediapipe.python.solution_base.SolutionOutputs'>, <class 'mediapipe.python.solution_base.SolutionOutputs'>, <class 'mediapipe.python.solution_base.SolutionOutputs'>, <class 'mediapipe.python.solution_base.SolutionOutputs'>, <class 'mediapipe.python.solution_base.SolutionOutputs'>, <class 'mediapipe.python.solution_base.SolutionOutputs'>, <class 'mediapipe.python.solution_base.SolutionOutputs'>, <class 'mediapipe.python.solution_base.SolutionOutputs'>, <class 'mediapipe.python.solution_base.SolutionOutputs'>, <class 'mediapipe.python.solution_base.SolutionOutputs'>, <class 'mediapipe.python.solution_base.SolutionOutputs'>, <class 'mediapipe.python.solution_base.SolutionOutputs'>, <class 'mediapipe.python.solution_base.SolutionOutputs'>, <class 'mediapipe.python.solution_base.SolutionOutputs'>, <class 'mediapipe.python.solution_base.SolutionOutputs'>, <class 'mediapipe.python.solution_base.SolutionOutputs'>, <class 'mediapipe.python.solution_base.SolutionOutputs'>, <class 'mediapipe.python.solution_base.SolutionOutputs'>, <class 'mediapipe.python.solution_base.SolutionOutputs'>, <class 'mediapipe.python.solution_base.SolutionOutputs'>, <class 'mediapipe.python.solution_base.SolutionOutputs'>, <class 'mediapipe.python.solution_base.SolutionOutputs'>, <class 'mediapipe.python.solution_base.SolutionOutputs'>, <class 'mediapipe.python.solution_base.SolutionOutputs'>, <class 'mediapipe.python.solution_base.SolutionOutputs'>, <class 'mediapipe.python.solution_base.SolutionOutputs'>, <class 'mediapipe.python.solution_base.SolutionOutputs'>, <class 'mediapipe.python.solution_base.SolutionOutputs'>, <class 'mediapipe.python.solution_base.SolutionOutputs'>, <class 'mediapipe.python.solution_base.SolutionOutputs'>, <class 'mediapipe.python.solution_base.SolutionOutputs'>, <class 'mediapipe.python.solution_base.SolutionOutputs'>, <class 'mediapipe.python.solution_base.SolutionOutputs'>, <class 'mediapipe.python.solution_base.SolutionOutputs'>, <class 'mediapipe.python.solution_base.SolutionOutputs'>, <class 'mediapipe.python.solution_base.SolutionOutputs'>, <class 'mediapipe.python.solution_base.SolutionOutputs'>, <class 'mediapipe.python.solution_base.SolutionOutputs'>, <class 'mediapipe.python.solution_base.SolutionOutputs'>, <class 'mediapipe.python.solution_base.SolutionOutputs'>, <class 'mediapipe.python.solution_base.SolutionOutputs'>, <class 'mediapipe.python.solution_base.SolutionOutputs'>, <class 'mediapipe.python.solution_base.SolutionOutputs'>, <class 'mediapipe.python.solution_base.SolutionOutputs'>, <class 'mediapipe.python.solution_base.SolutionOutputs'>, <class 'mediapipe.python.solution_base.SolutionOutputs'>, <class 'mediapipe.python.solution_base.SolutionOutputs'>, <class 'mediapipe.python.solution_base.SolutionOutputs'>, <class 'mediapipe.python.solution_base.SolutionOutputs'>, <class 'mediapipe.python.solution_base.SolutionOutputs'>, <class 'mediapipe.python.solution_base.SolutionOutputs'>, <class 'mediapipe.python.solution_base.SolutionOutputs'>, <class 'mediapipe.python.solution_base.SolutionOutputs'>, <class 'mediapipe.python.solution_base.SolutionOutputs'>, <class 'mediapipe.python.solution_base.SolutionOutputs'>, <class 'mediapipe.python.solution_base.SolutionOutputs'>, <class 'mediapipe.python.solution_base.SolutionOutputs'>, <class 'mediapipe.python.solution_base.SolutionOutputs'>, <class 'mediapipe.python.solution_base.SolutionOutputs'>, <class 'mediapipe.python.solution_base.SolutionOutputs'>, <class 'mediapipe.python.solution_base.SolutionOutputs'>, <class 'mediapipe.python.solution_base.SolutionOutputs'>, <class 'mediapipe.python.solution_base.SolutionOutputs'>, <class 'mediapipe.python.solution_base.SolutionOutputs'>, <class 'mediapipe.python.solution_base.SolutionOutputs'>, <class 'mediapipe.python.solution_base.SolutionOutputs'>, <class 'mediapipe.python.solution_base.SolutionOutputs'>, <class 'mediapipe.python.solution_base.SolutionOutputs'>, <class 'mediapipe.python.solution_base.SolutionOutputs'>, <class 'mediapipe.python.solution_base.SolutionOutputs'>, <class 'mediapipe.python.solution_base.SolutionOutputs'>, <class 'mediapipe.python.solution_base.SolutionOutputs'>, <class 'mediapipe.python.solution_base.SolutionOutputs'>, <class 'mediapipe.python.solution_base.SolutionOutputs'>, <class 'mediapipe.python.solution_base.SolutionOutputs'>, <class 'mediapipe.python.solution_base.SolutionOutputs'>, <class 'mediapipe.python.solution_base.SolutionOutputs'>, <class 'mediapipe.python.solution_base.SolutionOutputs'>, <class 'mediapipe.python.solution_base.SolutionOutputs'>, <class 'mediapipe.python.solution_base.SolutionOutputs'>, <class 'mediapipe.python.solution_base.SolutionOutputs'>, <class 'mediapipe.python.solution_base.SolutionOutputs'>, <class 'mediapipe.python.solution_base.SolutionOutputs'>, <class 'mediapipe.python.solution_base.SolutionOutputs'>, <class 'mediapipe.python.solution_base.SolutionOutputs'>, <class 'mediapipe.python.solution_base.SolutionOutputs'>, <class 'mediapipe.python.solution_base.SolutionOutputs'>, <class 'mediapipe.python.solution_base.SolutionOutputs'>, <class 'mediapipe.python.solution_base.SolutionOutputs'>, <class 'mediapipe.python.solution_base.SolutionOutputs'>, <class 'mediapipe.python.solution_base.SolutionOutputs'>, <class 'mediapipe.python.solution_base.SolutionOutputs'>, <class 'mediapipe.python.solution_base.SolutionOutputs'>, <class 'mediapipe.python.solution_base.SolutionOutputs'>, <class 'mediapipe.python.solution_base.SolutionOutputs'>, <class 'mediapipe.python.solution_base.SolutionOutputs'>, <class 'mediapipe.python.solution_base.SolutionOutputs'>, <class 'mediapipe.python.solution_base.SolutionOutputs'>, <class 'mediapipe.python.solution_base.SolutionOutputs'>, <class 'mediapipe.python.solution_base.SolutionOutputs'>, <class 'mediapipe.python.solution_base.SolutionOutputs'>, <class 'mediapipe.python.solution_base.SolutionOutputs'>, <class 'mediapipe.python.solution_base.SolutionOutputs'>, <class 'mediapipe.python.solution_base.SolutionOutputs'>, <class 'mediapipe.python.solution_base.SolutionOutputs'>, <class 'mediapipe.python.solution_base.SolutionOutputs'>, <class 'mediapipe.python.solution_base.SolutionOutputs'>, <class 'mediapipe.python.solution_base.SolutionOutputs'>, <class 'mediapipe.python.solution_base.SolutionOutputs'>, <class 'mediapipe.python.solution_base.SolutionOutputs'>, <class 'mediapipe.python.solution_base.SolutionOutputs'>, <class 'mediapipe.python.solution_base.SolutionOutputs'>, <class 'mediapipe.python.solution_base.SolutionOutputs'>, <class 'mediapipe.python.solution_base.SolutionOutputs'>, <class 'mediapipe.python.solution_base.SolutionOutputs'>, <class 'mediapipe.python.solution_base.SolutionOutputs'>, <class 'mediapipe.python.solution_base.SolutionOutputs'>, <class 'mediapipe.python.solution_base.SolutionOutputs'>, <class 'mediapipe.python.solution_base.SolutionOutputs'>, <class 'mediapipe.python.solution_base.SolutionOutputs'>, <class 'mediapipe.python.solution_base.SolutionOutputs'>, <class 'mediapipe.python.solution_base.SolutionOutputs'>, <class 'mediapipe.python.solution_base.SolutionOutputs'>, <class 'mediapipe.python.solution_base.SolutionOutputs'>, <class 'mediapipe.python.solution_base.SolutionOutputs'>, <class 'mediapipe.python.solution_base.SolutionOutputs'>, <class 'mediapipe.python.solution_base.SolutionOutputs'>, <class 'mediapipe.python.solution_base.SolutionOutputs'>, <class 'mediapipe.python.solution_base.SolutionOutputs'>, <class 'mediapipe.python.solution_base.SolutionOutputs'>, <class 'mediapipe.python.solution_base.SolutionOutputs'>, <class 'mediapipe.python.solution_base.SolutionOutputs'>, <class 'mediapipe.python.solution_base.SolutionOutputs'>, <class 'mediapipe.python.solution_base.SolutionOutputs'>, <class 'mediapipe.python.solution_base.SolutionOutputs'>, <class 'mediapipe.python.solution_base.SolutionOutputs'>, <class 'mediapipe.python.solution_base.SolutionOutputs'>, <class 'mediapipe.python.solution_base.SolutionOutputs'>, <class 'mediapipe.python.solution_base.SolutionOutputs'>, <class 'mediapipe.python.solution_base.SolutionOutputs'>, <class 'mediapipe.python.solution_base.SolutionOutputs'>, <class 'mediapipe.python.solution_base.SolutionOutputs'>, <class 'mediapipe.python.solution_base.SolutionOutputs'>, <class 'mediapipe.python.solution_base.SolutionOutputs'>, <class 'mediapipe.python.solution_base.SolutionOutputs'>, <class 'mediapipe.python.solution_base.SolutionOutputs'>, <class 'mediapipe.python.solution_base.SolutionOutputs'>, <class 'mediapipe.python.solution_base.SolutionOutputs'>, <class 'mediapipe.python.solution_base.SolutionOutputs'>, <class 'mediapipe.python.solution_base.SolutionOutputs'>, <class 'mediapipe.python.solution_base.SolutionOutputs'>, <class 'mediapipe.python.solution_base.SolutionOutputs'>, <class 'mediapipe.python.solution_base.SolutionOutputs'>, <class 'mediapipe.python.solution_base.SolutionOutputs'>, <class 'mediapipe.python.solution_base.SolutionOutputs'>, <class 'mediapipe.python.solution_base.SolutionOutputs'>, <class 'mediapipe.python.solution_base.SolutionOutputs'>, <class 'mediapipe.python.solution_base.SolutionOutputs'>, <class 'mediapipe.python.solution_base.SolutionOutputs'>, <class 'mediapipe.python.solution_base.SolutionOutputs'>, <class 'mediapipe.python.solution_base.SolutionOutputs'>, <class 'mediapipe.python.solution_base.SolutionOutputs'>, <class 'mediapipe.python.solution_base.SolutionOutputs'>, <class 'mediapipe.python.solution_base.SolutionOutputs'>, <class 'mediapipe.python.solution_base.SolutionOutputs'>, <class 'mediapipe.python.solution_base.SolutionOutputs'>, <class 'mediapipe.python.solution_base.SolutionOutputs'>, <class 'mediapipe.python.solution_base.SolutionOutputs'>, <class 'mediapipe.python.solution_base.SolutionOutputs'>, <class 'mediapipe.python.solution_base.SolutionOutputs'>, <class 'mediapipe.python.solution_base.SolutionOutputs'>, <class 'mediapipe.python.solution_base.SolutionOutputs'>, <class 'mediapipe.python.solution_base.SolutionOutputs'>, <class 'mediapipe.python.solution_base.SolutionOutputs'>, <class 'mediapipe.python.solution_base.SolutionOutputs'>, <class 'mediapipe.python.solution_base.SolutionOutputs'>, <class 'mediapipe.python.solution_base.SolutionOutputs'>, <class 'mediapipe.python.solution_base.SolutionOutputs'>, <class 'mediapipe.python.solution_base.SolutionOutputs'>, <class 'mediapipe.python.solution_base.SolutionOutputs'>, <class 'mediapipe.python.solution_base.SolutionOutputs'>, <class 'mediapipe.python.solution_base.SolutionOutputs'>, <class 'mediapipe.python.solution_base.SolutionOutputs'>, <class 'mediapipe.python.solution_base.SolutionOutputs'>, <class 'mediapipe.python.solution_base.SolutionOutputs'>, <class 'mediapipe.python.solution_base.SolutionOutputs'>, <class 'mediapipe.python.solution_base.SolutionOutputs'>, <class 'mediapipe.python.solution_base.SolutionOutputs'>, <class 'mediapipe.python.solution_base.SolutionOutputs'>, <class 'mediapipe.python.solution_base.SolutionOutputs'>, <class 'mediapipe.python.solution_base.SolutionOutputs'>, <class 'mediapipe.python.solution_base.SolutionOutputs'>, <class 'mediapipe.python.solution_base.SolutionOutputs'>, <class 'mediapipe.python.solution_base.SolutionOutputs'>, <class 'mediapipe.python.solution_base.SolutionOutputs'>, <class 'mediapipe.python.solution_base.SolutionOutputs'>, <class 'mediapipe.python.solution_base.SolutionOutputs'>, <class 'mediapipe.python.solution_base.SolutionOutputs'>, <class 'mediapipe.python.solution_base.SolutionOutputs'>, <class 'mediapipe.python.solution_base.SolutionOutputs'>, <class 'mediapipe.python.solution_base.SolutionOutputs'>, <class 'mediapipe.python.solution_base.SolutionOutputs'>, <class 'mediapipe.python.solution_base.SolutionOutputs'>, <class 'mediapipe.python.solution_base.SolutionOutputs'>, <class 'mediapipe.python.solution_base.SolutionOutputs'>, <class 'mediapipe.python.solution_base.SolutionOutputs'>, <class 'mediapipe.python.solution_base.SolutionOutputs'>, <class 'mediapipe.python.solution_base.SolutionOutputs'>, <class 'mediapipe.python.solution_base.SolutionOutputs'>, <class 'mediapipe.python.solution_base.SolutionOutputs'>, <class 'mediapipe.python.solution_base.SolutionOutputs'>, <class 'mediapipe.python.solution_base.SolutionOutputs'>, <class 'mediapipe.python.solution_base.SolutionOutputs'>, <class 'mediapipe.python.solution_base.SolutionOutputs'>, <class 'mediapipe.python.solution_base.SolutionOutputs'>, <class 'mediapipe.python.solution_base.SolutionOutputs'>, <class 'mediapipe.python.solution_base.SolutionOutputs'>, <class 'mediapipe.python.solution_base.SolutionOutputs'>, <class 'mediapipe.python.solution_base.SolutionOutputs'>, <class 'mediapipe.python.solution_base.SolutionOutputs'>, <class 'mediapipe.python.solution_base.SolutionOutputs'>, <class 'mediapipe.python.solution_base.SolutionOutputs'>, <class 'mediapipe.python.solution_base.SolutionOutputs'>, <class 'mediapipe.python.solution_base.SolutionOutputs'>, <class 'mediapipe.python.solution_base.SolutionOutputs'>, <class 'mediapipe.python.solution_base.SolutionOutputs'>, <class 'mediapipe.python.solution_base.SolutionOutputs'>, <class 'mediapipe.python.solution_base.SolutionOutputs'>, <class 'mediapipe.python.solution_base.SolutionOutputs'>, <class 'mediapipe.python.solution_base.SolutionOutputs'>, <class 'mediapipe.python.solution_base.SolutionOutputs'>, <class 'mediapipe.python.solution_base.SolutionOutputs'>, <class 'mediapipe.python.solution_base.SolutionOutputs'>, <class 'mediapipe.python.solution_base.SolutionOutputs'>, <class 'mediapipe.python.solution_base.SolutionOutputs'>, <class 'mediapipe.python.solution_base.SolutionOutputs'>, <class 'mediapipe.python.solution_base.SolutionOutputs'>, <class 'mediapipe.python.solution_base.SolutionOutputs'>, <class 'mediapipe.python.solution_base.SolutionOutputs'>, <class 'mediapipe.python.solution_base.SolutionOutputs'>, <class 'mediapipe.python.solution_base.SolutionOutputs'>, <class 'mediapipe.python.solution_base.SolutionOutputs'>, <class 'mediapipe.python.solution_base.SolutionOutputs'>, <class 'mediapipe.python.solution_base.SolutionOutputs'>, <class 'mediapipe.python.solution_base.SolutionOutputs'>, <class 'mediapipe.python.solution_base.SolutionOutputs'>, <class 'mediapipe.python.solution_base.SolutionOutputs'>, <class 'mediapipe.python.solution_base.SolutionOutputs'>, <class 'mediapipe.python.solution_base.SolutionOutputs'>, <class 'mediapipe.python.solution_base.SolutionOutputs'>, <class 'mediapipe.python.solution_base.SolutionOutputs'>, <class 'mediapipe.python.solution_base.SolutionOutputs'>, <class 'mediapipe.python.solution_base.SolutionOutputs'>, <class 'mediapipe.python.solution_base.SolutionOutputs'>, <class 'mediapipe.python.solution_base.SolutionOutputs'>, <class 'mediapipe.python.solution_base.SolutionOutputs'>, <class 'mediapipe.python.solution_base.SolutionOutputs'>, <class 'mediapipe.python.solution_base.SolutionOutputs'>, <class 'mediapipe.python.solution_base.SolutionOutputs'>, <class 'mediapipe.python.solution_base.SolutionOutputs'>, <class 'mediapipe.python.solution_base.SolutionOutputs'>, <class 'mediapipe.python.solution_base.SolutionOutputs'>, <class 'mediapipe.python.solution_base.SolutionOutputs'>, <class 'mediapipe.python.solution_base.SolutionOutputs'>, <class 'mediapipe.python.solution_base.SolutionOutputs'>, <class 'mediapipe.python.solution_base.SolutionOutputs'>, <class 'mediapipe.python.solution_base.SolutionOutputs'>, <class 'mediapipe.python.solution_base.SolutionOutputs'>, <class 'mediapipe.python.solution_base.SolutionOutputs'>, <class 'mediapipe.python.solution_base.SolutionOutputs'>, <class 'mediapipe.python.solution_base.SolutionOutputs'>, <class 'mediapipe.python.solution_base.SolutionOutputs'>, <class 'mediapipe.python.solution_base.SolutionOutputs'>, <class 'mediapipe.python.solution_base.SolutionOutputs'>, <class 'mediapipe.python.solution_base.SolutionOutputs'>, <class 'mediapipe.python.solution_base.SolutionOutputs'>, <class 'mediapipe.python.solution_base.SolutionOutputs'>, <class 'mediapipe.python.solution_base.SolutionOutputs'>, <class 'mediapipe.python.solution_base.SolutionOutputs'>, <class 'mediapipe.python.solution_base.SolutionOutputs'>, <class 'mediapipe.python.solution_base.SolutionOutputs'>, <class 'mediapipe.python.solution_base.SolutionOutputs'>, <class 'mediapipe.python.solution_base.SolutionOutputs'>, <class 'mediapipe.python.solution_base.SolutionOutputs'>, <class 'mediapipe.python.solution_base.SolutionOutputs'>, <class 'mediapipe.python.solution_base.SolutionOutputs'>, <class 'mediapipe.python.solution_base.SolutionOutputs'>, <class 'mediapipe.python.solution_base.SolutionOutputs'>, <class 'mediapipe.python.solution_base.SolutionOutputs'>, <class 'mediapipe.python.solution_base.SolutionOutputs'>, <class 'mediapipe.python.solution_base.SolutionOutputs'>, <class 'mediapipe.python.solution_base.SolutionOutputs'>, <class 'mediapipe.python.solution_base.SolutionOutputs'>, <class 'mediapipe.python.solution_base.SolutionOutputs'>, <class 'mediapipe.python.solution_base.SolutionOutputs'>, <class 'mediapipe.python.solution_base.SolutionOutputs'>, <class 'mediapipe.python.solution_base.SolutionOutputs'>, <class 'mediapipe.python.solution_base.SolutionOutputs'>, <class 'mediapipe.python.solution_base.SolutionOutputs'>, <class 'mediapipe.python.solution_base.SolutionOutputs'>, <class 'mediapipe.python.solution_base.SolutionOutputs'>, <class 'mediapipe.python.solution_base.SolutionOutputs'>, <class 'mediapipe.python.solution_base.SolutionOutputs'>, <class 'mediapipe.python.solution_base.SolutionOutputs'>, <class 'mediapipe.python.solution_base.SolutionOutputs'>, <class 'mediapipe.python.solution_base.SolutionOutputs'>, <class 'mediapipe.python.solution_base.SolutionOutputs'>, <class 'mediapipe.python.solution_base.SolutionOutputs'>, <class 'mediapipe.python.solution_base.SolutionOutputs'>, <class 'mediapipe.python.solution_base.SolutionOutputs'>, <class 'mediapipe.python.solution_base.SolutionOutputs'>, <class 'mediapipe.python.solution_base.SolutionOutputs'>, <class 'mediapipe.python.solution_base.SolutionOutputs'>, <class 'mediapipe.python.solution_base.SolutionOutputs'>, <class 'mediapipe.python.solution_base.SolutionOutputs'>, <class 'mediapipe.python.solution_base.SolutionOutputs'>, <class 'mediapipe.python.solution_base.SolutionOutputs'>, <class 'mediapipe.python.solution_base.SolutionOutputs'>, <class 'mediapipe.python.solution_base.SolutionOutputs'>, <class 'mediapipe.python.solution_base.SolutionOutputs'>, <class 'mediapipe.python.solution_base.SolutionOutputs'>, <class 'mediapipe.python.solution_base.SolutionOutputs'>, <class 'mediapipe.python.solution_base.SolutionOutputs'>, <class 'mediapipe.python.solution_base.SolutionOutputs'>, <class 'mediapipe.python.solution_base.SolutionOutputs'>, <class 'mediapipe.python.solution_base.SolutionOutputs'>, <class 'mediapipe.python.solution_base.SolutionOutputs'>, <class 'mediapipe.python.solution_base.SolutionOutputs'>, <class 'mediapipe.python.solution_base.SolutionOutputs'>, <class 'mediapipe.python.solution_base.SolutionOutputs'>, <class 'mediapipe.python.solution_base.SolutionOutputs'>, <class 'mediapipe.python.solution_base.SolutionOutputs'>, <class 'mediapipe.python.solution_base.SolutionOutputs'>, <class 'mediapipe.python.solution_base.SolutionOutputs'>, <class 'mediapipe.python.solution_base.SolutionOutputs'>, <class 'mediapipe.python.solution_base.SolutionOutputs'>, <class 'mediapipe.python.solution_base.SolutionOutputs'>, <class 'mediapipe.python.solution_base.SolutionOutputs'>, <class 'mediapipe.python.solution_base.SolutionOutputs'>, <class 'mediapipe.python.solution_base.SolutionOutputs'>, <class 'mediapipe.python.solution_base.SolutionOutputs'>, <class 'mediapipe.python.solution_base.SolutionOutputs'>, <class 'mediapipe.python.solution_base.SolutionOutputs'>, <class 'mediapipe.python.solution_base.SolutionOutputs'>, <class 'mediapipe.python.solution_base.SolutionOutputs'>, <class 'mediapipe.python.solution_base.SolutionOutputs'>, <class 'mediapipe.python.solution_base.SolutionOutputs'>, <class 'mediapipe.python.solution_base.SolutionOutputs'>, <class 'mediapipe.python.solution_base.SolutionOutputs'>, <class 'mediapipe.python.solution_base.SolutionOutputs'>, <class 'mediapipe.python.solution_base.SolutionOutputs'>, <class 'mediapipe.python.solution_base.SolutionOutputs'>, <class 'mediapipe.python.solution_base.SolutionOutputs'>, <class 'mediapipe.python.solution_base.SolutionOutputs'>, <class 'mediapipe.python.solution_base.SolutionOutputs'>, <class 'mediapipe.python.solution_base.SolutionOutputs'>, <class 'mediapipe.python.solution_base.SolutionOutputs'>, <class 'mediapipe.python.solution_base.SolutionOutputs'>, <class 'mediapipe.python.solution_base.SolutionOutputs'>, <class 'mediapipe.python.solution_base.SolutionOutputs'>, <class 'mediapipe.python.solution_base.SolutionOutputs'>, <class 'mediapipe.python.solution_base.SolutionOutputs'>, <class 'mediapipe.python.solution_base.SolutionOutputs'>, <class 'mediapipe.python.solution_base.SolutionOutputs'>, <class 'mediapipe.python.solution_base.SolutionOutputs'>, <class 'mediapipe.python.solution_base.SolutionOutputs'>, <class 'mediapipe.python.solution_base.SolutionOutputs'>, <class 'mediapipe.python.solution_base.SolutionOutputs'>, <class 'mediapipe.python.solution_base.SolutionOutputs'>, <class 'mediapipe.python.solution_base.SolutionOutputs'>, <class 'mediapipe.python.solution_base.SolutionOutputs'>, <class 'mediapipe.python.solution_base.SolutionOutputs'>, <class 'mediapipe.python.solution_base.SolutionOutputs'>, <class 'mediapipe.python.solution_base.SolutionOutputs'>, <class 'mediapipe.python.solution_base.SolutionOutputs'>, <class 'mediapipe.python.solution_base.SolutionOutputs'>, <class 'mediapipe.python.solution_base.SolutionOutputs'>, <class 'mediapipe.python.solution_base.SolutionOutputs'>, <class 'mediapipe.python.solution_base.SolutionOutputs'>, <class 'mediapipe.python.solution_base.SolutionOutputs'>, <class 'mediapipe.python.solution_base.SolutionOutputs'>, <class 'mediapipe.python.solution_base.SolutionOutputs'>, <class 'mediapipe.python.solution_base.SolutionOutputs'>, <class 'mediapipe.python.solution_base.SolutionOutputs'>, <class 'mediapipe.python.solution_base.SolutionOutputs'>, <class 'mediapipe.python.solution_base.SolutionOutputs'>, <class 'mediapipe.python.solution_base.SolutionOutputs'>, <class 'mediapipe.python.solution_base.SolutionOutputs'>, <class 'mediapipe.python.solution_base.SolutionOutputs'>, <class 'mediapipe.python.solution_base.SolutionOutputs'>, <class 'mediapipe.python.solution_base.SolutionOutputs'>, <class 'mediapipe.python.solution_base.SolutionOutputs'>, <class 'mediapipe.python.solution_base.SolutionOutputs'>, <class 'mediapipe.python.solution_base.SolutionOutputs'>, <class 'mediapipe.python.solution_base.SolutionOutputs'>, <class 'mediapipe.python.solution_base.SolutionOutputs'>, <class 'mediapipe.python.solution_base.SolutionOutputs'>, <class 'mediapipe.python.solution_base.SolutionOutputs'>, <class 'mediapipe.python.solution_base.SolutionOutputs'>, <class 'mediapipe.python.solution_base.SolutionOutputs'>, <class 'mediapipe.python.solution_base.SolutionOutputs'>, <class 'mediapipe.python.solution_base.SolutionOutputs'>, <class 'mediapipe.python.solution_base.SolutionOutputs'>, <class 'mediapipe.python.solution_base.SolutionOutputs'>, <class 'mediapipe.python.solution_base.SolutionOutputs'>, <class 'mediapipe.python.solution_base.SolutionOutputs'>, <class 'mediapipe.python.solution_base.SolutionOutputs'>, <class 'mediapipe.python.solution_base.SolutionOutputs'>, <class 'mediapipe.python.solution_base.SolutionOutputs'>, <class 'mediapipe.python.solution_base.SolutionOutputs'>, <class 'mediapipe.python.solution_base.SolutionOutputs'>, <class 'mediapipe.python.solution_base.SolutionOutputs'>, <class 'mediapipe.python.solution_base.SolutionOutputs'>, <class 'mediapipe.python.solution_base.SolutionOutputs'>, <class 'mediapipe.python.solution_base.SolutionOutputs'>, <class 'mediapipe.python.solution_base.SolutionOutputs'>, <class 'mediapipe.python.solution_base.SolutionOutputs'>, <class 'mediapipe.python.solution_base.SolutionOutputs'>, <class 'mediapipe.python.solution_base.SolutionOutputs'>, <class 'mediapipe.python.solution_base.SolutionOutputs'>, <class 'mediapipe.python.solution_base.SolutionOutputs'>, <class 'mediapipe.python.solution_base.SolutionOutputs'>, <class 'mediapipe.python.solution_base.SolutionOutputs'>, <class 'mediapipe.python.solution_base.SolutionOutputs'>, <class 'mediapipe.python.solution_base.SolutionOutputs'>, <class 'mediapipe.python.solution_base.SolutionOutputs'>, <class 'mediapipe.python.solution_base.SolutionOutputs'>, <class 'mediapipe.python.solution_base.SolutionOutputs'>, <class 'mediapipe.python.solution_base.SolutionOutputs'>, <class 'mediapipe.python.solution_base.SolutionOutputs'>, <class 'mediapipe.python.solution_base.SolutionOutputs'>, <class 'mediapipe.python.solution_base.SolutionOutputs'>, <class 'mediapipe.python.solution_base.SolutionOutputs'>, <class 'mediapipe.python.solution_base.SolutionOutputs'>, <class 'mediapipe.python.solution_base.SolutionOutputs'>, <class 'mediapipe.python.solution_base.SolutionOutputs'>, <class 'mediapipe.python.solution_base.SolutionOutputs'>, <class 'mediapipe.python.solution_base.SolutionOutputs'>, <class 'mediapipe.python.solution_base.SolutionOutputs'>, <class 'mediapipe.python.solution_base.SolutionOutputs'>, <class 'mediapipe.python.solution_base.SolutionOutputs'>, <class 'mediapipe.python.solution_base.SolutionOutputs'>, <class 'mediapipe.python.solution_base.SolutionOutputs'>, <class 'mediapipe.python.solution_base.SolutionOutputs'>, <class 'mediapipe.python.solution_base.SolutionOutputs'>, <class 'mediapipe.python.solution_base.SolutionOutputs'>, <class 'mediapipe.python.solution_base.SolutionOutputs'>, <class 'mediapipe.python.solution_base.SolutionOutputs'>, <class 'mediapipe.python.solution_base.SolutionOutputs'>, <class 'mediapipe.python.solution_base.SolutionOutputs'>, <class 'mediapipe.python.solution_base.SolutionOutputs'>, <class 'mediapipe.python.solution_base.SolutionOutputs'>, <class 'mediapipe.python.solution_base.SolutionOutputs'>, <class 'mediapipe.python.solution_base.SolutionOutputs'>, <class 'mediapipe.python.solution_base.SolutionOutputs'>, <class 'mediapipe.python.solution_base.SolutionOutputs'>, <class 'mediapipe.python.solution_base.SolutionOutputs'>, <class 'mediapipe.python.solution_base.SolutionOutputs'>, <class 'mediapipe.python.solution_base.SolutionOutputs'>, <class 'mediapipe.python.solution_base.SolutionOutputs'>, <class 'mediapipe.python.solution_base.SolutionOutputs'>, <class 'mediapipe.python.solution_base.SolutionOutputs'>, <class 'mediapipe.python.solution_base.SolutionOutputs'>, <class 'mediapipe.python.solution_base.SolutionOutputs'>, <class 'mediapipe.python.solution_base.SolutionOutputs'>, <class 'mediapipe.python.solution_base.SolutionOutputs'>, <class 'mediapipe.python.solution_base.SolutionOutputs'>, <class 'mediapipe.python.solution_base.SolutionOutputs'>, <class 'mediapipe.python.solution_base.SolutionOutputs'>, <class 'mediapipe.python.solution_base.SolutionOutputs'>, <class 'mediapipe.python.solution_base.SolutionOutputs'>, <class 'mediapipe.python.solution_base.SolutionOutputs'>, <class 'mediapipe.python.solution_base.SolutionOutputs'>, <class 'mediapipe.python.solution_base.SolutionOutputs'>, <class 'mediapipe.python.solution_base.SolutionOutputs'>, <class 'mediapipe.python.solution_base.SolutionOutputs'>, <class 'mediapipe.python.solution_base.SolutionOutputs'>, <class 'mediapipe.python.solution_base.SolutionOutputs'>, <class 'mediapipe.python.solution_base.SolutionOutputs'>, <class 'mediapipe.python.solution_base.SolutionOutputs'>, <class 'mediapipe.python.solution_base.SolutionOutputs'>, <class 'mediapipe.python.solution_base.SolutionOutputs'>, <class 'mediapipe.python.solution_base.SolutionOutputs'>, <class 'mediapipe.python.solution_base.SolutionOutputs'>, <class 'mediapipe.python.solution_base.SolutionOutputs'>, <class 'mediapipe.python.solution_base.SolutionOutputs'>, <class 'mediapipe.python.solution_base.SolutionOutputs'>, <class 'mediapipe.python.solution_base.SolutionOutputs'>, <class 'mediapipe.python.solution_base.SolutionOutputs'>, <class 'mediapipe.python.solution_base.SolutionOutputs'>, <class 'mediapipe.python.solution_base.SolutionOutputs'>, <class 'mediapipe.python.solution_base.SolutionOutputs'>, <class 'mediapipe.python.solution_base.SolutionOutputs'>, <class 'mediapipe.python.solution_base.SolutionOutputs'>, <class 'mediapipe.python.solution_base.SolutionOutputs'>, <class 'mediapipe.python.solution_base.SolutionOutputs'>, <class 'mediapipe.python.solution_base.SolutionOutputs'>, <class 'mediapipe.python.solution_base.SolutionOutputs'>, <class 'mediapipe.python.solution_base.SolutionOutputs'>, <class 'mediapipe.python.solution_base.SolutionOutputs'>, <class 'mediapipe.python.solution_base.SolutionOutputs'>, <class 'mediapipe.python.solution_base.SolutionOutputs'>, <class 'mediapipe.python.solution_base.SolutionOutputs'>, <class 'mediapipe.python.solution_base.SolutionOutputs'>, <class 'mediapipe.python.solution_base.SolutionOutputs'>, <class 'mediapipe.python.solution_base.SolutionOutputs'>, <class 'mediapipe.python.solution_base.SolutionOutputs'>, <class 'mediapipe.python.solution_base.SolutionOutputs'>, <class 'mediapipe.python.solution_base.SolutionOutputs'>, <class 'mediapipe.python.solution_base.SolutionOutputs'>, <class 'mediapipe.python.solution_base.SolutionOutputs'>, <class 'mediapipe.python.solution_base.SolutionOutputs'>, <class 'mediapipe.python.solution_base.SolutionOutputs'>, <class 'mediapipe.python.solution_base.SolutionOutputs'>, <class 'mediapipe.python.solution_base.SolutionOutputs'>, <class 'mediapipe.python.solution_base.SolutionOutputs'>, <class 'mediapipe.python.solution_base.SolutionOutputs'>, <class 'mediapipe.python.solution_base.SolutionOutputs'>, <class 'mediapipe.python.solution_base.SolutionOutputs'>, <class 'mediapipe.python.solution_base.SolutionOutputs'>, <class 'mediapipe.python.solution_base.SolutionOutputs'>, <class 'mediapipe.python.solution_base.SolutionOutputs'>, <class 'mediapipe.python.solution_base.SolutionOutputs'>, <class 'mediapipe.python.solution_base.SolutionOutputs'>, <class 'mediapipe.python.solution_base.SolutionOutputs'>, <class 'mediapipe.python.solution_base.SolutionOutputs'>, <class 'mediapipe.python.solution_base.SolutionOutputs'>, <class 'mediapipe.python.solution_base.SolutionOutputs'>, <class 'mediapipe.python.solution_base.SolutionOutputs'>, <class 'mediapipe.python.solution_base.SolutionOutputs'>, <class 'mediapipe.python.solution_base.SolutionOutputs'>, <class 'mediapipe.python.solution_base.SolutionOutputs'>, <class 'mediapipe.python.solution_base.SolutionOutputs'>, <class 'mediapipe.python.solution_base.SolutionOutputs'>, <class 'mediapipe.python.solution_base.SolutionOutputs'>, <class 'mediapipe.python.solution_base.SolutionOutputs'>, <class 'mediapipe.python.solution_base.SolutionOutputs'>, <class 'mediapipe.python.solution_base.SolutionOutputs'>, <class 'mediapipe.python.solution_base.SolutionOutputs'>, <class 'mediapipe.python.solution_base.SolutionOutputs'>, <class 'mediapipe.python.solution_base.SolutionOutputs'>, <class 'mediapipe.python.solution_base.SolutionOutputs'>, <class 'mediapipe.python.solution_base.SolutionOutputs'>, <class 'mediapipe.python.solution_base.SolutionOutputs'>, <class 'mediapipe.python.solution_base.SolutionOutputs'>, <class 'mediapipe.python.solution_base.SolutionOutputs'>, <class 'mediapipe.python.solution_base.SolutionOutputs'>, <class 'mediapipe.python.solution_base.SolutionOutputs'>, <class 'mediapipe.python.solution_base.SolutionOutputs'>, <class 'mediapipe.python.solution_base.SolutionOutputs'>, <class 'mediapipe.python.solution_base.SolutionOutputs'>, <class 'mediapipe.python.solution_base.SolutionOutputs'>, <class 'mediapipe.python.solution_base.SolutionOutputs'>, <class 'mediapipe.python.solution_base.SolutionOutputs'>, <class 'mediapipe.python.solution_base.SolutionOutputs'>, <class 'mediapipe.python.solution_base.SolutionOutputs'>, <class 'mediapipe.python.solution_base.SolutionOutputs'>, <class 'mediapipe.python.solution_base.SolutionOutputs'>, <class 'mediapipe.python.solution_base.SolutionOutputs'>, <class 'mediapipe.python.solution_base.SolutionOutputs'>, <class 'mediapipe.python.solution_base.SolutionOutputs'>, <class 'mediapipe.python.solution_base.SolutionOutputs'>, <class 'mediapipe.python.solution_base.SolutionOutputs'>, <class 'mediapipe.python.solution_base.SolutionOutputs'>, <class 'mediapipe.python.solution_base.SolutionOutputs'>, <class 'mediapipe.python.solution_base.SolutionOutputs'>, <class 'mediapipe.python.solution_base.SolutionOutputs'>, <class 'mediapipe.python.solution_base.SolutionOutputs'>, <class 'mediapipe.python.solution_base.SolutionOutputs'>, <class 'mediapipe.python.solution_base.SolutionOutputs'>, <class 'mediapipe.python.solution_base.SolutionOutputs'>, <class 'mediapipe.python.solution_base.SolutionOutputs'>, <class 'mediapipe.python.solution_base.SolutionOutputs'>, <class 'mediapipe.python.solution_base.SolutionOutputs'>, <class 'mediapipe.python.solution_base.SolutionOutputs'>, <class 'mediapipe.python.solution_base.SolutionOutputs'>, <class 'mediapipe.python.solution_base.SolutionOutputs'>, <class 'mediapipe.python.solution_base.SolutionOutputs'>, <class 'mediapipe.python.solution_base.SolutionOutputs'>, <class 'mediapipe.python.solution_base.SolutionOutputs'>, <class 'mediapipe.python.solution_base.SolutionOutputs'>, <class 'mediapipe.python.solution_base.SolutionOutputs'>, <class 'mediapipe.python.solution_base.SolutionOutputs'>, <class 'mediapipe.python.solution_base.SolutionOutputs'>, <class 'mediapipe.python.solution_base.SolutionOutputs'>, <class 'mediapipe.python.solution_base.SolutionOutputs'>, <class 'mediapipe.python.solution_base.SolutionOutputs'>, <class 'mediapipe.python.solution_base.SolutionOutputs'>, <class 'mediapipe.python.solution_base.SolutionOutputs'>, <class 'mediapipe.python.solution_base.SolutionOutputs'>, <class 'mediapipe.python.solution_base.SolutionOutputs'>, <class 'mediapipe.python.solution_base.SolutionOutputs'>, <class 'mediapipe.python.solution_base.SolutionOutputs'>, <class 'mediapipe.python.solution_base.SolutionOutputs'>, <class 'mediapipe.python.solution_base.SolutionOutputs'>, <class 'mediapipe.python.solution_base.SolutionOutputs'>, <class 'mediapipe.python.solution_base.SolutionOutputs'>, <class 'mediapipe.python.solution_base.SolutionOutputs'>, <class 'mediapipe.python.solution_base.SolutionOutputs'>, <class 'mediapipe.python.solution_base.SolutionOutputs'>, <class 'mediapipe.python.solution_base.SolutionOutputs'>, <class 'mediapipe.python.solution_base.SolutionOutputs'>, <class 'mediapipe.python.solution_base.SolutionOutputs'>, <class 'mediapipe.python.solution_base.SolutionOutputs'>, <class 'mediapipe.python.solution_base.SolutionOutputs'>, <class 'mediapipe.python.solution_base.SolutionOutputs'>, <class 'mediapipe.python.solution_base.SolutionOutputs'>, <class 'mediapipe.python.solution_base.SolutionOutputs'>, <class 'mediapipe.python.solution_base.SolutionOutputs'>, <class 'mediapipe.python.solution_base.SolutionOutputs'>, <class 'mediapipe.python.solution_base.SolutionOutputs'>, <class 'mediapipe.python.solution_base.SolutionOutputs'>, <class 'mediapipe.python.solution_base.SolutionOutputs'>, <class 'mediapipe.python.solution_base.SolutionOutputs'>, <class 'mediapipe.python.solution_base.SolutionOutputs'>, <class 'mediapipe.python.solution_base.SolutionOutputs'>, <class 'mediapipe.python.solution_base.SolutionOutputs'>, <class 'mediapipe.python.solution_base.SolutionOutputs'>, <class 'mediapipe.python.solution_base.SolutionOutputs'>, <class 'mediapipe.python.solution_base.SolutionOutputs'>, <class 'mediapipe.python.solution_base.SolutionOutputs'>, <class 'mediapipe.python.solution_base.SolutionOutputs'>, <class 'mediapipe.python.solution_base.SolutionOutputs'>, <class 'mediapipe.python.solution_base.SolutionOutputs'>, <class 'mediapipe.python.solution_base.SolutionOutputs'>, <class 'mediapipe.python.solution_base.SolutionOutputs'>, <class 'mediapipe.python.solution_base.SolutionOutputs'>, <class 'mediapipe.python.solution_base.SolutionOutputs'>, <class 'mediapipe.python.solution_base.SolutionOutputs'>, <class 'mediapipe.python.solution_base.SolutionOutputs'>, <class 'mediapipe.python.solution_base.SolutionOutputs'>, <class 'mediapipe.python.solution_base.SolutionOutputs'>, <class 'mediapipe.python.solution_base.SolutionOutputs'>, <class 'mediapipe.python.solution_base.SolutionOutputs'>, <class 'mediapipe.python.solution_base.SolutionOutputs'>, <class 'mediapipe.python.solution_base.SolutionOutputs'>, <class 'mediapipe.python.solution_base.SolutionOutputs'>, <class 'mediapipe.python.solution_base.SolutionOutputs'>, <class 'mediapipe.python.solution_base.SolutionOutputs'>, <class 'mediapipe.python.solution_base.SolutionOutputs'>, <class 'mediapipe.python.solution_base.SolutionOutputs'>, <class 'mediapipe.python.solution_base.SolutionOutputs'>, <class 'mediapipe.python.solution_base.SolutionOutputs'>, <class 'mediapipe.python.solution_base.SolutionOutputs'>, <class 'mediapipe.python.solution_base.SolutionOutputs'>, <class 'mediapipe.python.solution_base.SolutionOutputs'>, <class 'mediapipe.python.solution_base.SolutionOutputs'>, <class 'mediapipe.python.solution_base.SolutionOutputs'>, <class 'mediapipe.python.solution_base.SolutionOutputs'>, <class 'mediapipe.python.solution_base.SolutionOutputs'>, <class 'mediapipe.python.solution_base.SolutionOutputs'>, <class 'mediapipe.python.solution_base.SolutionOutputs'>, <class 'mediapipe.python.solution_base.SolutionOutputs'>, <class 'mediapipe.python.solution_base.SolutionOutputs'>, <class 'mediapipe.python.solution_base.SolutionOutputs'>, <class 'mediapipe.python.solution_base.SolutionOutputs'>, <class 'mediapipe.python.solution_base.SolutionOutputs'>, <class 'mediapipe.python.solution_base.SolutionOutputs'>, <class 'mediapipe.python.solution_base.SolutionOutputs'>, <class 'mediapipe.python.solution_base.SolutionOutputs'>, <class 'mediapipe.python.solution_base.SolutionOutputs'>, <class 'mediapipe.python.solution_base.SolutionOutputs'>, <class 'mediapipe.python.solution_base.SolutionOutputs'>, <class 'mediapipe.python.solution_base.SolutionOutputs'>, <class 'mediapipe.python.solution_base.SolutionOutputs'>, <class 'mediapipe.python.solution_base.SolutionOutputs'>, <class 'mediapipe.python.solution_base.SolutionOutputs'>, <class 'mediapipe.python.solution_base.SolutionOutputs'>, <class 'mediapipe.python.solution_base.SolutionOutputs'>, <class 'mediapipe.python.solution_base.SolutionOutputs'>, <class 'mediapipe.python.solution_base.SolutionOutputs'>, <class 'mediapipe.python.solution_base.SolutionOutputs'>, <class 'mediapipe.python.solution_base.SolutionOutputs'>, <class 'mediapipe.python.solution_base.SolutionOutputs'>, <class 'mediapipe.python.solution_base.SolutionOutputs'>, <class 'mediapipe.python.solution_base.SolutionOutputs'>, <class 'mediapipe.python.solution_base.SolutionOutputs'>, <class 'mediapipe.python.solution_base.SolutionOutputs'>, <class 'mediapipe.python.solution_base.SolutionOutputs'>, <class 'mediapipe.python.solution_base.SolutionOutputs'>, <class 'mediapipe.python.solution_base.SolutionOutputs'>, <class 'mediapipe.python.solution_base.SolutionOutputs'>, <class 'mediapipe.python.solution_base.SolutionOutputs'>, <class 'mediapipe.python.solution_base.SolutionOutputs'>, <class 'mediapipe.python.solution_base.SolutionOutputs'>, <class 'mediapipe.python.solution_base.SolutionOutputs'>, <class 'mediapipe.python.solution_base.SolutionOutputs'>, <class 'mediapipe.python.solution_base.SolutionOutputs'>, <class 'mediapipe.python.solution_base.SolutionOutputs'>, <class 'mediapipe.python.solution_base.SolutionOutputs'>, <class 'mediapipe.python.solution_base.SolutionOutputs'>, <class 'mediapipe.python.solution_base.SolutionOutputs'>, <class 'mediapipe.python.solution_base.SolutionOutputs'>, <class 'mediapipe.python.solution_base.SolutionOutputs'>, <class 'mediapipe.python.solution_base.SolutionOutputs'>, <class 'mediapipe.python.solution_base.SolutionOutputs'>, <class 'mediapipe.python.solution_base.SolutionOutputs'>, <class 'mediapipe.python.solution_base.SolutionOutputs'>, <class 'mediapipe.python.solution_base.SolutionOutputs'>, <class 'mediapipe.python.solution_base.SolutionOutputs'>, <class 'mediapipe.python.solution_base.SolutionOutputs'>, <class 'mediapipe.python.solution_base.SolutionOutputs'>, <class 'mediapipe.python.solution_base.SolutionOutputs'>, <class 'mediapipe.python.solution_base.SolutionOutputs'>, <class 'mediapipe.python.solution_base.SolutionOutputs'>, <class 'mediapipe.python.solution_base.SolutionOutputs'>, <class 'mediapipe.python.solution_base.SolutionOutputs'>, <class 'mediapipe.python.solution_base.SolutionOutputs'>, <class 'mediapipe.python.solution_base.SolutionOutputs'>, <class 'mediapipe.python.solution_base.SolutionOutputs'>, <class 'mediapipe.python.solution_base.SolutionOutputs'>, <class 'mediapipe.python.solution_base.SolutionOutputs'>, <class 'mediapipe.python.solution_base.SolutionOutputs'>, <class 'mediapipe.python.solution_base.SolutionOutputs'>, <class 'mediapipe.python.solution_base.SolutionOutputs'>, <class 'mediapipe.python.solution_base.SolutionOutputs'>, <class 'mediapipe.python.solution_base.SolutionOutputs'>, <class 'mediapipe.python.solution_base.SolutionOutputs'>, <class 'mediapipe.python.solution_base.SolutionOutputs'>, <class 'mediapipe.python.solution_base.SolutionOutputs'>, <class 'mediapipe.python.solution_base.SolutionOutputs'>, <class 'mediapipe.python.solution_base.SolutionOutputs'>, <class 'mediapipe.python.solution_base.SolutionOutputs'>, <class 'mediapipe.python.solution_base.SolutionOutputs'>, <class 'mediapipe.python.solution_base.SolutionOutputs'>, <class 'mediapipe.python.solution_base.SolutionOutputs'>, <class 'mediapipe.python.solution_base.SolutionOutputs'>, <class 'mediapipe.python.solution_base.SolutionOutputs'>, <class 'mediapipe.python.solution_base.SolutionOutputs'>, <class 'mediapipe.python.solution_base.SolutionOutputs'>, <class 'mediapipe.python.solution_base.SolutionOutputs'>, <class 'mediapipe.python.solution_base.SolutionOutputs'>, <class 'mediapipe.python.solution_base.SolutionOutputs'>, <class 'mediapipe.python.solution_base.SolutionOutputs'>, <class 'mediapipe.python.solution_base.SolutionOutputs'>, <class 'mediapipe.python.solution_base.SolutionOutputs'>, <class 'mediapipe.python.solution_base.SolutionOutputs'>, <class 'mediapipe.python.solution_base.SolutionOutputs'>, <class 'mediapipe.python.solution_base.SolutionOutputs'>, <class 'mediapipe.python.solution_base.SolutionOutputs'>, <class 'mediapipe.python.solution_base.SolutionOutputs'>, <class 'mediapipe.python.solution_base.SolutionOutputs'>, <class 'mediapipe.python.solution_base.SolutionOutputs'>, <class 'mediapipe.python.solution_base.SolutionOutputs'>, <class 'mediapipe.python.solution_base.SolutionOutputs'>, <class 'mediapipe.python.solution_base.SolutionOutputs'>, <class 'mediapipe.python.solution_base.SolutionOutputs'>, <class 'mediapipe.python.solution_base.SolutionOutputs'>, <class 'mediapipe.python.solution_base.SolutionOutputs'>, <class 'mediapipe.python.solution_base.SolutionOutputs'>, <class 'mediapipe.python.solution_base.SolutionOutputs'>, <class 'mediapipe.python.solution_base.SolutionOutputs'>, <class 'mediapipe.python.solution_base.SolutionOutputs'>, <class 'mediapipe.python.solution_base.SolutionOutputs'>, <class 'mediapipe.python.solution_base.SolutionOutputs'>, <class 'mediapipe.python.solution_base.SolutionOutputs'>, <class 'mediapipe.python.solution_base.SolutionOutputs'>, <class 'mediapipe.python.solution_base.SolutionOutputs'>, <class 'mediapipe.python.solution_base.SolutionOutputs'>, <class 'mediapipe.python.solution_base.SolutionOutputs'>, <class 'mediapipe.python.solution_base.SolutionOutputs'>, <class 'mediapipe.python.solution_base.SolutionOutputs'>, <class 'mediapipe.python.solution_base.SolutionOutputs'>, <class 'mediapipe.python.solution_base.SolutionOutputs'>, <class 'mediapipe.python.solution_base.SolutionOutputs'>, <class 'mediapipe.python.solution_base.SolutionOutputs'>, <class 'mediapipe.python.solution_base.SolutionOutputs'>, <class 'mediapipe.python.solution_base.SolutionOutputs'>, <class 'mediapipe.python.solution_base.SolutionOutputs'>, <class 'mediapipe.python.solution_base.SolutionOutputs'>, <class 'mediapipe.python.solution_base.SolutionOutputs'>, <class 'mediapipe.python.solution_base.SolutionOutputs'>, <class 'mediapipe.python.solution_base.SolutionOutputs'>, <class 'mediapipe.python.solution_base.SolutionOutputs'>, <class 'mediapipe.python.solution_base.SolutionOutputs'>, <class 'mediapipe.python.solution_base.SolutionOutputs'>, <class 'mediapipe.python.solution_base.SolutionOutputs'>, <class 'mediapipe.python.solution_base.SolutionOutputs'>, <class 'mediapipe.python.solution_base.SolutionOutputs'>, <class 'mediapipe.python.solution_base.SolutionOutputs'>, <class 'mediapipe.python.solution_base.SolutionOutputs'>, <class 'mediapipe.python.solution_base.SolutionOutputs'>, <class 'mediapipe.python.solution_base.SolutionOutputs'>, <class 'mediapipe.python.solution_base.SolutionOutputs'>, <class 'mediapipe.python.solution_base.SolutionOutputs'>, <class 'mediapipe.python.solution_base.SolutionOutputs'>, <class 'mediapipe.python.solution_base.SolutionOutputs'>, <class 'mediapipe.python.solution_base.SolutionOutputs'>, <class 'mediapipe.python.solution_base.SolutionOutputs'>, <class 'mediapipe.python.solution_base.SolutionOutputs'>, <class 'mediapipe.python.solution_base.SolutionOutputs'>, <class 'mediapipe.python.solution_base.SolutionOutputs'>, <class 'mediapipe.python.solution_base.SolutionOutputs'>, <class 'mediapipe.python.solution_base.SolutionOutputs'>, <class 'mediapipe.python.solution_base.SolutionOutputs'>, <class 'mediapipe.python.solution_base.SolutionOutputs'>, <class 'mediapipe.python.solution_base.SolutionOutputs'>, <class 'mediapipe.python.solution_base.SolutionOutputs'>, <class 'mediapipe.python.solution_base.SolutionOutputs'>, <class 'mediapipe.python.solution_base.SolutionOutputs'>, <class 'mediapipe.python.solution_base.SolutionOutputs'>, <class 'mediapipe.python.solution_base.SolutionOutputs'>, <class 'mediapipe.python.solution_base.SolutionOutputs'>, <class 'mediapipe.python.solution_base.SolutionOutputs'>, <class 'mediapipe.python.solution_base.SolutionOutputs'>, <class 'mediapipe.python.solution_base.SolutionOutputs'>, <class 'mediapipe.python.solution_base.SolutionOutputs'>, <class 'mediapipe.python.solution_base.SolutionOutputs'>, <class 'mediapipe.python.solution_base.SolutionOutputs'>, <class 'mediapipe.python.solution_base.SolutionOutputs'>, <class 'mediapipe.python.solution_base.SolutionOutputs'>, <class 'mediapipe.python.solution_base.SolutionOutputs'>, <class 'mediapipe.python.solution_base.SolutionOutputs'>, <class 'mediapipe.python.solution_base.SolutionOutputs'>, <class 'mediapipe.python.solution_base.SolutionOutputs'>, <class 'mediapipe.python.solution_base.SolutionOutputs'>, <class 'mediapipe.python.solution_base.SolutionOutputs'>, <class 'mediapipe.python.solution_base.SolutionOutputs'>, <class 'mediapipe.python.solution_base.SolutionOutputs'>, <class 'mediapipe.python.solution_base.SolutionOutputs'>, <class 'mediapipe.python.solution_base.SolutionOutputs'>, <class 'mediapipe.python.solution_base.SolutionOutputs'>, <class 'mediapipe.python.solution_base.SolutionOutputs'>, <class 'mediapipe.python.solution_base.SolutionOutputs'>, <class 'mediapipe.python.solution_base.SolutionOutputs'>, <class 'mediapipe.python.solution_base.SolutionOutputs'>, <class 'mediapipe.python.solution_base.SolutionOutputs'>, <class 'mediapipe.python.solution_base.SolutionOutputs'>, <class 'mediapipe.python.solution_base.SolutionOutputs'>, <class 'mediapipe.python.solution_base.SolutionOutputs'>, <class 'mediapipe.python.solution_base.SolutionOutputs'>, <class 'mediapipe.python.solution_base.SolutionOutputs'>, <class 'mediapipe.python.solution_base.SolutionOutputs'>, <class 'mediapipe.python.solution_base.SolutionOutputs'>, <class 'mediapipe.python.solution_base.SolutionOutputs'>, <class 'mediapipe.python.solution_base.SolutionOutputs'>, <class 'mediapipe.python.solution_base.SolutionOutputs'>, <class 'mediapipe.python.solution_base.SolutionOutputs'>, <class 'mediapipe.python.solution_base.SolutionOutputs'>, <class 'mediapipe.python.solution_base.SolutionOutputs'>, <class 'mediapipe.python.solution_base.SolutionOutputs'>, <class 'mediapipe.python.solution_base.SolutionOutputs'>, <class 'mediapipe.python.solution_base.SolutionOutputs'>, <class 'mediapipe.python.solution_base.SolutionOutputs'>, <class 'mediapipe.python.solution_base.SolutionOutputs'>, <class 'mediapipe.python.solution_base.SolutionOutputs'>, <class 'mediapipe.python.solution_base.SolutionOutputs'>, <class 'mediapipe.python.solution_base.SolutionOutputs'>, <class 'mediapipe.python.solution_base.SolutionOutputs'>, <class 'mediapipe.python.solution_base.SolutionOutputs'>, <class 'mediapipe.python.solution_base.SolutionOutputs'>, <class 'mediapipe.python.solution_base.SolutionOutputs'>, <class 'mediapipe.python.solution_base.SolutionOutputs'>, <class 'mediapipe.python.solution_base.SolutionOutputs'>, <class 'mediapipe.python.solution_base.SolutionOutputs'>, <class 'mediapipe.python.solution_base.SolutionOutputs'>, <class 'mediapipe.python.solution_base.SolutionOutputs'>, <class 'mediapipe.python.solution_base.SolutionOutputs'>, <class 'mediapipe.python.solution_base.SolutionOutputs'>, <class 'mediapipe.python.solution_base.SolutionOutputs'>, <class 'mediapipe.python.solution_base.SolutionOutputs'>, <class 'mediapipe.python.solution_base.SolutionOutputs'>, <class 'mediapipe.python.solution_base.SolutionOutputs'>, <class 'mediapipe.python.solution_base.SolutionOutputs'>, <class 'mediapipe.python.solution_base.SolutionOutputs'>, <class 'mediapipe.python.solution_base.SolutionOutputs'>, <class 'mediapipe.python.solution_base.SolutionOutputs'>, <class 'mediapipe.python.solution_base.SolutionOutputs'>, <class 'mediapipe.python.solution_base.SolutionOutputs'>, <class 'mediapipe.python.solution_base.SolutionOutputs'>, <class 'mediapipe.python.solution_base.SolutionOutputs'>, <class 'mediapipe.python.solution_base.SolutionOutputs'>, <class 'mediapipe.python.solution_base.SolutionOutputs'>, <class 'mediapipe.python.solution_base.SolutionOutputs'>, <class 'mediapipe.python.solution_base.SolutionOutputs'>, <class 'mediapipe.python.solution_base.SolutionOutputs'>, <class 'mediapipe.python.solution_base.SolutionOutputs'>, <class 'mediapipe.python.solution_base.SolutionOutputs'>, <class 'mediapipe.python.solution_base.SolutionOutputs'>, <class 'mediapipe.python.solution_base.SolutionOutputs'>, <class 'mediapipe.python.solution_base.SolutionOutputs'>, <class 'mediapipe.python.solution_base.SolutionOutputs'>, <class 'mediapipe.python.solution_base.SolutionOutputs'>, <class 'mediapipe.python.solution_base.SolutionOutputs'>, <class 'mediapipe.python.solution_base.SolutionOutputs'>, <class 'mediapipe.python.solution_base.SolutionOutputs'>, <class 'mediapipe.python.solution_base.SolutionOutputs'>, <class 'mediapipe.python.solution_base.SolutionOutputs'>, <class 'mediapipe.python.solution_base.SolutionOutputs'>, <class 'mediapipe.python.solution_base.SolutionOutputs'>, <class 'mediapipe.python.solution_base.SolutionOutputs'>, <class 'mediapipe.python.solution_base.SolutionOutputs'>, <class 'mediapipe.python.solution_base.SolutionOutputs'>, <class 'mediapipe.python.solution_base.SolutionOutputs'>, <class 'mediapipe.python.solution_base.SolutionOutputs'>, <class 'mediapipe.python.solution_base.SolutionOutputs'>, <class 'mediapipe.python.solution_base.SolutionOutputs'>, <class 'mediapipe.python.solution_base.SolutionOutputs'>, <class 'mediapipe.python.solution_base.SolutionOutputs'>, <class 'mediapipe.python.solution_base.SolutionOutputs'>, <class 'mediapipe.python.solution_base.SolutionOutputs'>, <class 'mediapipe.python.solution_base.SolutionOutputs'>, <class 'mediapipe.python.solution_base.SolutionOutputs'>, <class 'mediapipe.python.solution_base.SolutionOutputs'>, <class 'mediapipe.python.solution_base.SolutionOutputs'>, <class 'mediapipe.python.solution_base.SolutionOutputs'>, <class 'mediapipe.python.solution_base.SolutionOutputs'>, <class 'mediapipe.python.solution_base.SolutionOutputs'>, <class 'mediapipe.python.solution_base.SolutionOutputs'>, <class 'mediapipe.python.solution_base.SolutionOutputs'>, <class 'mediapipe.python.solution_base.SolutionOutputs'>, <class 'mediapipe.python.solution_base.SolutionOutputs'>, <class 'mediapipe.python.solution_base.SolutionOutputs'>, <class 'mediapipe.python.solution_base.SolutionOutputs'>, <class 'mediapipe.python.solution_base.SolutionOutputs'>, <class 'mediapipe.python.solution_base.SolutionOutputs'>, <class 'mediapipe.python.solution_base.SolutionOutputs'>, <class 'mediapipe.python.solution_base.SolutionOutputs'>, <class 'mediapipe.python.solution_base.SolutionOutputs'>, <class 'mediapipe.python.solution_base.SolutionOutputs'>, <class 'mediapipe.python.solution_base.SolutionOutputs'>, <class 'mediapipe.python.solution_base.SolutionOutputs'>, <class 'mediapipe.python.solution_base.SolutionOutputs'>, <class 'mediapipe.python.solution_base.SolutionOutputs'>, <class 'mediapipe.python.solution_base.SolutionOutputs'>, <class 'mediapipe.python.solution_base.SolutionOutputs'>, <class 'mediapipe.python.solution_base.SolutionOutputs'>, <class 'mediapipe.python.solution_base.SolutionOutputs'>, <class 'mediapipe.python.solution_base.SolutionOutputs'>, <class 'mediapipe.python.solution_base.SolutionOutputs'>, <class 'mediapipe.python.solution_base.SolutionOutputs'>, <class 'mediapipe.python.solution_base.SolutionOutputs'>, <class 'mediapipe.python.solution_base.SolutionOutputs'>, <class 'mediapipe.python.solution_base.SolutionOutputs'>, <class 'mediapipe.python.solution_base.SolutionOutputs'>, <class 'mediapipe.python.solution_base.SolutionOutputs'>, <class 'mediapipe.python.solution_base.SolutionOutputs'>, <class 'mediapipe.python.solution_base.SolutionOutputs'>, <class 'mediapipe.python.solution_base.SolutionOutputs'>, <class 'mediapipe.python.solution_base.SolutionOutputs'>, <class 'mediapipe.python.solution_base.SolutionOutputs'>, <class 'mediapipe.python.solution_base.SolutionOutputs'>, <class 'mediapipe.python.solution_base.SolutionOutputs'>, <class 'mediapipe.python.solution_base.SolutionOutputs'>, <class 'mediapipe.python.solution_base.SolutionOutputs'>, <class 'mediapipe.python.solution_base.SolutionOutputs'>, <class 'mediapipe.python.solution_base.SolutionOutputs'>, <class 'mediapipe.python.solution_base.SolutionOutputs'>, <class 'mediapipe.python.solution_base.SolutionOutputs'>, <class 'mediapipe.python.solution_base.SolutionOutputs'>, <class 'mediapipe.python.solution_base.SolutionOutputs'>, <class 'mediapipe.python.solution_base.SolutionOutputs'>, <class 'mediapipe.python.solution_base.SolutionOutputs'>, <class 'mediapipe.python.solution_base.SolutionOutputs'>, <class 'mediapipe.python.solution_base.SolutionOutputs'>, <class 'mediapipe.python.solution_base.SolutionOutputs'>, <class 'mediapipe.python.solution_base.SolutionOutputs'>, <class 'mediapipe.python.solution_base.SolutionOutputs'>, <class 'mediapipe.python.solution_base.SolutionOutputs'>, <class 'mediapipe.python.solution_base.SolutionOutputs'>, <class 'mediapipe.python.solution_base.SolutionOutputs'>, <class 'mediapipe.python.solution_base.SolutionOutputs'>, <class 'mediapipe.python.solution_base.SolutionOutputs'>, <class 'mediapipe.python.solution_base.SolutionOutputs'>, <class 'mediapipe.python.solution_base.SolutionOutputs'>, <class 'mediapipe.python.solution_base.SolutionOutputs'>, <class 'mediapipe.python.solution_base.SolutionOutputs'>, <class 'mediapipe.python.solution_base.SolutionOutputs'>, <class 'mediapipe.python.solution_base.SolutionOutputs'>, <class 'mediapipe.python.solution_base.SolutionOutputs'>, <class 'mediapipe.python.solution_base.SolutionOutputs'>, <class 'mediapipe.python.solution_base.SolutionOutputs'>, <class 'mediapipe.python.solution_base.SolutionOutputs'>, <class 'mediapipe.python.solution_base.SolutionOutputs'>, <class 'mediapipe.python.solution_base.SolutionOutputs'>, <class 'mediapipe.python.solution_base.SolutionOutputs'>, <class 'mediapipe.python.solution_base.SolutionOutputs'>, <class 'mediapipe.python.solution_base.SolutionOutputs'>, <class 'mediapipe.python.solution_base.SolutionOutputs'>, <class 'mediapipe.python.solution_base.SolutionOutputs'>, <class 'mediapipe.python.solution_base.SolutionOutputs'>, <class 'mediapipe.python.solution_base.SolutionOutputs'>, <class 'mediapipe.python.solution_base.SolutionOutputs'>, <class 'mediapipe.python.solution_base.SolutionOutputs'>, <class 'mediapipe.python.solution_base.SolutionOutputs'>, <class 'mediapipe.python.solution_base.SolutionOutputs'>, <class 'mediapipe.python.solution_base.SolutionOutputs'>, <class 'mediapipe.python.solution_base.SolutionOutputs'>, <class 'mediapipe.python.solution_base.SolutionOutputs'>, <class 'mediapipe.python.solution_base.SolutionOutputs'>, <class 'mediapipe.python.solution_base.SolutionOutputs'>, <class 'mediapipe.python.solution_base.SolutionOutputs'>, <class 'mediapipe.python.solution_base.SolutionOutputs'>, <class 'mediapipe.python.solution_base.SolutionOutputs'>, <class 'mediapipe.python.solution_base.SolutionOutputs'>, <class 'mediapipe.python.solution_base.SolutionOutputs'>, <class 'mediapipe.python.solution_base.SolutionOutputs'>, <class 'mediapipe.python.solution_base.SolutionOutputs'>, <class 'mediapipe.python.solution_base.SolutionOutputs'>, <class 'mediapipe.python.solution_base.SolutionOutputs'>, <class 'mediapipe.python.solution_base.SolutionOutputs'>, <class 'mediapipe.python.solution_base.SolutionOutputs'>, <class 'mediapipe.python.solution_base.SolutionOutputs'>, <class 'mediapipe.python.solution_base.SolutionOutputs'>, <class 'mediapipe.python.solution_base.SolutionOutputs'>, <class 'mediapipe.python.solution_base.SolutionOutputs'>, <class 'mediapipe.python.solution_base.SolutionOutputs'>, <class 'mediapipe.python.solution_base.SolutionOutputs'>, <class 'mediapipe.python.solution_base.SolutionOutputs'>, <class 'mediapipe.python.solution_base.SolutionOutputs'>, <class 'mediapipe.python.solution_base.SolutionOutputs'>, <class 'mediapipe.python.solution_base.SolutionOutputs'>, <class 'mediapipe.python.solution_base.SolutionOutputs'>, <class 'mediapipe.python.solution_base.SolutionOutputs'>, <class 'mediapipe.python.solution_base.SolutionOutputs'>, <class 'mediapipe.python.solution_base.SolutionOutputs'>, <class 'mediapipe.python.solution_base.SolutionOutputs'>, <class 'mediapipe.python.solution_base.SolutionOutputs'>, <class 'mediapipe.python.solution_base.SolutionOutputs'>, <class 'mediapipe.python.solution_base.SolutionOutputs'>, <class 'mediapipe.python.solution_base.SolutionOutputs'>, <class 'mediapipe.python.solution_base.SolutionOutputs'>, <class 'mediapipe.python.solution_base.SolutionOutputs'>, <class 'mediapipe.python.solution_base.SolutionOutputs'>, <class 'mediapipe.python.solution_base.SolutionOutputs'>, <class 'mediapipe.python.solution_base.SolutionOutputs'>, <class 'mediapipe.python.solution_base.SolutionOutputs'>, <class 'mediapipe.python.solution_base.SolutionOutputs'>, <class 'mediapipe.python.solution_base.SolutionOutputs'>, <class 'mediapipe.python.solution_base.SolutionOutputs'>, <class 'mediapipe.python.solution_base.SolutionOutputs'>, <class 'mediapipe.python.solution_base.SolutionOutputs'>, <class 'mediapipe.python.solution_base.SolutionOutputs'>, <class 'mediapipe.python.solution_base.SolutionOutputs'>, <class 'mediapipe.python.solution_base.SolutionOutputs'>, <class 'mediapipe.python.solution_base.SolutionOutputs'>, <class 'mediapipe.python.solution_base.SolutionOutputs'>, <class 'mediapipe.python.solution_base.SolutionOutputs'>, <class 'mediapipe.python.solution_base.SolutionOutputs'>, <class 'mediapipe.python.solution_base.SolutionOutputs'>, <class 'mediapipe.python.solution_base.SolutionOutputs'>, <class 'mediapipe.python.solution_base.SolutionOutputs'>, <class 'mediapipe.python.solution_base.SolutionOutputs'>, <class 'mediapipe.python.solution_base.SolutionOutputs'>, <class 'mediapipe.python.solution_base.SolutionOutputs'>, <class 'mediapipe.python.solution_base.SolutionOutputs'>, <class 'mediapipe.python.solution_base.SolutionOutputs'>, <class 'mediapipe.python.solution_base.SolutionOutputs'>, <class 'mediapipe.python.solution_base.SolutionOutputs'>, <class 'mediapipe.python.solution_base.SolutionOutputs'>, <class 'mediapipe.python.solution_base.SolutionOutputs'>, <class 'mediapipe.python.solution_base.SolutionOutputs'>, <class 'mediapipe.python.solution_base.SolutionOutputs'>, <class 'mediapipe.python.solution_base.SolutionOutputs'>, <class 'mediapipe.python.solution_base.SolutionOutputs'>, <class 'mediapipe.python.solution_base.SolutionOutputs'>, <class 'mediapipe.python.solution_base.SolutionOutputs'>, <class 'mediapipe.python.solution_base.SolutionOutputs'>, <class 'mediapipe.python.solution_base.SolutionOutputs'>, <class 'mediapipe.python.solution_base.SolutionOutputs'>, <class 'mediapipe.python.solution_base.SolutionOutputs'>, <class 'mediapipe.python.solution_base.SolutionOutputs'>, <class 'mediapipe.python.solution_base.SolutionOutputs'>, <class 'mediapipe.python.solution_base.SolutionOutputs'>, <class 'mediapipe.python.solution_base.SolutionOutputs'>, <class 'mediapipe.python.solution_base.SolutionOutputs'>, <class 'mediapipe.python.solution_base.SolutionOutputs'>, <class 'mediapipe.python.solution_base.SolutionOutputs'>, <class 'mediapipe.python.solution_base.SolutionOutputs'>, <class 'mediapipe.python.solution_base.SolutionOutputs'>, <class 'mediapipe.python.solution_base.SolutionOutputs'>, <class 'mediapipe.python.solution_base.SolutionOutputs'>, <class 'mediapipe.python.solution_base.SolutionOutputs'>, <class 'mediapipe.python.solution_base.SolutionOutputs'>, <class 'mediapipe.python.solution_base.SolutionOutputs'>, <class 'mediapipe.python.solution_base.SolutionOutputs'>, <class 'mediapipe.python.solution_base.SolutionOutputs'>, <class 'mediapipe.python.solution_base.SolutionOutputs'>, <class 'mediapipe.python.solution_base.SolutionOutputs'>, <class 'mediapipe.python.solution_base.SolutionOutputs'>, <class 'mediapipe.python.solution_base.SolutionOutputs'>, <class 'mediapipe.python.solution_base.SolutionOutputs'>, <class 'mediapipe.python.solution_base.SolutionOutputs'>, <class 'mediapipe.python.solution_base.SolutionOutputs'>, <class 'mediapipe.python.solution_base.SolutionOutputs'>, <class 'mediapipe.python.solution_base.SolutionOutputs'>, <class 'mediapipe.python.solution_base.SolutionOutputs'>, <class 'mediapipe.python.solution_base.SolutionOutputs'>, <class 'mediapipe.python.solution_base.SolutionOutputs'>, <class 'mediapipe.python.solution_base.SolutionOutputs'>, <class 'mediapipe.python.solution_base.SolutionOutputs'>, <class 'mediapipe.python.solution_base.SolutionOutputs'>, <class 'mediapipe.python.solution_base.SolutionOutputs'>, <class 'mediapipe.python.solution_base.SolutionOutputs'>, <class 'mediapipe.python.solution_base.SolutionOutputs'>, <class 'mediapipe.python.solution_base.SolutionOutputs'>, <class 'mediapipe.python.solution_base.SolutionOutputs'>, <class 'mediapipe.python.solution_base.SolutionOutputs'>, <class 'mediapipe.python.solution_base.SolutionOutputs'>, <class 'mediapipe.python.solution_base.SolutionOutputs'>, <class 'mediapipe.python.solution_base.SolutionOutputs'>, <class 'mediapipe.python.solution_base.SolutionOutputs'>, <class 'mediapipe.python.solution_base.SolutionOutputs'>, <class 'mediapipe.python.solution_base.SolutionOutputs'>, <class 'mediapipe.python.solution_base.SolutionOutputs'>, <class 'mediapipe.python.solution_base.SolutionOutputs'>, <class 'mediapipe.python.solution_base.SolutionOutputs'>, <class 'mediapipe.python.solution_base.SolutionOutputs'>, <class 'mediapipe.python.solution_base.SolutionOutputs'>, <class 'mediapipe.python.solution_base.SolutionOutputs'>, <class 'mediapipe.python.solution_base.SolutionOutputs'>, <class 'mediapipe.python.solution_base.SolutionOutputs'>, <class 'mediapipe.python.solution_base.SolutionOutputs'>, <class 'mediapipe.python.solution_base.SolutionOutputs'>, <class 'mediapipe.python.solution_base.SolutionOutputs'>, <class 'mediapipe.python.solution_base.SolutionOutputs'>, <class 'mediapipe.python.solution_base.SolutionOutputs'>, <class 'mediapipe.python.solution_base.SolutionOutputs'>, <class 'mediapipe.python.solution_base.SolutionOutputs'>, <class 'mediapipe.python.solution_base.SolutionOutputs'>, <class 'mediapipe.python.solution_base.SolutionOutputs'>, <class 'mediapipe.python.solution_base.SolutionOutputs'>, <class 'mediapipe.python.solution_base.SolutionOutputs'>, <class 'mediapipe.python.solution_base.SolutionOutputs'>, <class 'mediapipe.python.solution_base.SolutionOutputs'>, <class 'mediapipe.python.solution_base.SolutionOutputs'>, <class 'mediapipe.python.solution_base.SolutionOutputs'>, <class 'mediapipe.python.solution_base.SolutionOutputs'>, <class 'mediapipe.python.solution_base.SolutionOutputs'>, <class 'mediapipe.python.solution_base.SolutionOutputs'>, <class 'mediapipe.python.solution_base.SolutionOutputs'>, <class 'mediapipe.python.solution_base.SolutionOutputs'>, <class 'mediapipe.python.solution_base.SolutionOutputs'>, <class 'mediapipe.python.solution_base.SolutionOutputs'>, <class 'mediapipe.python.solution_base.SolutionOutputs'>, <class 'mediapipe.python.solution_base.SolutionOutputs'>, <class 'mediapipe.python.solution_base.SolutionOutputs'>, <class 'mediapipe.python.solution_base.SolutionOutputs'>, <class 'mediapipe.python.solution_base.SolutionOutputs'>, <class 'mediapipe.python.solution_base.SolutionOutputs'>, <class 'mediapipe.python.solution_base.SolutionOutputs'>, <class 'mediapipe.python.solution_base.SolutionOutputs'>, <class 'mediapipe.python.solution_base.SolutionOutputs'>, <class 'mediapipe.python.solution_base.SolutionOutputs'>, <class 'mediapipe.python.solution_base.SolutionOutputs'>, <class 'mediapipe.python.solution_base.SolutionOutputs'>, <class 'mediapipe.python.solution_base.SolutionOutputs'>, <class 'mediapipe.python.solution_base.SolutionOutputs'>, <class 'mediapipe.python.solution_base.SolutionOutputs'>, <class 'mediapipe.python.solution_base.SolutionOutputs'>, <class 'mediapipe.python.solution_base.SolutionOutputs'>, <class 'mediapipe.python.solution_base.SolutionOutputs'>, <class 'mediapipe.python.solution_base.SolutionOutputs'>, <class 'mediapipe.python.solution_base.SolutionOutputs'>, <class 'mediapipe.python.solution_base.SolutionOutputs'>, <class 'mediapipe.python.solution_base.SolutionOutputs'>, <class 'mediapipe.python.solution_base.SolutionOutputs'>, <class 'mediapipe.python.solution_base.SolutionOutputs'>, <class 'mediapipe.python.solution_base.SolutionOutputs'>, <class 'mediapipe.python.solution_base.SolutionOutputs'>, <class 'mediapipe.python.solution_base.SolutionOutputs'>, <class 'mediapipe.python.solution_base.SolutionOutputs'>, <class 'mediapipe.python.solution_base.SolutionOutputs'>, <class 'mediapipe.python.solution_base.SolutionOutputs'>, <class 'mediapipe.python.solution_base.SolutionOutputs'>, <class 'mediapipe.python.solution_base.SolutionOutputs'>, <class 'mediapipe.python.solution_base.SolutionOutputs'>, <class 'mediapipe.python.solution_base.SolutionOutputs'>, <class 'mediapipe.python.solution_base.SolutionOutputs'>, <class 'mediapipe.python.solution_base.SolutionOutputs'>, <class 'mediapipe.python.solution_base.SolutionOutputs'>, <class 'mediapipe.python.solution_base.SolutionOutputs'>, <class 'mediapipe.python.solution_base.SolutionOutputs'>, <class 'mediapipe.python.solution_base.SolutionOutputs'>, <class 'mediapipe.python.solution_base.SolutionOutputs'>, <class 'mediapipe.python.solution_base.SolutionOutputs'>, <class 'mediapipe.python.solution_base.SolutionOutputs'>, <class 'mediapipe.python.solution_base.SolutionOutputs'>, <class 'mediapipe.python.solution_base.SolutionOutputs'>, <class 'mediapipe.python.solution_base.SolutionOutputs'>, <class 'mediapipe.python.solution_base.SolutionOutputs'>, <class 'mediapipe.python.solution_base.SolutionOutputs'>, <class 'mediapipe.python.solution_base.SolutionOutputs'>, <class 'mediapipe.python.solution_base.SolutionOutputs'>, <class 'mediapipe.python.solution_base.SolutionOutputs'>, <class 'mediapipe.python.solution_base.SolutionOutputs'>, <class 'mediapipe.python.solution_base.SolutionOutputs'>, <class 'mediapipe.python.solution_base.SolutionOutputs'>, <class 'mediapipe.python.solution_base.SolutionOutputs'>, <class 'mediapipe.python.solution_base.SolutionOutputs'>, <class 'mediapipe.python.solution_base.SolutionOutputs'>, <class 'mediapipe.python.solution_base.SolutionOutputs'>, <class 'mediapipe.python.solution_base.SolutionOutputs'>, <class 'mediapipe.python.solution_base.SolutionOutputs'>, <class 'mediapipe.python.solution_base.SolutionOutputs'>, <class 'mediapipe.python.solution_base.SolutionOutputs'>, <class 'mediapipe.python.solution_base.SolutionOutputs'>, <class 'mediapipe.python.solution_base.SolutionOutputs'>, <class 'mediapipe.python.solution_base.SolutionOutputs'>, <class 'mediapipe.python.solution_base.SolutionOutputs'>, <class 'mediapipe.python.solution_base.SolutionOutputs'>, <class 'mediapipe.python.solution_base.SolutionOutputs'>, <class 'mediapipe.python.solution_base.SolutionOutputs'>, <class 'mediapipe.python.solution_base.SolutionOutputs'>, <class 'mediapipe.python.solution_base.SolutionOutputs'>, <class 'mediapipe.python.solution_base.SolutionOutputs'>, <class 'mediapipe.python.solution_base.SolutionOutputs'>, <class 'mediapipe.python.solution_base.SolutionOutputs'>, <class 'mediapipe.python.solution_base.SolutionOutputs'>, <class 'mediapipe.python.solution_base.SolutionOutputs'>, <class 'mediapipe.python.solution_base.SolutionOutputs'>, <class 'mediapipe.python.solution_base.SolutionOutputs'>, <class 'mediapipe.python.solution_base.SolutionOutputs'>, <class 'mediapipe.python.solution_base.SolutionOutputs'>, <class 'mediapipe.python.solution_base.SolutionOutputs'>, <class 'mediapipe.python.solution_base.SolutionOutputs'>, <class 'mediapipe.python.solution_base.SolutionOutputs'>, <class 'mediapipe.python.solution_base.SolutionOutputs'>, <class 'mediapipe.python.solution_base.SolutionOutputs'>, <class 'mediapipe.python.solution_base.SolutionOutputs'>, <class 'mediapipe.python.solution_base.SolutionOutputs'>, <class 'mediapipe.python.solution_base.SolutionOutputs'>, <class 'mediapipe.python.solution_base.SolutionOutputs'>, <class 'mediapipe.python.solution_base.SolutionOutputs'>, <class 'mediapipe.python.solution_base.SolutionOutputs'>, <class 'mediapipe.python.solution_base.SolutionOutputs'>, <class 'mediapipe.python.solution_base.SolutionOutputs'>, <class 'mediapipe.python.solution_base.SolutionOutputs'>, <class 'mediapipe.python.solution_base.SolutionOutputs'>, <class 'mediapipe.python.solution_base.SolutionOutputs'>, <class 'mediapipe.python.solution_base.SolutionOutputs'>, <class 'mediapipe.python.solution_base.SolutionOutputs'>, <class 'mediapipe.python.solution_base.SolutionOutputs'>, <class 'mediapipe.python.solution_base.SolutionOutputs'>, <class 'mediapipe.python.solution_base.SolutionOutputs'>, <class 'mediapipe.python.solution_base.SolutionOutputs'>, <class 'mediapipe.python.solution_base.SolutionOutputs'>, <class 'mediapipe.python.solution_base.SolutionOutputs'>, <class 'mediapipe.python.solution_base.SolutionOutputs'>, <class 'mediapipe.python.solution_base.SolutionOutputs'>, <class 'mediapipe.python.solution_base.SolutionOutputs'>, <class 'mediapipe.python.solution_base.SolutionOutputs'>, <class 'mediapipe.python.solution_base.SolutionOutputs'>, <class 'mediapipe.python.solution_base.SolutionOutputs'>, <class 'mediapipe.python.solution_base.SolutionOutputs'>, <class 'mediapipe.python.solution_base.SolutionOutputs'>, <class 'mediapipe.python.solution_base.SolutionOutputs'>, <class 'mediapipe.python.solution_base.SolutionOutputs'>, <class 'mediapipe.python.solution_base.SolutionOutputs'>, <class 'mediapipe.python.solution_base.SolutionOutputs'>, <class 'mediapipe.python.solution_base.SolutionOutputs'>, <class 'mediapipe.python.solution_base.SolutionOutputs'>, <class 'mediapipe.python.solution_base.SolutionOutputs'>, <class 'mediapipe.python.solution_base.SolutionOutputs'>, <class 'mediapipe.python.solution_base.SolutionOutputs'>, <class 'mediapipe.python.solution_base.SolutionOutputs'>, <class 'mediapipe.python.solution_base.SolutionOutputs'>, <class 'mediapipe.python.solution_base.SolutionOutputs'>, <class 'mediapipe.python.solution_base.SolutionOutputs'>, <class 'mediapipe.python.solution_base.SolutionOutputs'>, <class 'mediapipe.python.solution_base.SolutionOutputs'>, <class 'mediapipe.python.solution_base.SolutionOutputs'>, <class 'mediapipe.python.solution_base.SolutionOutputs'>, <class 'mediapipe.python.solution_base.SolutionOutputs'>, <class 'mediapipe.python.solution_base.SolutionOutputs'>, <class 'mediapipe.python.solution_base.SolutionOutputs'>, <class 'mediapipe.python.solution_base.SolutionOutputs'>, <class 'mediapipe.python.solution_base.SolutionOutputs'>, <class 'mediapipe.python.solution_base.SolutionOutputs'>, <class 'mediapipe.python.solution_base.SolutionOutputs'>, <class 'mediapipe.python.solution_base.SolutionOutputs'>, <class 'mediapipe.python.solution_base.SolutionOutputs'>, <class 'mediapipe.python.solution_base.SolutionOutputs'>, <class 'mediapipe.python.solution_base.SolutionOutputs'>, <class 'mediapipe.python.solution_base.SolutionOutputs'>, <class 'mediapipe.python.solution_base.SolutionOutputs'>, <class 'mediapipe.python.solution_base.SolutionOutputs'>, <class 'mediapipe.python.solution_base.SolutionOutputs'>, <class 'mediapipe.python.solution_base.SolutionOutputs'>, <class 'mediapipe.python.solution_base.SolutionOutputs'>, <class 'mediapipe.python.solution_base.SolutionOutputs'>, <class 'mediapipe.python.solution_base.SolutionOutputs'>, <class 'mediapipe.python.solution_base.SolutionOutputs'>, <class 'mediapipe.python.solution_base.SolutionOutputs'>, <class 'mediapipe.python.solution_base.SolutionOutputs'>, <class 'mediapipe.python.solution_base.SolutionOutputs'>, <class 'mediapipe.python.solution_base.SolutionOutputs'>, <class 'mediapipe.python.solution_base.SolutionOutputs'>, <class 'mediapipe.python.solution_base.SolutionOutputs'>, <class 'mediapipe.python.solution_base.SolutionOutputs'>, <class 'mediapipe.python.solution_base.SolutionOutputs'>, <class 'mediapipe.python.solution_base.SolutionOutputs'>, <class 'mediapipe.python.solution_base.SolutionOutputs'>, <class 'mediapipe.python.solution_base.SolutionOutputs'>, <class 'mediapipe.python.solution_base.SolutionOutputs'>, <class 'mediapipe.python.solution_base.SolutionOutputs'>, <class 'mediapipe.python.solution_base.SolutionOutputs'>, <class 'mediapipe.python.solution_base.SolutionOutputs'>, <class 'mediapipe.python.solution_base.SolutionOutputs'>, <class 'mediapipe.python.solution_base.SolutionOutputs'>, <class 'mediapipe.python.solution_base.SolutionOutputs'>, <class 'mediapipe.python.solution_base.SolutionOutputs'>, <class 'mediapipe.python.solution_base.SolutionOutputs'>, <class 'mediapipe.python.solution_base.SolutionOutputs'>, <class 'mediapipe.python.solution_base.SolutionOutputs'>, <class 'mediapipe.python.solution_base.SolutionOutputs'>, <class 'mediapipe.python.solution_base.SolutionOutputs'>, <class 'mediapipe.python.solution_base.SolutionOutputs'>, <class 'mediapipe.python.solution_base.SolutionOutputs'>, <class 'mediapipe.python.solution_base.SolutionOutputs'>, <class 'mediapipe.python.solution_base.SolutionOutputs'>, <class 'mediapipe.python.solution_base.SolutionOutputs'>, <class 'mediapipe.python.solution_base.SolutionOutputs'>, <class 'mediapipe.python.solution_base.SolutionOutputs'>, <class 'mediapipe.python.solution_base.SolutionOutputs'>, <class 'mediapipe.python.solution_base.SolutionOutputs'>, <class 'mediapipe.python.solution_base.SolutionOutputs'>, <class 'mediapipe.python.solution_base.SolutionOutputs'>, <class 'mediapipe.python.solution_base.SolutionOutputs'>, <class 'mediapipe.python.solution_base.SolutionOutputs'>, <class 'mediapipe.python.solution_base.SolutionOutputs'>, <class 'mediapipe.python.solution_base.SolutionOutputs'>, <class 'mediapipe.python.solution_base.SolutionOutputs'>, <class 'mediapipe.python.solution_base.SolutionOutputs'>, <class 'mediapipe.python.solution_base.SolutionOutputs'>, <class 'mediapipe.python.solution_base.SolutionOutputs'>, <class 'mediapipe.python.solution_base.SolutionOutputs'>, <class 'mediapipe.python.solution_base.SolutionOutputs'>, <class 'mediapipe.python.solution_base.SolutionOutputs'>, <class 'mediapipe.python.solution_base.SolutionOutputs'>, <class 'mediapipe.python.solution_base.SolutionOutputs'>, <class 'mediapipe.python.solution_base.SolutionOutputs'>, <class 'mediapipe.python.solution_base.SolutionOutputs'>, <class 'mediapipe.python.solution_base.SolutionOutputs'>, <class 'mediapipe.python.solution_base.SolutionOutputs'>, <class 'mediapipe.python.solution_base.SolutionOutputs'>, <class 'mediapipe.python.solution_base.SolutionOutputs'>, <class 'mediapipe.python.solution_base.SolutionOutputs'>, <class 'mediapipe.python.solution_base.SolutionOutputs'>, <class 'mediapipe.python.solution_base.SolutionOutputs'>, <class 'mediapipe.python.solution_base.SolutionOutputs'>, <class 'mediapipe.python.solution_base.SolutionOutputs'>, <class 'mediapipe.python.solution_base.SolutionOutputs'>, <class 'mediapipe.python.solution_base.SolutionOutputs'>, <class 'mediapipe.python.solution_base.SolutionOutputs'>, <class 'mediapipe.python.solution_base.SolutionOutputs'>, <class 'mediapipe.python.solution_base.SolutionOutputs'>, <class 'mediapipe.python.solution_base.SolutionOutputs'>, <class 'mediapipe.python.solution_base.SolutionOutputs'>, <class 'mediapipe.python.solution_base.SolutionOutputs'>, <class 'mediapipe.python.solution_base.SolutionOutputs'>, <class 'mediapipe.python.solution_base.SolutionOutputs'>, <class 'mediapipe.python.solution_base.SolutionOutputs'>, <class 'mediapipe.python.solution_base.SolutionOutputs'>, <class 'mediapipe.python.solution_base.SolutionOutputs'>, <class 'mediapipe.python.solution_base.SolutionOutputs'>, <class 'mediapipe.python.solution_base.SolutionOutputs'>, <class 'mediapipe.python.solution_base.SolutionOutputs'>, <class 'mediapipe.python.solution_base.SolutionOutputs'>, <class 'mediapipe.python.solution_base.SolutionOutputs'>, <class 'mediapipe.python.solution_base.SolutionOutputs'>, <class 'mediapipe.python.solution_base.SolutionOutputs'>, <class 'mediapipe.python.solution_base.SolutionOutputs'>, <class 'mediapipe.python.solution_base.SolutionOutputs'>, <class 'mediapipe.python.solution_base.SolutionOutputs'>, <class 'mediapipe.python.solution_base.SolutionOutputs'>, <class 'mediapipe.python.solution_base.SolutionOutputs'>, <class 'mediapipe.python.solution_base.SolutionOutputs'>, <class 'mediapipe.python.solution_base.SolutionOutputs'>, <class 'mediapipe.python.solution_base.SolutionOutputs'>, <class 'mediapipe.python.solution_base.SolutionOutputs'>, <class 'mediapipe.python.solution_base.SolutionOutputs'>, <class 'mediapipe.python.solution_base.SolutionOutputs'>, <class 'mediapipe.python.solution_base.SolutionOutputs'>, <class 'mediapipe.python.solution_base.SolutionOutputs'>, <class 'mediapipe.python.solution_base.SolutionOutputs'>, <class 'mediapipe.python.solution_base.SolutionOutputs'>, <class 'mediapipe.python.solution_base.SolutionOutputs'>, <class 'mediapipe.python.solution_base.SolutionOutputs'>, <class 'mediapipe.python.solution_base.SolutionOutputs'>, <class 'mediapipe.python.solution_base.SolutionOutputs'>, <class 'mediapipe.python.solution_base.SolutionOutputs'>, <class 'mediapipe.python.solution_base.SolutionOutputs'>, <class 'mediapipe.python.solution_base.SolutionOutputs'>, <class 'mediapipe.python.solution_base.SolutionOutputs'>, <class 'mediapipe.python.solution_base.SolutionOutputs'>, <class 'mediapipe.python.solution_base.SolutionOutputs'>, <class 'mediapipe.python.solution_base.SolutionOutputs'>, <class 'mediapipe.python.solution_base.SolutionOutputs'>, <class 'mediapipe.python.solution_base.SolutionOutputs'>, <class 'mediapipe.python.solution_base.SolutionOutputs'>, <class 'mediapipe.python.solution_base.SolutionOutputs'>, <class 'mediapipe.python.solution_base.SolutionOutputs'>, <class 'mediapipe.python.solution_base.SolutionOutputs'>, <class 'mediapipe.python.solution_base.SolutionOutputs'>, <class 'mediapipe.python.solution_base.SolutionOutputs'>, <class 'mediapipe.python.solution_base.SolutionOutputs'>, <class 'mediapipe.python.solution_base.SolutionOutputs'>, <class 'mediapipe.python.solution_base.SolutionOutputs'>, <class 'mediapipe.python.solution_base.SolutionOutputs'>, <class 'mediapipe.python.solution_base.SolutionOutputs'>, <class 'mediapipe.python.solution_base.SolutionOutputs'>, <class 'mediapipe.python.solution_base.SolutionOutputs'>, <class 'mediapipe.python.solution_base.SolutionOutputs'>, <class 'mediapipe.python.solution_base.SolutionOutputs'>, <class 'mediapipe.python.solution_base.SolutionOutputs'>, <class 'mediapipe.python.solution_base.SolutionOutputs'>, <class 'mediapipe.python.solution_base.SolutionOutputs'>, <class 'mediapipe.python.solution_base.SolutionOutputs'>, <class 'mediapipe.python.solution_base.SolutionOutputs'>, <class 'mediapipe.python.solution_base.SolutionOutputs'>, <class 'mediapipe.python.solution_base.SolutionOutputs'>, <class 'mediapipe.python.solution_base.SolutionOutputs'>, <class 'mediapipe.python.solution_base.SolutionOutputs'>, <class 'mediapipe.python.solution_base.SolutionOutputs'>, <class 'mediapipe.python.solution_base.SolutionOutputs'>, <class 'mediapipe.python.solution_base.SolutionOutputs'>, <class 'mediapipe.python.solution_base.SolutionOutputs'>, <class 'mediapipe.python.solution_base.SolutionOutputs'>, <class 'mediapipe.python.solution_base.SolutionOutputs'>, <class 'mediapipe.python.solution_base.SolutionOutputs'>, <class 'mediapipe.python.solution_base.SolutionOutputs'>, <class 'mediapipe.python.solution_base.SolutionOutputs'>, <class 'mediapipe.python.solution_base.SolutionOutputs'>, <class 'mediapipe.python.solution_base.SolutionOutputs'>, <class 'mediapipe.python.solution_base.SolutionOutputs'>, <class 'mediapipe.python.solution_base.SolutionOutputs'>, <class 'mediapipe.python.solution_base.SolutionOutputs'>, <class 'mediapipe.python.solution_base.SolutionOutputs'>, <class 'mediapipe.python.solution_base.SolutionOutputs'>, <class 'mediapipe.python.solution_base.SolutionOutputs'>, <class 'mediapipe.python.solution_base.SolutionOutputs'>, <class 'mediapipe.python.solution_base.SolutionOutputs'>, <class 'mediapipe.python.solution_base.SolutionOutputs'>, <class 'mediapipe.python.solution_base.SolutionOutputs'>, <class 'mediapipe.python.solution_base.SolutionOutputs'>, <class 'mediapipe.python.solution_base.SolutionOutputs'>, <class 'mediapipe.python.solution_base.SolutionOutputs'>, <class 'mediapipe.python.solution_base.SolutionOutputs'>, <class 'mediapipe.python.solution_base.SolutionOutputs'>, <class 'mediapipe.python.solution_base.SolutionOutputs'>, <class 'mediapipe.python.solution_base.SolutionOutputs'>, <class 'mediapipe.python.solution_base.SolutionOutputs'>, <class 'mediapipe.python.solution_base.SolutionOutputs'>, <class 'mediapipe.python.solution_base.SolutionOutputs'>, <class 'mediapipe.python.solution_base.SolutionOutputs'>, <class 'mediapipe.python.solution_base.SolutionOutputs'>, <class 'mediapipe.python.solution_base.SolutionOutputs'>, <class 'mediapipe.python.solution_base.SolutionOutputs'>, <class 'mediapipe.python.solution_base.SolutionOutputs'>, <class 'mediapipe.python.solution_base.SolutionOutputs'>, <class 'mediapipe.python.solution_base.SolutionOutputs'>, <class 'mediapipe.python.solution_base.SolutionOutputs'>, <class 'mediapipe.python.solution_base.SolutionOutputs'>, <class 'mediapipe.python.solution_base.SolutionOutputs'>, <class 'mediapipe.python.solution_base.SolutionOutputs'>, <class 'mediapipe.python.solution_base.SolutionOutputs'>, <class 'mediapipe.python.solution_base.SolutionOutputs'>, <class 'mediapipe.python.solution_base.SolutionOutputs'>, <class 'mediapipe.python.solution_base.SolutionOutputs'>, <class 'mediapipe.python.solution_base.SolutionOutputs'>, <class 'mediapipe.python.solution_base.SolutionOutputs'>, <class 'mediapipe.python.solution_base.SolutionOutputs'>, <class 'mediapipe.python.solution_base.SolutionOutputs'>, <class 'mediapipe.python.solution_base.SolutionOutputs'>, <class 'mediapipe.python.solution_base.SolutionOutputs'>, <class 'mediapipe.python.solution_base.SolutionOutputs'>, <class 'mediapipe.python.solution_base.SolutionOutputs'>, <class 'mediapipe.python.solution_base.SolutionOutputs'>, <class 'mediapipe.python.solution_base.SolutionOutputs'>, <class 'mediapipe.python.solution_base.SolutionOutputs'>, <class 'mediapipe.python.solution_base.SolutionOutputs'>, <class 'mediapipe.python.solution_base.SolutionOutputs'>, <class 'mediapipe.python.solution_base.SolutionOutputs'>, <class 'mediapipe.python.solution_base.SolutionOutputs'>, <class 'mediapipe.python.solution_base.SolutionOutputs'>, <class 'mediapipe.python.solution_base.SolutionOutputs'>, <class 'mediapipe.python.solution_base.SolutionOutputs'>, <class 'mediapipe.python.solution_base.SolutionOutputs'>, <class 'mediapipe.python.solution_base.SolutionOutputs'>, <class 'mediapipe.python.solution_base.SolutionOutputs'>, <class 'mediapipe.python.solution_base.SolutionOutputs'>, <class 'mediapipe.python.solution_base.SolutionOutputs'>, <class 'mediapipe.python.solution_base.SolutionOutputs'>, <class 'mediapipe.python.solution_base.SolutionOutputs'>, <class 'mediapipe.python.solution_base.SolutionOutputs'>, <class 'mediapipe.python.solution_base.SolutionOutputs'>, <class 'mediapipe.python.solution_base.SolutionOutputs'>, <class 'mediapipe.python.solution_base.SolutionOutputs'>, <class 'mediapipe.python.solution_base.SolutionOutputs'>, <class 'mediapipe.python.solution_base.SolutionOutputs'>, <class 'mediapipe.python.solution_base.SolutionOutputs'>, <class 'mediapipe.python.solution_base.SolutionOutputs'>, <class 'mediapipe.python.solution_base.SolutionOutputs'>, <class 'mediapipe.python.solution_base.SolutionOutputs'>, <class 'mediapipe.python.solution_base.SolutionOutputs'>, <class 'mediapipe.python.solution_base.SolutionOutputs'>, <class 'mediapipe.python.solution_base.SolutionOutputs'>, <class 'mediapipe.python.solution_base.SolutionOutputs'>, <class 'mediapipe.python.solution_base.SolutionOutputs'>, <class 'mediapipe.python.solution_base.SolutionOutputs'>, <class 'mediapipe.python.solution_base.SolutionOutputs'>, <class 'mediapipe.python.solution_base.SolutionOutputs'>, <class 'mediapipe.python.solution_base.SolutionOutputs'>, <class 'mediapipe.python.solution_base.SolutionOutputs'>, <class 'mediapipe.python.solution_base.SolutionOutputs'>, <class 'mediapipe.python.solution_base.SolutionOutputs'>, <class 'mediapipe.python.solution_base.SolutionOutputs'>, <class 'mediapipe.python.solution_base.SolutionOutputs'>, <class 'mediapipe.python.solution_base.SolutionOutputs'>, <class 'mediapipe.python.solution_base.SolutionOutputs'>, <class 'mediapipe.python.solution_base.SolutionOutputs'>, <class 'mediapipe.python.solution_base.SolutionOutputs'>, <class 'mediapipe.python.solution_base.SolutionOutputs'>, <class 'mediapipe.python.solution_base.SolutionOutputs'>, <class 'mediapipe.python.solution_base.SolutionOutputs'>, <class 'mediapipe.python.solution_base.SolutionOutputs'>, <class 'mediapipe.python.solution_base.SolutionOutputs'>, <class 'mediapipe.python.solution_base.SolutionOutputs'>, <class 'mediapipe.python.solution_base.SolutionOutputs'>, <class 'mediapipe.python.solution_base.SolutionOutputs'>, <class 'mediapipe.python.solution_base.SolutionOutputs'>, <class 'mediapipe.python.solution_base.SolutionOutputs'>, <class 'mediapipe.python.solution_base.SolutionOutputs'>, <class 'mediapipe.python.solution_base.SolutionOutputs'>, <class 'mediapipe.python.solution_base.SolutionOutputs'>, <class 'mediapipe.python.solution_base.SolutionOutputs'>, <class 'mediapipe.python.solution_base.SolutionOutputs'>, <class 'mediapipe.python.solution_base.SolutionOutputs'>, <class 'mediapipe.python.solution_base.SolutionOutputs'>, <class 'mediapipe.python.solution_base.SolutionOutputs'>, <class 'mediapipe.python.solution_base.SolutionOutputs'>, <class 'mediapipe.python.solution_base.SolutionOutputs'>, <class 'mediapipe.python.solution_base.SolutionOutputs'>, <class 'mediapipe.python.solution_base.SolutionOutputs'>, <class 'mediapipe.python.solution_base.SolutionOutputs'>, <class 'mediapipe.python.solution_base.SolutionOutputs'>, <class 'mediapipe.python.solution_base.SolutionOutputs'>, <class 'mediapipe.python.solution_base.SolutionOutputs'>, <class 'mediapipe.python.solution_base.SolutionOutputs'>, <class 'mediapipe.python.solution_base.SolutionOutputs'>, <class 'mediapipe.python.solution_base.SolutionOutputs'>, <class 'mediapipe.python.solution_base.SolutionOutputs'>, <class 'mediapipe.python.solution_base.SolutionOutputs'>, <class 'mediapipe.python.solution_base.SolutionOutputs'>, <class 'mediapipe.python.solution_base.SolutionOutputs'>, <class 'mediapipe.python.solution_base.SolutionOutputs'>, <class 'mediapipe.python.solution_base.SolutionOutputs'>, <class 'mediapipe.python.solution_base.SolutionOutputs'>, <class 'mediapipe.python.solution_base.SolutionOutputs'>, <class 'mediapipe.python.solution_base.SolutionOutputs'>, <class 'mediapipe.python.solution_base.SolutionOutputs'>, <class 'mediapipe.python.solution_base.SolutionOutputs'>, <class 'mediapipe.python.solution_base.SolutionOutputs'>, <class 'mediapipe.python.solution_base.SolutionOutputs'>, <class 'mediapipe.python.solution_base.SolutionOutputs'>, <class 'mediapipe.python.solution_base.SolutionOutputs'>, <class 'mediapipe.python.solution_base.SolutionOutputs'>, <class 'mediapipe.python.solution_base.SolutionOutputs'>, <class 'mediapipe.python.solution_base.SolutionOutputs'>, <class 'mediapipe.python.solution_base.SolutionOutputs'>, <class 'mediapipe.python.solution_base.SolutionOutputs'>, <class 'mediapipe.python.solution_base.SolutionOutputs'>, <class 'mediapipe.python.solution_base.SolutionOutputs'>, <class 'mediapipe.python.solution_base.SolutionOutputs'>, <class 'mediapipe.python.solution_base.SolutionOutputs'>, <class 'mediapipe.python.solution_base.SolutionOutputs'>, <class 'mediapipe.python.solution_base.SolutionOutputs'>, <class 'mediapipe.python.solution_base.SolutionOutputs'>, <class 'mediapipe.python.solution_base.SolutionOutputs'>, <class 'mediapipe.python.solution_base.SolutionOutputs'>, <class 'mediapipe.python.solution_base.SolutionOutputs'>, <class 'mediapipe.python.solution_base.SolutionOutputs'>, <class 'mediapipe.python.solution_base.SolutionOutputs'>, <class 'mediapipe.python.solution_base.SolutionOutputs'>, <class 'mediapipe.python.solution_base.SolutionOutputs'>, <class 'mediapipe.python.solution_base.SolutionOutputs'>, <class 'mediapipe.python.solution_base.SolutionOutputs'>, <class 'mediapipe.python.solution_base.SolutionOutputs'>, <class 'mediapipe.python.solution_base.SolutionOutputs'>, <class 'mediapipe.python.solution_base.SolutionOutputs'>, <class 'mediapipe.python.solution_base.SolutionOutputs'>, <class 'mediapipe.python.solution_base.SolutionOutputs'>, <class 'mediapipe.python.solution_base.SolutionOutputs'>, <class 'mediapipe.python.solution_base.SolutionOutputs'>, <class 'mediapipe.python.solution_base.SolutionOutputs'>, <class 'mediapipe.python.solution_base.SolutionOutputs'>, <class 'mediapipe.python.solution_base.SolutionOutputs'>, <class 'mediapipe.python.solution_base.SolutionOutputs'>, <class 'mediapipe.python.solution_base.SolutionOutputs'>, <class 'mediapipe.python.solution_base.SolutionOutputs'>, <class 'mediapipe.python.solution_base.SolutionOutputs'>, <class 'mediapipe.python.solution_base.SolutionOutputs'>, <class 'mediapipe.python.solution_base.SolutionOutputs'>, <class 'mediapipe.python.solution_base.SolutionOutputs'>, <class 'mediapipe.python.solution_base.SolutionOutputs'>, <class 'mediapipe.python.solution_base.SolutionOutputs'>, <class 'mediapipe.python.solution_base.SolutionOutputs'>, <class 'mediapipe.python.solution_base.SolutionOutputs'>, <class 'mediapipe.python.solution_base.SolutionOutputs'>, <class 'mediapipe.python.solution_base.SolutionOutputs'>, <class 'mediapipe.python.solution_base.SolutionOutputs'>, <class 'mediapipe.python.solution_base.SolutionOutputs'>, <class 'mediapipe.python.solution_base.SolutionOutputs'>, <class 'mediapipe.python.solution_base.SolutionOutputs'>, <class 'mediapipe.python.solution_base.SolutionOutputs'>, <class 'mediapipe.python.solution_base.SolutionOutputs'>, <class 'mediapipe.python.solution_base.SolutionOutputs'>, <class 'mediapipe.python.solution_base.SolutionOutputs'>, <class 'mediapipe.python.solution_base.SolutionOutputs'>, <class 'mediapipe.python.solution_base.SolutionOutputs'>, <class 'mediapipe.python.solution_base.SolutionOutputs'>, <class 'mediapipe.python.solution_base.SolutionOutputs'>, <class 'mediapipe.python.solution_base.SolutionOutputs'>, <class 'mediapipe.python.solution_base.SolutionOutputs'>, <class 'mediapipe.python.solution_base.SolutionOutputs'>, <class 'mediapipe.python.solution_base.SolutionOutputs'>, <class 'mediapipe.python.solution_base.SolutionOutputs'>, <class 'mediapipe.python.solution_base.SolutionOutputs'>, <class 'mediapipe.python.solution_base.SolutionOutputs'>, <class 'mediapipe.python.solution_base.SolutionOutputs'>, <class 'mediapipe.python.solution_base.SolutionOutputs'>, <class 'mediapipe.python.solution_base.SolutionOutputs'>, <class 'mediapipe.python.solution_base.SolutionOutputs'>, <class 'mediapipe.python.solution_base.SolutionOutputs'>, <class 'mediapipe.python.solution_base.SolutionOutputs'>, <class 'mediapipe.python.solution_base.SolutionOutputs'>, <class 'mediapipe.python.solution_base.SolutionOutputs'>, <class 'mediapipe.python.solution_base.SolutionOutputs'>, <class 'mediapipe.python.solution_base.SolutionOutputs'>, <class 'mediapipe.python.solution_base.SolutionOutputs'>, <class 'mediapipe.python.solution_base.SolutionOutputs'>, <class 'mediapipe.python.solution_base.SolutionOutputs'>, <class 'mediapipe.python.solution_base.SolutionOutputs'>, <class 'mediapipe.python.solution_base.SolutionOutputs'>, <class 'mediapipe.python.solution_base.SolutionOutputs'>, <class 'mediapipe.python.solution_base.SolutionOutputs'>, <class 'mediapipe.python.solution_base.SolutionOutputs'>, <class 'mediapipe.python.solution_base.SolutionOutputs'>, <class 'mediapipe.python.solution_base.SolutionOutputs'>, <class 'mediapipe.python.solution_base.SolutionOutputs'>, <class 'mediapipe.python.solution_base.SolutionOutputs'>, <class 'mediapipe.python.solution_base.SolutionOutputs'>, <class 'mediapipe.python.solution_base.SolutionOutputs'>, <class 'mediapipe.python.solution_base.SolutionOutputs'>, <class 'mediapipe.python.solution_base.SolutionOutputs'>, <class 'mediapipe.python.solution_base.SolutionOutputs'>, <class 'mediapipe.python.solution_base.SolutionOutputs'>, <class 'mediapipe.python.solution_base.SolutionOutputs'>, <class 'mediapipe.python.solution_base.SolutionOutputs'>, <class 'mediapipe.python.solution_base.SolutionOutputs'>, <class 'mediapipe.python.solution_base.SolutionOutputs'>, <class 'mediapipe.python.solution_base.SolutionOutputs'>, <class 'mediapipe.python.solution_base.SolutionOutputs'>, <class 'mediapipe.python.solution_base.SolutionOutputs'>, <class 'mediapipe.python.solution_base.SolutionOutputs'>, <class 'mediapipe.python.solution_base.SolutionOutputs'>, <class 'mediapipe.python.solution_base.SolutionOutputs'>, <class 'mediapipe.python.solution_base.SolutionOutputs'>, <class 'mediapipe.python.solution_base.SolutionOutputs'>, <class 'mediapipe.python.solution_base.SolutionOutputs'>, <class 'mediapipe.python.solution_base.SolutionOutputs'>, <class 'mediapipe.python.solution_base.SolutionOutputs'>, <class 'mediapipe.python.solution_base.SolutionOutputs'>, <class 'mediapipe.python.solution_base.SolutionOutputs'>, <class 'mediapipe.python.solution_base.SolutionOutputs'>, <class 'mediapipe.python.solution_base.SolutionOutputs'>, <class 'mediapipe.python.solution_base.SolutionOutputs'>, <class 'mediapipe.python.solution_base.SolutionOutputs'>, <class 'mediapipe.python.solution_base.SolutionOutputs'>, <class 'mediapipe.python.solution_base.SolutionOutputs'>, <class 'mediapipe.python.solution_base.SolutionOutputs'>, <class 'mediapipe.python.solution_base.SolutionOutputs'>, <class 'mediapipe.python.solution_base.SolutionOutputs'>, <class 'mediapipe.python.solution_base.SolutionOutputs'>, <class 'mediapipe.python.solution_base.SolutionOutputs'>, <class 'mediapipe.python.solution_base.SolutionOutputs'>, <class 'mediapipe.python.solution_base.SolutionOutputs'>, <class 'mediapipe.python.solution_base.SolutionOutputs'>, <class 'mediapipe.python.solution_base.SolutionOutputs'>, <class 'mediapipe.python.solution_base.SolutionOutputs'>, <class 'mediapipe.python.solution_base.SolutionOutputs'>, <class 'mediapipe.python.solution_base.SolutionOutputs'>, <class 'mediapipe.python.solution_base.SolutionOutputs'>, <class 'mediapipe.python.solution_base.SolutionOutputs'>, <class 'mediapipe.python.solution_base.SolutionOutputs'>, <class 'mediapipe.python.solution_base.SolutionOutputs'>, <class 'mediapipe.python.solution_base.SolutionOutputs'>, <class 'mediapipe.python.solution_base.SolutionOutputs'>, <class 'mediapipe.python.solution_base.SolutionOutputs'>, <class 'mediapipe.python.solution_base.SolutionOutputs'>, <class 'mediapipe.python.solution_base.SolutionOutputs'>, <class 'mediapipe.python.solution_base.SolutionOutputs'>, <class 'mediapipe.python.solution_base.SolutionOutputs'>, <class 'mediapipe.python.solution_base.SolutionOutputs'>, <class 'mediapipe.python.solution_base.SolutionOutputs'>, <class 'mediapipe.python.solution_base.SolutionOutputs'>, <class 'mediapipe.python.solution_base.SolutionOutputs'>, <class 'mediapipe.python.solution_base.SolutionOutputs'>, <class 'mediapipe.python.solution_base.SolutionOutputs'>, <class 'mediapipe.python.solution_base.SolutionOutputs'>, <class 'mediapipe.python.solution_base.SolutionOutputs'>, <class 'mediapipe.python.solution_base.SolutionOutputs'>, <class 'mediapipe.python.solution_base.SolutionOutputs'>, <class 'mediapipe.python.solution_base.SolutionOutputs'>, <class 'mediapipe.python.solution_base.SolutionOutputs'>, <class 'mediapipe.python.solution_base.SolutionOutputs'>, <class 'mediapipe.python.solution_base.SolutionOutputs'>, <class 'mediapipe.python.solution_base.SolutionOutputs'>, <class 'mediapipe.python.solution_base.SolutionOutputs'>, <class 'mediapipe.python.solution_base.SolutionOutputs'>, <class 'mediapipe.python.solution_base.SolutionOutputs'>, <class 'mediapipe.python.solution_base.SolutionOutputs'>, <class 'mediapipe.python.solution_base.SolutionOutputs'>, <class 'mediapipe.python.solution_base.SolutionOutputs'>, <class 'mediapipe.python.solution_base.SolutionOutputs'>, <class 'mediapipe.python.solution_base.SolutionOutputs'>, <class 'mediapipe.python.solution_base.SolutionOutputs'>, <class 'mediapipe.python.solution_base.SolutionOutputs'>, <class 'mediapipe.python.solution_base.SolutionOutputs'>, <class 'mediapipe.python.solution_base.SolutionOutputs'>, <class 'mediapipe.python.solution_base.SolutionOutputs'>, <class 'mediapipe.python.solution_base.SolutionOutputs'>, <class 'mediapipe.python.solution_base.SolutionOutputs'>, <class 'mediapipe.python.solution_base.SolutionOutputs'>, <class 'mediapipe.python.solution_base.SolutionOutputs'>, <class 'mediapipe.python.solution_base.SolutionOutputs'>, <class 'mediapipe.python.solution_base.SolutionOutputs'>, <class 'mediapipe.python.solution_base.SolutionOutputs'>, <class 'mediapipe.python.solution_base.SolutionOutputs'>, <class 'mediapipe.python.solution_base.SolutionOutputs'>, <class 'mediapipe.python.solution_base.SolutionOutputs'>, <class 'mediapipe.python.solution_base.SolutionOutputs'>, <class 'mediapipe.python.solution_base.SolutionOutputs'>, <class 'mediapipe.python.solution_base.SolutionOutputs'>, <class 'mediapipe.python.solution_base.SolutionOutputs'>, <class 'mediapipe.python.solution_base.SolutionOutputs'>, <class 'mediapipe.python.solution_base.SolutionOutputs'>, <class 'mediapipe.python.solution_base.SolutionOutputs'>, <class 'mediapipe.python.solution_base.SolutionOutputs'>, <class 'mediapipe.python.solution_base.SolutionOutputs'>, <class 'mediapipe.python.solution_base.SolutionOutputs'>, <class 'mediapipe.python.solution_base.SolutionOutputs'>, <class 'mediapipe.python.solution_base.SolutionOutputs'>, <class 'mediapipe.python.solution_base.SolutionOutputs'>, <class 'mediapipe.python.solution_base.SolutionOutputs'>, <class 'mediapipe.python.solution_base.SolutionOutputs'>, <class 'mediapipe.python.solution_base.SolutionOutputs'>, <class 'mediapipe.python.solution_base.SolutionOutputs'>, <class 'mediapipe.python.solution_base.SolutionOutputs'>, <class 'mediapipe.python.solution_base.SolutionOutputs'>, <class 'mediapipe.python.solution_base.SolutionOutputs'>, <class 'mediapipe.python.solution_base.SolutionOutputs'>, <class 'mediapipe.python.solution_base.SolutionOutputs'>, <class 'mediapipe.python.solution_base.SolutionOutputs'>, <class 'mediapipe.python.solution_base.SolutionOutputs'>, <class 'mediapipe.python.solution_base.SolutionOutputs'>, <class 'mediapipe.python.solution_base.SolutionOutputs'>, <class 'mediapipe.python.solution_base.SolutionOutputs'>, <class 'mediapipe.python.solution_base.SolutionOutputs'>, <class 'mediapipe.python.solution_base.SolutionOutputs'>, <class 'mediapipe.python.solution_base.SolutionOutputs'>, <class 'mediapipe.python.solution_base.SolutionOutputs'>, <class 'mediapipe.python.solution_base.SolutionOutputs'>, <class 'mediapipe.python.solution_base.SolutionOutputs'>, <class 'mediapipe.python.solution_base.SolutionOutputs'>, <class 'mediapipe.python.solution_base.SolutionOutputs'>, <class 'mediapipe.python.solution_base.SolutionOutputs'>, <class 'mediapipe.python.solution_base.SolutionOutputs'>, <class 'mediapipe.python.solution_base.SolutionOutputs'>, <class 'mediapipe.python.solution_base.SolutionOutputs'>, <class 'mediapipe.python.solution_base.SolutionOutputs'>, <class 'mediapipe.python.solution_base.SolutionOutputs'>, <class 'mediapipe.python.solution_base.SolutionOutputs'>, <class 'mediapipe.python.solution_base.SolutionOutputs'>, <class 'mediapipe.python.solution_base.SolutionOutputs'>, <class 'mediapipe.python.solution_base.SolutionOutputs'>, <class 'mediapipe.python.solution_base.SolutionOutputs'>, <class 'mediapipe.python.solution_base.SolutionOutputs'>, <class 'mediapipe.python.solution_base.SolutionOutputs'>, <class 'mediapipe.python.solution_base.SolutionOutputs'>, <class 'mediapipe.python.solution_base.SolutionOutputs'>, <class 'mediapipe.python.solution_base.SolutionOutputs'>, <class 'mediapipe.python.solution_base.SolutionOutputs'>, <class 'mediapipe.python.solution_base.SolutionOutputs'>, <class 'mediapipe.python.solution_base.SolutionOutputs'>, <class 'mediapipe.python.solution_base.SolutionOutputs'>, <class 'mediapipe.python.solution_base.SolutionOutputs'>, <class 'mediapipe.python.solution_base.SolutionOutputs'>, <class 'mediapipe.python.solution_base.SolutionOutputs'>, <class 'mediapipe.python.solution_base.SolutionOutputs'>, <class 'mediapipe.python.solution_base.SolutionOutputs'>, <class 'mediapipe.python.solution_base.SolutionOutputs'>, <class 'mediapipe.python.solution_base.SolutionOutputs'>, <class 'mediapipe.python.solution_base.SolutionOutputs'>, <class 'mediapipe.python.solution_base.SolutionOutputs'>, <class 'mediapipe.python.solution_base.SolutionOutputs'>, <class 'mediapipe.python.solution_base.SolutionOutputs'>, <class 'mediapipe.python.solution_base.SolutionOutputs'>, <class 'mediapipe.python.solution_base.SolutionOutputs'>, <class 'mediapipe.python.solution_base.SolutionOutputs'>, <class 'mediapipe.python.solution_base.SolutionOutputs'>, <class 'mediapipe.python.solution_base.SolutionOutputs'>, <class 'mediapipe.python.solution_base.SolutionOutputs'>, <class 'mediapipe.python.solution_base.SolutionOutputs'>, <class 'mediapipe.python.solution_base.SolutionOutputs'>, <class 'mediapipe.python.solution_base.SolutionOutputs'>, <class 'mediapipe.python.solution_base.SolutionOutputs'>, <class 'mediapipe.python.solution_base.SolutionOutputs'>, <class 'mediapipe.python.solution_base.SolutionOutputs'>, <class 'mediapipe.python.solution_base.SolutionOutputs'>, <class 'mediapipe.python.solution_base.SolutionOutputs'>, <class 'mediapipe.python.solution_base.SolutionOutputs'>, <class 'mediapipe.python.solution_base.SolutionOutputs'>, <class 'mediapipe.python.solution_base.SolutionOutputs'>, <class 'mediapipe.python.solution_base.SolutionOutputs'>, <class 'mediapipe.python.solution_base.SolutionOutputs'>, <class 'mediapipe.python.solution_base.SolutionOutputs'>, <class 'mediapipe.python.solution_base.SolutionOutputs'>, <class 'mediapipe.python.solution_base.SolutionOutputs'>, <class 'mediapipe.python.solution_base.SolutionOutputs'>, <class 'mediapipe.python.solution_base.SolutionOutputs'>, <class 'mediapipe.python.solution_base.SolutionOutputs'>, <class 'mediapipe.python.solution_base.SolutionOutputs'>, <class 'mediapipe.python.solution_base.SolutionOutputs'>, <class 'mediapipe.python.solution_base.SolutionOutputs'>, <class 'mediapipe.python.solution_base.SolutionOutputs'>, <class 'mediapipe.python.solution_base.SolutionOutputs'>, <class 'mediapipe.python.solution_base.SolutionOutputs'>, <class 'mediapipe.python.solution_base.SolutionOutputs'>, <class 'mediapipe.python.solution_base.SolutionOutputs'>, <class 'mediapipe.python.solution_base.SolutionOutputs'>, <class 'mediapipe.python.solution_base.SolutionOutputs'>, <class 'mediapipe.python.solution_base.SolutionOutputs'>, <class 'mediapipe.python.solution_base.SolutionOutputs'>, <class 'mediapipe.python.solution_base.SolutionOutputs'>, <class 'mediapipe.python.solution_base.SolutionOutputs'>, <class 'mediapipe.python.solution_base.SolutionOutputs'>, <class 'mediapipe.python.solution_base.SolutionOutputs'>, <class 'mediapipe.python.solution_base.SolutionOutputs'>, <class 'mediapipe.python.solution_base.SolutionOutputs'>, <class 'mediapipe.python.solution_base.SolutionOutputs'>, <class 'mediapipe.python.solution_base.SolutionOutputs'>, <class 'mediapipe.python.solution_base.SolutionOutputs'>, <class 'mediapipe.python.solution_base.SolutionOutputs'>, <class 'mediapipe.python.solution_base.SolutionOutputs'>, <class 'mediapipe.python.solution_base.SolutionOutputs'>, <class 'mediapipe.python.solution_base.SolutionOutputs'>, <class 'mediapipe.python.solution_base.SolutionOutputs'>, <class 'mediapipe.python.solution_base.SolutionOutputs'>, <class 'mediapipe.python.solution_base.SolutionOutputs'>, <class 'mediapipe.python.solution_base.SolutionOutputs'>, <class 'mediapipe.python.solution_base.SolutionOutputs'>, <class 'mediapipe.python.solution_base.SolutionOutputs'>, <class 'mediapipe.python.solution_base.SolutionOutputs'>, <class 'mediapipe.python.solution_base.SolutionOutputs'>, <class 'mediapipe.python.solution_base.SolutionOutputs'>, <class 'mediapipe.python.solution_base.SolutionOutputs'>, <class 'mediapipe.python.solution_base.SolutionOutputs'>, <class 'mediapipe.python.solution_base.SolutionOutputs'>, <class 'mediapipe.python.solution_base.SolutionOutputs'>, <class 'mediapipe.python.solution_base.SolutionOutputs'>, <class 'mediapipe.python.solution_base.SolutionOutputs'>, <class 'mediapipe.python.solution_base.SolutionOutputs'>, <class 'mediapipe.python.solution_base.SolutionOutputs'>, <class 'mediapipe.python.solution_base.SolutionOutputs'>, <class 'mediapipe.python.solution_base.SolutionOutputs'>, <class 'mediapipe.python.solution_base.SolutionOutputs'>, <class 'mediapipe.python.solution_base.SolutionOutputs'>, <class 'mediapipe.python.solution_base.SolutionOutputs'>, <class 'mediapipe.python.solution_base.SolutionOutputs'>, <class 'mediapipe.python.solution_base.SolutionOutputs'>, <class 'mediapipe.python.solution_base.SolutionOutputs'>, <class 'mediapipe.python.solution_base.SolutionOutputs'>, <class 'mediapipe.python.solution_base.SolutionOutputs'>, <class 'mediapipe.python.solution_base.SolutionOutputs'>, <class 'mediapipe.python.solution_base.SolutionOutputs'>, <class 'mediapipe.python.solution_base.SolutionOutputs'>, <class 'mediapipe.python.solution_base.SolutionOutputs'>, <class 'mediapipe.python.solution_base.SolutionOutputs'>, <class 'mediapipe.python.solution_base.SolutionOutputs'>, <class 'mediapipe.python.solution_base.SolutionOutputs'>, <class 'mediapipe.python.solution_base.SolutionOutputs'>, <class 'mediapipe.python.solution_base.SolutionOutputs'>, <class 'mediapipe.python.solution_base.SolutionOutputs'>, <class 'mediapipe.python.solution_base.SolutionOutputs'>, <class 'mediapipe.python.solution_base.SolutionOutputs'>, <class 'mediapipe.python.solution_base.SolutionOutputs'>, <class 'mediapipe.python.solution_base.SolutionOutputs'>, <class 'mediapipe.python.solution_base.SolutionOutputs'>, <class 'mediapipe.python.solution_base.SolutionOutputs'>, <class 'mediapipe.python.solution_base.SolutionOutputs'>, <class 'mediapipe.python.solution_base.SolutionOutputs'>, <class 'mediapipe.python.solution_base.SolutionOutputs'>, <class 'mediapipe.python.solution_base.SolutionOutputs'>, <class 'mediapipe.python.solution_base.SolutionOutputs'>, <class 'mediapipe.python.solution_base.SolutionOutputs'>, <class 'mediapipe.python.solution_base.SolutionOutputs'>, <class 'mediapipe.python.solution_base.SolutionOutputs'>, <class 'mediapipe.python.solution_base.SolutionOutputs'>, <class 'mediapipe.python.solution_base.SolutionOutputs'>, <class 'mediapipe.python.solution_base.SolutionOutputs'>, <class 'mediapipe.python.solution_base.SolutionOutputs'>, <class 'mediapipe.python.solution_base.SolutionOutputs'>, <class 'mediapipe.python.solution_base.SolutionOutputs'>, <class 'mediapipe.python.solution_base.SolutionOutputs'>, <class 'mediapipe.python.solution_base.SolutionOutputs'>, <class 'mediapipe.python.solution_base.SolutionOutputs'>, <class 'mediapipe.python.solution_base.SolutionOutputs'>, <class 'mediapipe.python.solution_base.SolutionOutputs'>, <class 'mediapipe.python.solution_base.SolutionOutputs'>, <class 'mediapipe.python.solution_base.SolutionOutputs'>, <class 'mediapipe.python.solution_base.SolutionOutputs'>, <class 'mediapipe.python.solution_base.SolutionOutputs'>, <class 'mediapipe.python.solution_base.SolutionOutputs'>, <class 'mediapipe.python.solution_base.SolutionOutputs'>, <class 'mediapipe.python.solution_base.SolutionOutputs'>, <class 'mediapipe.python.solution_base.SolutionOutputs'>, <class 'mediapipe.python.solution_base.SolutionOutputs'>, <class 'mediapipe.python.solution_base.SolutionOutputs'>, <class 'mediapipe.python.solution_base.SolutionOutputs'>, <class 'mediapipe.python.solution_base.SolutionOutputs'>, <class 'mediapipe.python.solution_base.SolutionOutputs'>, <class 'mediapipe.python.solution_base.SolutionOutputs'>, <class 'mediapipe.python.solution_base.SolutionOutputs'>, <class 'mediapipe.python.solution_base.SolutionOutputs'>, <class 'mediapipe.python.solution_base.SolutionOutputs'>, <class 'mediapipe.python.solution_base.SolutionOutputs'>, <class 'mediapipe.python.solution_base.SolutionOutputs'>, <class 'mediapipe.python.solution_base.SolutionOutputs'>, <class 'mediapipe.python.solution_base.SolutionOutputs'>, <class 'mediapipe.python.solution_base.SolutionOutputs'>, <class 'mediapipe.python.solution_base.SolutionOutputs'>, <class 'mediapipe.python.solution_base.SolutionOutputs'>, <class 'mediapipe.python.solution_base.SolutionOutputs'>, <class 'mediapipe.python.solution_base.SolutionOutputs'>, <class 'mediapipe.python.solution_base.SolutionOutputs'>, <class 'mediapipe.python.solution_base.SolutionOutputs'>, <class 'mediapipe.python.solution_base.SolutionOutputs'>, <class 'mediapipe.python.solution_base.SolutionOutputs'>, <class 'mediapipe.python.solution_base.SolutionOutputs'>, <class 'mediapipe.python.solution_base.SolutionOutputs'>, <class 'mediapipe.python.solution_base.SolutionOutputs'>, <class 'mediapipe.python.solution_base.SolutionOutputs'>, <class 'mediapipe.python.solution_base.SolutionOutputs'>, <class 'mediapipe.python.solution_base.SolutionOutputs'>, <class 'mediapipe.python.solution_base.SolutionOutputs'>, <class 'mediapipe.python.solution_base.SolutionOutputs'>, <class 'mediapipe.python.solution_base.SolutionOutputs'>, <class 'mediapipe.python.solution_base.SolutionOutputs'>, <class 'mediapipe.python.solution_base.SolutionOutputs'>, <class 'mediapipe.python.solution_base.SolutionOutputs'>, <class 'mediapipe.python.solution_base.SolutionOutputs'>, <class 'mediapipe.python.solution_base.SolutionOutputs'>, <class 'mediapipe.python.solution_base.SolutionOutputs'>, <class 'mediapipe.python.solution_base.SolutionOutputs'>, <class 'mediapipe.python.solution_base.SolutionOutputs'>, <class 'mediapipe.python.solution_base.SolutionOutputs'>, <class 'mediapipe.python.solution_base.SolutionOutputs'>, <class 'mediapipe.python.solution_base.SolutionOutputs'>, <class 'mediapipe.python.solution_base.SolutionOutputs'>, <class 'mediapipe.python.solution_base.SolutionOutputs'>, <class 'mediapipe.python.solution_base.SolutionOutputs'>, <class 'mediapipe.python.solution_base.SolutionOutputs'>, <class 'mediapipe.python.solution_base.SolutionOutputs'>, <class 'mediapipe.python.solution_base.SolutionOutputs'>, <class 'mediapipe.python.solution_base.SolutionOutputs'>, <class 'mediapipe.python.solution_base.SolutionOutputs'>, <class 'mediapipe.python.solution_base.SolutionOutputs'>, <class 'mediapipe.python.solution_base.SolutionOutputs'>, <class 'mediapipe.python.solution_base.SolutionOutputs'>, <class 'mediapipe.python.solution_base.SolutionOutputs'>, <class 'mediapipe.python.solution_base.SolutionOutputs'>, <class 'mediapipe.python.solution_base.SolutionOutputs'>, <class 'mediapipe.python.solution_base.SolutionOutputs'>, <class 'mediapipe.python.solution_base.SolutionOutputs'>, <class 'mediapipe.python.solution_base.SolutionOutputs'>, <class 'mediapipe.python.solution_base.SolutionOutputs'>, <class 'mediapipe.python.solution_base.SolutionOutputs'>, <class 'mediapipe.python.solution_base.SolutionOutputs'>, <class 'mediapipe.python.solution_base.SolutionOutputs'>, <class 'mediapipe.python.solution_base.SolutionOutputs'>, <class 'mediapipe.python.solution_base.SolutionOutputs'>, <class 'mediapipe.python.solution_base.SolutionOutputs'>, <class 'mediapipe.python.solution_base.SolutionOutputs'>, <class 'mediapipe.python.solution_base.SolutionOutputs'>, <class 'mediapipe.python.solution_base.SolutionOutputs'>, <class 'mediapipe.python.solution_base.SolutionOutputs'>, <class 'mediapipe.python.solution_base.SolutionOutputs'>, <class 'mediapipe.python.solution_base.SolutionOutputs'>, <class 'mediapipe.python.solution_base.SolutionOutputs'>, <class 'mediapipe.python.solution_base.SolutionOutputs'>, <class 'mediapipe.python.solution_base.SolutionOutputs'>, <class 'mediapipe.python.solution_base.SolutionOutputs'>, <class 'mediapipe.python.solution_base.SolutionOutputs'>, <class 'mediapipe.python.solution_base.SolutionOutputs'>, <class 'mediapipe.python.solution_base.SolutionOutputs'>, <class 'mediapipe.python.solution_base.SolutionOutputs'>, <class 'mediapipe.python.solution_base.SolutionOutputs'>, <class 'mediapipe.python.solution_base.SolutionOutputs'>, <class 'mediapipe.python.solution_base.SolutionOutputs'>, <class 'mediapipe.python.solution_base.SolutionOutputs'>, <class 'mediapipe.python.solution_base.SolutionOutputs'>, <class 'mediapipe.python.solution_base.SolutionOutputs'>, <class 'mediapipe.python.solution_base.SolutionOutputs'>, <class 'mediapipe.python.solution_base.SolutionOutputs'>, <class 'mediapipe.python.solution_base.SolutionOutputs'>, <class 'mediapipe.python.solution_base.SolutionOutputs'>, <class 'mediapipe.python.solution_base.SolutionOutputs'>, <class 'mediapipe.python.solution_base.SolutionOutputs'>, <class 'mediapipe.python.solution_base.SolutionOutputs'>, <class 'mediapipe.python.solution_base.SolutionOutputs'>, <class 'mediapipe.python.solution_base.SolutionOutputs'>, <class 'mediapipe.python.solution_base.SolutionOutputs'>, <class 'mediapipe.python.solution_base.SolutionOutputs'>, <class 'mediapipe.python.solution_base.SolutionOutputs'>, <class 'mediapipe.python.solution_base.SolutionOutputs'>, <class 'mediapipe.python.solution_base.SolutionOutputs'>, <class 'mediapipe.python.solution_base.SolutionOutputs'>, <class 'mediapipe.python.solution_base.SolutionOutputs'>, <class 'mediapipe.python.solution_base.SolutionOutputs'>, <class 'mediapipe.python.solution_base.SolutionOutputs'>, <class 'mediapipe.python.solution_base.SolutionOutputs'>, <class 'mediapipe.python.solution_base.SolutionOutputs'>, <class 'mediapipe.python.solution_base.SolutionOutputs'>, <class 'mediapipe.python.solution_base.SolutionOutputs'>, <class 'mediapipe.python.solution_base.SolutionOutputs'>, <class 'mediapipe.python.solution_base.SolutionOutputs'>, <class 'mediapipe.python.solution_base.SolutionOutputs'>, <class 'mediapipe.python.solution_base.SolutionOutputs'>, <class 'mediapipe.python.solution_base.SolutionOutputs'>, <class 'mediapipe.python.solution_base.SolutionOutputs'>, <class 'mediapipe.python.solution_base.SolutionOutputs'>, <class 'mediapipe.python.solution_base.SolutionOutputs'>, <class 'mediapipe.python.solution_base.SolutionOutputs'>, <class 'mediapipe.python.solution_base.SolutionOutputs'>, <class 'mediapipe.python.solution_base.SolutionOutputs'>, <class 'mediapipe.python.solution_base.SolutionOutputs'>]\n"
     ]
    }
   ],
   "source": [
    "pose_info = GetPose(c_video) #GetPose(c_video)\n",
    "print(type(pose_info))\n",
    "print(pose_info)\n"
   ]
  },
  {
   "cell_type": "code",
   "execution_count": 20,
   "metadata": {},
   "outputs": [
    {
     "name": "stdout",
     "output_type": "stream",
     "text": [
      "<class 'type'>\n",
      "<class 'mediapipe.framework.formats.landmark_pb2.NormalizedLandmarkList'>\n",
      "<class 'google._upb._message.RepeatedCompositeContainer'>\n",
      "<class 'type'>\n",
      "[x: 0.422408581\n",
      "y: 0.138015613\n",
      "z: -0.486073583\n",
      "visibility: 0.999927878\n",
      ", x: 0.432492167\n",
      "y: 0.0992877483\n",
      "z: -0.473404974\n",
      "visibility: 0.999850273\n",
      ", x: 0.440512717\n",
      "y: 0.0975428522\n",
      "z: -0.473418623\n",
      "visibility: 0.99981457\n",
      ", x: 0.44799608\n",
      "y: 0.0960707\n",
      "z: -0.473492324\n",
      "visibility: 0.999841094\n",
      ", x: 0.399934143\n",
      "y: 0.104568094\n",
      "z: -0.475177944\n",
      "visibility: 0.999726593\n",
      ", x: 0.390276372\n",
      "y: 0.106092006\n",
      "z: -0.475209296\n",
      "visibility: 0.999633074\n",
      ", x: 0.382227451\n",
      "y: 0.107128412\n",
      "z: -0.475250244\n",
      "visibility: 0.999619126\n",
      ", x: 0.459539831\n",
      "y: 0.101796716\n",
      "z: -0.344902277\n",
      "visibility: 0.999815762\n",
      ", x: 0.37091431\n",
      "y: 0.115304977\n",
      "z: -0.356209606\n",
      "visibility: 0.99919945\n",
      ", x: 0.440815121\n",
      "y: 0.159771234\n",
      "z: -0.433554351\n",
      "visibility: 0.999922395\n",
      ", x: 0.412032306\n",
      "y: 0.169854432\n",
      "z: -0.436514467\n",
      "visibility: 0.999881268\n",
      ", x: 0.514167905\n",
      "y: 0.219854921\n",
      "z: -0.25668785\n",
      "visibility: 0.999932885\n",
      ", x: 0.349909276\n",
      "y: 0.215368733\n",
      "z: -0.279097199\n",
      "visibility: 0.999146342\n",
      ", x: 0.531631529\n",
      "y: 0.369408458\n",
      "z: -0.234489769\n",
      "visibility: 0.913889468\n",
      ", x: 0.292278975\n",
      "y: 0.326460958\n",
      "z: -0.360448599\n",
      "visibility: 0.865370274\n",
      ", x: 0.509656906\n",
      "y: 0.482036769\n",
      "z: -0.298680723\n",
      "visibility: 0.851705134\n",
      ", x: 0.244124457\n",
      "y: 0.396516949\n",
      "z: -0.554491758\n",
      "visibility: 0.707849085\n",
      ", x: 0.514724791\n",
      "y: 0.518211305\n",
      "z: -0.322663188\n",
      "visibility: 0.799620569\n",
      ", x: 0.223533511\n",
      "y: 0.412727952\n",
      "z: -0.598432362\n",
      "visibility: 0.667459726\n",
      ", x: 0.49859181\n",
      "y: 0.517464221\n",
      "z: -0.341796458\n",
      "visibility: 0.798136234\n",
      ", x: 0.22622481\n",
      "y: 0.4059259\n",
      "z: -0.622329533\n",
      "visibility: 0.679036617\n",
      ", x: 0.493739128\n",
      "y: 0.50676626\n",
      "z: -0.306146473\n",
      "visibility: 0.785384357\n",
      ", x: 0.239933565\n",
      "y: 0.405426085\n",
      "z: -0.571117401\n",
      "visibility: 0.685006261\n",
      ", x: 0.503735721\n",
      "y: 0.437490076\n",
      "z: 0.0264527462\n",
      "visibility: 0.999683738\n",
      ", x: 0.429895252\n",
      "y: 0.462071806\n",
      "z: -0.0265827663\n",
      "visibility: 0.999426\n",
      ", x: 0.586287141\n",
      "y: 0.532832384\n",
      "z: -0.069435209\n",
      "visibility: 0.808761895\n",
      ", x: 0.416643053\n",
      "y: 0.607342\n",
      "z: -0.144307747\n",
      "visibility: 0.672913\n",
      ", x: 0.579719424\n",
      "y: 0.643088341\n",
      "z: 0.284912229\n",
      "visibility: 0.698404133\n",
      ", x: 0.428585678\n",
      "y: 0.723952\n",
      "z: 0.21195741\n",
      "visibility: 0.749936461\n",
      ", x: 0.566470861\n",
      "y: 0.65601486\n",
      "z: 0.316347957\n",
      "visibility: 0.46446234\n",
      ", x: 0.426917315\n",
      "y: 0.73884809\n",
      "z: 0.244533092\n",
      "visibility: 0.472353548\n",
      ", x: 0.604858279\n",
      "y: 0.735355318\n",
      "z: 0.25069502\n",
      "visibility: 0.63659209\n",
      ", x: 0.445358217\n",
      "y: 0.810248\n",
      "z: 0.152202651\n",
      "visibility: 0.691195607\n",
      "]\n",
      "<class 'google._upb._message.RepeatedCompositeContainer'>\n"
     ]
    }
   ],
   "source": [
    "print(type(pose_info[0]))\n",
    "print(type(pose_info[0].pose_landmarks))\n",
    "print(type(pose_info[0].pose_landmarks.landmark))\n",
    "print(type(pose_info[0]))\n",
    "print(pose_info[0].pose_landmarks.landmark)\n",
    "print(type(pose_info[0].pose_landmarks.landmark))"
   ]
  },
  {
   "cell_type": "markdown",
   "metadata": {},
   "source": [
    "# Unit vector extraction"
   ]
  },
  {
   "cell_type": "code",
   "execution_count": 21,
   "metadata": {},
   "outputs": [],
   "source": [
    "def ExtractPointsFromLandmarks(pose):\n",
    "    points = []\n",
    "    try:\n",
    "        for el in enumerate(pose.pose_landmarks.landmark):\n",
    "            points.append([el[1].x, el[1].y])\n",
    "    except:\n",
    "        print(f\"Error extracting points from landmarks\")\n",
    "        return np.zeros((33, 2))\n",
    "    return np.array(points)"
   ]
  },
  {
   "cell_type": "code",
   "execution_count": 22,
   "metadata": {},
   "outputs": [],
   "source": [
    "def ExtractPoints(pose_info):\n",
    "    points2d = []\n",
    "    err_counter = 0\n",
    "    for frame in pose_info:\n",
    "        points2d.append(ExtractPointsFromLandmarks(frame))\n",
    "    return np.array(points2d)"
   ]
  },
  {
   "cell_type": "code",
   "execution_count": 23,
   "metadata": {},
   "outputs": [],
   "source": [
    "def PointsToUnitVectors(points, camera_frame):\n",
    "    ones = np.ones((points.shape[0], 1))\n",
    "    direction_vectors = np.hstack((points.reshape(-1, 2), ones))\n",
    "    direction_vectors /= np.linalg.norm(direction_vectors, axis=1, keepdims=True)\n",
    "    return direction_vectors"
   ]
  },
  {
   "cell_type": "code",
   "execution_count": 24,
   "metadata": {},
   "outputs": [],
   "source": [
    "def PointListToUnitVectors(frames, camera_frame):\n",
    "    unit_vectors = []\n",
    "    for frame in frames:\n",
    "        unit_vectors.append(PointsToUnitVectors(frame, camera_frame))\n",
    "    return np.array(unit_vectors)"
   ]
  },
  {
   "cell_type": "code",
   "execution_count": 25,
   "metadata": {},
   "outputs": [],
   "source": [
    "def LoadCameraFrame(data_path): #loads a camera reference frame, used to convert local coordinates to global coordinates\n",
    "    pass"
   ]
  },
  {
   "cell_type": "code",
   "execution_count": 26,
   "metadata": {},
   "outputs": [
    {
     "name": "stdout",
     "output_type": "stream",
     "text": [
      "Error extracting points from landmarks\n",
      "Error extracting points from landmarks\n",
      "Error extracting points from landmarks\n",
      "Error extracting points from landmarks\n",
      "Error extracting points from landmarks\n",
      "Error extracting points from landmarks\n",
      "Error extracting points from landmarks\n",
      "Error extracting points from landmarks\n",
      "Error extracting points from landmarks\n",
      "Error extracting points from landmarks\n",
      "Error extracting points from landmarks\n",
      "Error extracting points from landmarks\n",
      "Error extracting points from landmarks\n",
      "Error extracting points from landmarks\n",
      "Error extracting points from landmarks\n",
      "Error extracting points from landmarks\n",
      "Error extracting points from landmarks\n",
      "Error extracting points from landmarks\n",
      "Error extracting points from landmarks\n",
      "Error extracting points from landmarks\n",
      "Error extracting points from landmarks\n",
      "Error extracting points from landmarks\n",
      "Error extracting points from landmarks\n",
      "Error extracting points from landmarks\n",
      "Error extracting points from landmarks\n",
      "Error extracting points from landmarks\n",
      "Error extracting points from landmarks\n",
      "Error extracting points from landmarks\n",
      "Error extracting points from landmarks\n",
      "Error extracting points from landmarks\n",
      "Error extracting points from landmarks\n",
      "Error extracting points from landmarks\n",
      "Error extracting points from landmarks\n",
      "Error extracting points from landmarks\n",
      "Error extracting points from landmarks\n",
      "Error extracting points from landmarks\n",
      "Error extracting points from landmarks\n",
      "Error extracting points from landmarks\n",
      "Error extracting points from landmarks\n",
      "Error extracting points from landmarks\n",
      "Error extracting points from landmarks\n",
      "Error extracting points from landmarks\n",
      "Error extracting points from landmarks\n",
      "Error extracting points from landmarks\n",
      "Error extracting points from landmarks\n",
      "Error extracting points from landmarks\n",
      "Error extracting points from landmarks\n",
      "Error extracting points from landmarks\n",
      "Error extracting points from landmarks\n",
      "Error extracting points from landmarks\n",
      "Error extracting points from landmarks\n",
      "Error extracting points from landmarks\n",
      "Error extracting points from landmarks\n",
      "Error extracting points from landmarks\n",
      "Error extracting points from landmarks\n",
      "Error extracting points from landmarks\n",
      "Error extracting points from landmarks\n",
      "Error extracting points from landmarks\n",
      "Error extracting points from landmarks\n",
      "Error extracting points from landmarks\n",
      "Error extracting points from landmarks\n",
      "Error extracting points from landmarks\n",
      "Error extracting points from landmarks\n",
      "Error extracting points from landmarks\n",
      "Error extracting points from landmarks\n",
      "Error extracting points from landmarks\n",
      "Error extracting points from landmarks\n",
      "Error extracting points from landmarks\n",
      "Error extracting points from landmarks\n",
      "Error extracting points from landmarks\n"
     ]
    }
   ],
   "source": [
    "points2D = ExtractPoints(pose_info)\n",
    "camera_frame = LoadCameraFrame(data_path + \"/camera_matrix\") #dataset.meta.camera_frame\n",
    "unit_vectors = PointListToUnitVectors(points2D, [])# dataset.meta.camera_frame)"
   ]
  },
  {
   "cell_type": "markdown",
   "metadata": {},
   "source": [
    "# Conversion to 3D"
   ]
  },
  {
   "cell_type": "code",
   "execution_count": 27,
   "metadata": {},
   "outputs": [],
   "source": [
    "def calculate_camera_distance(coords_start, coords_end, image_width=None, image_height=None, pixel_coords=False):\n",
    "    \"\"\"Compute Euclidean distance between two landmarks.\"\"\"\n",
    "    if pixel_coords and image_width and image_height:\n",
    "        x1, y1 = coords_start.x * image_width, coords_start.y * image_height\n",
    "        x2, y2 = coords_end.x * image_width, coords_end.y * image_height\n",
    "    else:\n",
    "        x1, y1 = coords_start.x, coords_start.y\n",
    "        x2, y2 = coords_end.x, coords_end.y\n",
    "\n",
    "    return math.sqrt((x2 - x1)**2 + (y2 - y1)**2)"
   ]
  },
  {
   "cell_type": "code",
   "execution_count": 76,
   "metadata": {},
   "outputs": [],
   "source": [
    "def GetPoseSegments():\n",
    "    POSE_SEGMENTS = {\n",
    "    # Head and Torso\n",
    "    \"head_to_shoulders\": (0, 11),       # Nose to Left Shoulder\n",
    "    \"shoulders\": (11, 12),              # Left Shoulder to Right Shoulder\n",
    "    \"torso\": (23, 24),                  # Left Hip to Right Hip\n",
    "    \"spine_left\": (11, 23),            # Left Shoulder to Left Hip\n",
    "    \"spine_right\": (12, 24),            # Right Shoulder to Right Hip\n",
    "\n",
    "    # Left Arm\n",
    "    \"left_upper_arm\": (11, 13),         # Shoulder to Elbow\n",
    "    \"left_forearm\": (13, 15),           # Elbow to Wrist\n",
    "    \"left_hand_index\": (15, 19),        # Wrist to Index Finger Tip\n",
    "    \"left_hand_thumb\": (15, 21),        # Wrist to Thumb Tip\n",
    "\n",
    "    # Right Arm\n",
    "    \"right_upper_arm\": (12, 14),        # Shoulder to Elbow\n",
    "    \"right_forearm\": (14, 16),          # Elbow to Wrist\n",
    "    \"right_hand_index\": (16, 20),       # Wrist to Index Finger Tip\n",
    "    \"right_hand_thumb\": (16, 22),       # Wrist to Thumb Tip\n",
    "\n",
    "    # Left Leg\n",
    "    \"left_thigh\": (23, 25),             # Hip to Knee\n",
    "    \"left_shin\": (25, 27),              # Knee to Ankle\n",
    "    \"left_foot\": (27, 31),              # Ankle to Foot Index (toe)\n",
    "\n",
    "    # Right Leg\n",
    "    \"right_thigh\": (24, 26),            # Hip to Knee\n",
    "    \"right_shin\": (26, 28),             # Knee to Ankle\n",
    "    \"right_foot\": (28, 32),             # Ankle to Foot Index (toe)\n",
    "    }\n",
    "    return POSE_SEGMENTS"
   ]
  },
  {
   "cell_type": "code",
   "execution_count": 77,
   "metadata": {},
   "outputs": [],
   "source": [
    "def LeastSquares(unit_vectors, point_distance_pairs):\n",
    "    POSE_SEGMENTS = GetPoseSegments()\n",
    "    # calculate distances between point pairs\n",
    "    distances = {}\n",
    "    #for segment, (start, end) in POSE_SEGMENTS.items():\n",
    "    #    distances[segment] = calculate_camera_distance(pose[start], pose[end])\n",
    "    \n",
    "    # least squares fitting\n",
    "    def error_function(X):\n",
    "        X = X.reshape(-1, 3)  # Reshape to (N, 3)\n",
    "        errors = []\n",
    "        for key, d_ij in point_distance_pairs.items():\n",
    "            i,j  = POSE_SEGMENTS[key]\n",
    "            dist = np.linalg.norm(X[i] - X[j])  # Euclidean distance\n",
    "            errors.append(dist - d_ij)  # Difference from known distance\n",
    "        return errors\n",
    "\n",
    "    # Initial guess: Assume all points lie along their respective unit vectors, scaled\n",
    "    initial_guess = unit_vectors * 2.0  # Arbitrary scale\n",
    "\n",
    "    # Solve using least squares optimization\n",
    "    result = least_squares(error_function, initial_guess.ravel())\n",
    "\n",
    "    # Extract optimized 3D points\n",
    "    reconstructed_points = result.x.reshape(-1, 3)\n",
    "    #print(\"Reconstructed 3D Points:\\n\", reconstructed_points)\n",
    "\n",
    "    return reconstructed_points"
   ]
  },
  {
   "cell_type": "code",
   "execution_count": 29,
   "metadata": {},
   "outputs": [],
   "source": [
    "def GetConstPairs(data_path):\n",
    "    # TODO get pairs from metadata\n",
    "    pairs = {\n",
    "    # Head and Torso\n",
    "    \"head_to_shoulders\": 0.2,       # Nose to Left Shoulder\n",
    "    \"shoulders\": 0.34,              # Left Shoulder to Right Shoulder\n",
    "    \"torso\": 0.32,                  # Left Hip to Right Hip\n",
    "    \"spine_left\": 0.50,            # Left Shoulder to Left Hip\n",
    "    \"spine_right\": 0.52,            # Right Shoulder to Right Hip\n",
    "\n",
    "    # Left Arm\n",
    "    \"left_upper_arm\": 0.3,         # Shoulder to Elbow\n",
    "    \"left_forearm\": 0.18,           # Elbow to Wrist\n",
    "    \"left_hand_index\": 0.10,        # Wrist to Index Finger Tip\n",
    "    \"left_hand_thumb\": 0.08,        # Wrist to Thumb Tip\n",
    "\n",
    "    # Right Arm\n",
    "    \"right_upper_arm\": 0.3,        # Shoulder to Elbow\n",
    "    \"right_forearm\": 0.18,          # Elbow to Wrist\n",
    "    \"right_hand_index\": 0.10,       # Wrist to Index Finger Tip\n",
    "    \"right_hand_thumb\": 0.08,       # Wrist to Thumb Tip\n",
    "\n",
    "    # Left Leg\n",
    "    \"left_thigh\": 0.50,             # Hip to Knee\n",
    "    \"left_shin\": 0.35,              # Knee to Ankle\n",
    "    \"left_foot\": 0.2,              # Ankle to Foot Index (toe)\n",
    "\n",
    "    # Right Leg\n",
    "    \"right_thigh\": 0.5,            # Hip to Knee\n",
    "    \"right_shin\": 0.35,             # Knee to Ankle\n",
    "    \"right_foot\": 0.2,             # Ankle to Foot Index (toe)\n",
    "    }\n",
    "\n",
    "    return pairs"
   ]
  },
  {
   "cell_type": "code",
   "execution_count": 30,
   "metadata": {},
   "outputs": [],
   "source": [
    "def LeastSquaresArray(unit_vector_frames, const_pairs):\n",
    "    points3D_ = []\n",
    "    for unit_vectors in unit_vector_frames:\n",
    "        points3D_.append(LeastSquares(unit_vectors, const_pairs))\n",
    "    return points3D_"
   ]
  },
  {
   "cell_type": "code",
   "execution_count": 31,
   "metadata": {},
   "outputs": [],
   "source": [
    "const_pairs = GetConstPairs(data_path + \"/rider_keypointpairs\") #dataset.meta.rider_info.GetConstPairs()\n",
    "points3D = LeastSquaresArray(unit_vectors, const_pairs)"
   ]
  },
  {
   "cell_type": "code",
   "execution_count": 32,
   "metadata": {},
   "outputs": [
    {
     "name": "stdout",
     "output_type": "stream",
     "text": [
      "<class 'list'>\n",
      "<class 'numpy.ndarray'>\n",
      "(33, 3)\n",
      "[[0.73373793 0.19798252 1.85625191]\n",
      " [0.79063847 0.18150783 1.82809894]\n",
      " [0.80307014 0.17782404 1.82303509]\n",
      " [0.81456187 0.17467905 1.81823436]\n",
      " [0.73919998 0.19327365 1.84830427]\n",
      " [0.72361203 0.19670535 1.85410157]\n",
      " [0.71052183 0.19914079 1.85889797]\n",
      " [0.83157114 0.18420865 1.8095736 ]\n",
      " [0.69149644 0.21496334 1.8643024 ]\n",
      " [0.79824129 0.28931856 1.81083009]\n",
      " [0.75269719 0.31028867 1.82679169]\n",
      " [0.91263208 0.24262569 1.77876727]\n",
      " [0.60014375 0.20246426 1.90658784]\n",
      " [0.88302311 0.53266141 1.7080383 ]\n",
      " [0.45749278 0.46605196 1.91971113]\n",
      " [0.82602068 0.69756916 1.66380981]\n",
      " [0.48834123 0.60779774 1.81314422]\n",
      " [0.83131454 0.83694549 1.61506606]\n",
      " [0.40470379 0.74723724 1.81048373]\n",
      " [0.82894024 0.79374049 1.63656003]\n",
      " [0.45795948 0.70301495 1.8164049 ]\n",
      " [0.83318951 0.77449303 1.64304143]\n",
      " [0.4854202  0.68758164 1.81824286]\n",
      " [0.86143019 0.73926258 1.7517457 ]\n",
      " [0.58600821 0.72222247 1.91377153]\n",
      " [1.17863667 0.90860096 1.40432008]\n",
      " [0.55502912 1.15375219 1.66312754]\n",
      " [0.87267197 1.06044047 1.48067689]\n",
      " [0.60213099 1.37666256 1.39743526]\n",
      " [0.85611903 0.99144871 1.5113205 ]\n",
      " [0.6495049  1.12407119 1.52138336]\n",
      " [0.87562476 1.21103079 1.34909484]\n",
      " [0.66157506 1.47845647 1.23586668]]\n"
     ]
    }
   ],
   "source": [
    "print(type(points3D))\n",
    "print(type(points3D[0]))\n",
    "print(points3D[0].shape)\n",
    "print(points3D[0])"
   ]
  },
  {
   "cell_type": "markdown",
   "metadata": {},
   "source": [
    "# Points to Area"
   ]
  },
  {
   "cell_type": "code",
   "execution_count": null,
   "metadata": {},
   "outputs": [],
   "source": [
    "def compute_bone_transform(p1, p2):\n",
    "    \"\"\"Returns rotation matrix to align bone with direction p1 → p2\"\"\"\n",
    "    direction = np.array(p2) - np.array(p1)\n",
    "    direction /= np.linalg.norm(direction)\n",
    "    # Assume rest pose is along +Y, compute rotation to match\n",
    "    rot, _ = R.align_vectors([direction], [[0, 1, 0]])\n",
    "    return rot.as_matrix()"
   ]
  },
  {
   "cell_type": "code",
   "execution_count": 59,
   "metadata": {},
   "outputs": [],
   "source": [
    "def Fit3DMesh(points, mesh):\n",
    "    # points is a 33 x 3 3D point array\n",
    "    # mesh is a gltf skeleton that can be rigged to pose\n",
    "    # fitted mesh is the initial mesh fitted to the given pose\n",
    "    #fitted_mesh = trimesh.load(mesh, process=False)\n",
    "    fitted_mesh = mesh\n",
    "    #for bone in fitted_mesh:\n",
    "        # get the pair of points\n",
    "        # Align the bone to mesh\n",
    "        #pass\n",
    "    return fitted_mesh"
   ]
  },
  {
   "cell_type": "code",
   "execution_count": 51,
   "metadata": {},
   "outputs": [],
   "source": [
    "def GetRiderMesh(data_path):\n",
    "    scene = trimesh.load(data_path, process=False)\n",
    "    mesh = scene.dump(concatenate=True)\n",
    "    return mesh"
   ]
  },
  {
   "cell_type": "code",
   "execution_count": 53,
   "metadata": {},
   "outputs": [],
   "source": [
    "def GetRiderMeshFromGLTF(data_path):\n",
    "    print(data_path)\n",
    "    gltf = GLTF2().load(data_path)\n",
    "    print(gltf)\n",
    "    #mesh = trimesh.load(gltf, process=False)\n",
    "    return gltf"
   ]
  },
  {
   "cell_type": "code",
   "execution_count": 111,
   "metadata": {},
   "outputs": [],
   "source": [
    "def create_cylinder_between(p1, p2, radius=0.05, sections=16):\n",
    "    p1, p2 = np.array(p1), np.array(p2)\n",
    "    vec = p2 - p1\n",
    "    height = np.linalg.norm(vec)\n",
    "\n",
    "    # Create cylinder along Z-axis\n",
    "    cylinder = trimesh.creation.cylinder(radius=radius, height=height, sections=sections)\n",
    "\n",
    "    # Align it to the vector\n",
    "    z_axis = np.array([0, 0, 1])\n",
    "    if not np.allclose(vec, z_axis):\n",
    "        transform = trimesh.geometry.align_vectors(z_axis, vec)\n",
    "        cylinder.apply_transform(transform)\n",
    "\n",
    "    # Move to midpoint\n",
    "    midpoint = (p1 + p2) / 2\n",
    "    cylinder.apply_translation(midpoint)\n",
    "\n",
    "    return cylinder"
   ]
  },
  {
   "cell_type": "code",
   "execution_count": 109,
   "metadata": {},
   "outputs": [],
   "source": [
    "def show_mesh(mesh, points, point_pairs):\n",
    "    # Show the mesh using trimesh\n",
    "    #mesh = mesh.dump(concatenate=True)\n",
    "    scene = pyrender.Scene()\n",
    "    mesh = pyrender.Mesh.from_trimesh(mesh)\n",
    "    camera = pyrender.PerspectiveCamera(yfov=np.pi / 3.0)\n",
    "    rot_z = rotation_matrix(np.radians(90), [0, 1, 0])\n",
    "\n",
    "    # Optional: move camera back a bit to see the scene\n",
    "    trans = np.eye(4)\n",
    "    trans[:3, 3] = [0, 0, 2]  # Move camera 2 units back along Z\n",
    "\n",
    "    # Combine rotation and translation\n",
    "    camera_pose = trans @ rot_z\n",
    "\n",
    "    # Add camera to scene\n",
    "    scene.add(camera, pose=camera_pose)\n",
    "    scene.add(mesh)\n",
    "    for point in points:\n",
    "        s = trimesh.creation.icosphere(radius=0.01)\n",
    "        s.apply_translation(point)\n",
    "        scene.add(pyrender.Mesh.from_trimesh(s))\n",
    "    for p1,p2 in point_pairs:\n",
    "        cylinder = create_cylinder_between(p1, p2)\n",
    "        scene.add(pyrender.Mesh.from_trimesh(cylinder))\n",
    "    \n",
    "    pyrender.Viewer(scene, use_raymond_lighting=True)"
   ]
  },
  {
   "cell_type": "code",
   "execution_count": null,
   "metadata": {},
   "outputs": [],
   "source": [
    "def GetRiderMeasurements(data_path):\n",
    "    csv_data = pandas.read_csv(data_path)\n",
    "    return csv_data"
   ]
  },
  {
   "cell_type": "code",
   "execution_count": null,
   "metadata": {},
   "outputs": [],
   "source": [
    "def ScaleToRider(model, rider_measurements):\n",
    "    # Scale joints in the model to match rider measurements\n",
    "    scaled_model = model.copy()\n",
    "    for i, row in rider_measurements.iterrows():\n",
    "        # Assuming the first column is the name and the second is the measurement\n",
    "        name = row[0]\n",
    "        measurement = row[1]\n",
    "        # Find the corresponding mesh part and scale it\n",
    "        if name in model:\n",
    "            model[name].vertices *= measurement\n",
    "    return scaled_model"
   ]
  },
  {
   "cell_type": "code",
   "execution_count": null,
   "metadata": {},
   "outputs": [],
   "source": [
    "def ConvertToTrimesh(gltf, points):\n",
    "    # Convert GLTF to trimesh through saving and loading the mesh\n",
    "    gltf.save(\"./data/raw/temp.gltf\")\n",
    "    mesh = trimesh.load(\"./data/raw/temp.gltf\", process=False)\n",
    "    return mesh"
   ]
  },
  {
   "cell_type": "code",
   "execution_count": 92,
   "metadata": {},
   "outputs": [],
   "source": [
    "def GetPointPairs(points, point_pairs):\n",
    "    # Get the pairs of points from the list\n",
    "    pairs = []\n",
    "    for pair in point_pairs:\n",
    "        print(pair)\n",
    "        p1 = points[point_pairs[pair][0]]\n",
    "        p2 = points[point_pairs[pair][1]]\n",
    "        pairs.append((p1, p2))\n",
    "    return np.array(pairs)"
   ]
  },
  {
   "cell_type": "code",
   "execution_count": 113,
   "metadata": {},
   "outputs": [
    {
     "name": "stdout",
     "output_type": "stream",
     "text": [
      "{'head_to_shoulders': (0, 11), 'shoulders': (11, 12), 'torso': (23, 24), 'spine_left': (11, 23), 'spine_right': (12, 24), 'left_upper_arm': (11, 13), 'left_forearm': (13, 15), 'left_hand_index': (15, 19), 'left_hand_thumb': (15, 21), 'right_upper_arm': (12, 14), 'right_forearm': (14, 16), 'right_hand_index': (16, 20), 'right_hand_thumb': (16, 22), 'left_thigh': (23, 25), 'left_shin': (25, 27), 'left_foot': (27, 31), 'right_thigh': (24, 26), 'right_shin': (26, 28), 'right_foot': (28, 32)}\n",
      "head_to_shoulders\n",
      "shoulders\n",
      "torso\n",
      "spine_left\n",
      "spine_right\n",
      "left_upper_arm\n",
      "left_forearm\n",
      "left_hand_index\n",
      "left_hand_thumb\n",
      "right_upper_arm\n",
      "right_forearm\n",
      "right_hand_index\n",
      "right_hand_thumb\n",
      "left_thigh\n",
      "left_shin\n",
      "left_foot\n",
      "right_thigh\n",
      "right_shin\n",
      "right_foot\n",
      "[[[0.73373793 0.19798252 1.85625191]\n",
      "  [0.91263208 0.24262569 1.77876727]]\n",
      "\n",
      " [[0.91263208 0.24262569 1.77876727]\n",
      "  [0.60014375 0.20246426 1.90658784]]\n",
      "\n",
      " [[0.86143019 0.73926258 1.7517457 ]\n",
      "  [0.58600821 0.72222247 1.91377153]]\n",
      "\n",
      " [[0.91263208 0.24262569 1.77876727]\n",
      "  [0.86143019 0.73926258 1.7517457 ]]\n",
      "\n",
      " [[0.60014375 0.20246426 1.90658784]\n",
      "  [0.58600821 0.72222247 1.91377153]]\n",
      "\n",
      " [[0.91263208 0.24262569 1.77876727]\n",
      "  [0.88302311 0.53266141 1.7080383 ]]\n",
      "\n",
      " [[0.88302311 0.53266141 1.7080383 ]\n",
      "  [0.82602068 0.69756916 1.66380981]]\n",
      "\n",
      " [[0.82602068 0.69756916 1.66380981]\n",
      "  [0.82894024 0.79374049 1.63656003]]\n",
      "\n",
      " [[0.82602068 0.69756916 1.66380981]\n",
      "  [0.83318951 0.77449303 1.64304143]]\n",
      "\n",
      " [[0.60014375 0.20246426 1.90658784]\n",
      "  [0.45749278 0.46605196 1.91971113]]\n",
      "\n",
      " [[0.45749278 0.46605196 1.91971113]\n",
      "  [0.48834123 0.60779774 1.81314422]]\n",
      "\n",
      " [[0.48834123 0.60779774 1.81314422]\n",
      "  [0.45795948 0.70301495 1.8164049 ]]\n",
      "\n",
      " [[0.48834123 0.60779774 1.81314422]\n",
      "  [0.4854202  0.68758164 1.81824286]]\n",
      "\n",
      " [[0.86143019 0.73926258 1.7517457 ]\n",
      "  [1.17863667 0.90860096 1.40432008]]\n",
      "\n",
      " [[1.17863667 0.90860096 1.40432008]\n",
      "  [0.87267197 1.06044047 1.48067689]]\n",
      "\n",
      " [[0.87267197 1.06044047 1.48067689]\n",
      "  [0.87562476 1.21103079 1.34909484]]\n",
      "\n",
      " [[0.58600821 0.72222247 1.91377153]\n",
      "  [0.55502912 1.15375219 1.66312754]]\n",
      "\n",
      " [[0.55502912 1.15375219 1.66312754]\n",
      "  [0.60213099 1.37666256 1.39743526]]\n",
      "\n",
      " [[0.60213099 1.37666256 1.39743526]\n",
      "  [0.66157506 1.47845647 1.23586668]]]\n"
     ]
    }
   ],
   "source": [
    "point_pairs = GetPoseSegments() #dataset.meta.rider_info.GetConstPairs()\n",
    "print(point_pairs)\n",
    "point_pairs_3d = GetPointPairs(points3D[0], point_pairs)\n",
    "print(point_pairs_3d)"
   ]
  },
  {
   "cell_type": "code",
   "execution_count": 114,
   "metadata": {},
   "outputs": [
    {
     "name": "stderr",
     "output_type": "stream",
     "text": [
      "/tmp/ipykernel_1464493/897044725.py:3: DeprecationWarning: `Scene.dump(concatenate=True)` DEPRECATED FOR REMOVAL APRIL 2025: replace with `Scene.to_geometry()`\n",
      "  mesh = scene.dump(concatenate=True)\n"
     ]
    }
   ],
   "source": [
    "mesh = GetRiderMesh(\"./\" + data_path + \"rider.gltf\")"
   ]
  },
  {
   "cell_type": "code",
   "execution_count": 115,
   "metadata": {},
   "outputs": [],
   "source": [
    "#gltf = GetRiderMeshFromGLTF(\"./\" + data_path + \"rider.gltf\") #dataset.meta.rider_info.GetMesh()\n",
    "#sized_gltf = ScaleToRider(gltf, GetRiderMeasurements(data_path + \"rider_measurements.csv\")) #dataset.meta.rider_info.GetMeshMeasurements()\n",
    "#fitted_gltf = Fit3DMesh(points3D[0], sized_gltf) # Needs to be converted to an array method or just used for a test. Maybe can be output as an animation?\n",
    "#fitted_mesh = ConvertToTrimesh(fitted_gltf)\n",
    "show_mesh(mesh, points3D[0], point_pairs_3d)"
   ]
  },
  {
   "cell_type": "markdown",
   "metadata": {},
   "source": [
    "# Projection to Plane"
   ]
  },
  {
   "cell_type": "code",
   "execution_count": 116,
   "metadata": {},
   "outputs": [],
   "source": [
    "def CreatePlane(normal_vec, camera_pos):\n",
    "    return (normal_vec, camera_pos)"
   ]
  },
  {
   "cell_type": "code",
   "execution_count": 117,
   "metadata": {},
   "outputs": [],
   "source": [
    "def CreatePlanes(wind_data, camera_position = (0,0,0)):\n",
    "    planes = []\n",
    "    for datapoint in wind_data:\n",
    "        planes.append(CreatePlane(datapoint, camera_position)) # TODO Replace with a better method\n",
    "    return planes"
   ]
  },
  {
   "cell_type": "code",
   "execution_count": 120,
   "metadata": {},
   "outputs": [],
   "source": [
    "def ProjectToPlane(polyline, plane):\n",
    "    polyline[:, 2] = 0  # Set Z-coordinates to 0\n",
    "    return polyline\n",
    "\n",
    "#def flatten_to_2d(points_3d, plane_point, plane_normal):\n",
    "#    u, v = plane_basis(plane_normal)\n",
    "#    points_2d = []\n",
    "#    for p in points_3d:\n",
    "#        vec = p - plane_point\n",
    "#        x = np.dot(vec, u)\n",
    "#        y = np.dot(vec, v)\n",
    "#        points_2d.append((x, y))\n",
    "#    return points_2d\n",
    "    #normal = plane[0] / np.linalg.norm(plane[0])  # Normalize normal vector\n",
    "\n",
    "    # Compute distances from points to the plane\n",
    "    #d = np.dot(polyline - plane[1], normal) / np.dot(normal, normal)\n",
    "\n",
    "    # Compute projected points\n",
    "    #projected_points = polyline - d[:, np.newaxis] * normal\n",
    "\n",
    "    #return projected_points"
   ]
  },
  {
   "cell_type": "code",
   "execution_count": 118,
   "metadata": {},
   "outputs": [],
   "source": [
    "def ProjectToPlanes(mesh, points3D, planes):\n",
    "    shapes = []\n",
    "    default_plane = planes[0] # add a getter for default plane\n",
    "    for pose in points3D:\n",
    "        fitted_mesh = Fit3DMesh(pose, mesh)\n",
    "        shape = ProjectToPlane(fitted_mesh.vertices, default_plane) #TODO replace default plane with an itterated plane from planes (requires zipping points 3d and planes)\n",
    "        shapes.append(shape)\n",
    "    return shapes"
   ]
  },
  {
   "cell_type": "code",
   "execution_count": 121,
   "metadata": {},
   "outputs": [],
   "source": [
    "plane_origin = np.array([0, 0, 0])\n",
    "plane_normal = np.array([0, 0, 1])\n",
    "planes = [(plane_normal, plane_origin)]#CreatePlanes(dataset.wind_direction) # Needs to be converted to an array method\n",
    "polyshapes = ProjectToPlanes(mesh, points3D, planes) # Needs to be converted to an array method # technically, can be gotten through a different projection as well - project keypoints and draw an outline via points and arcs"
   ]
  },
  {
   "cell_type": "markdown",
   "metadata": {},
   "source": [
    "# Calculate CdA"
   ]
  },
  {
   "cell_type": "code",
   "execution_count": 122,
   "metadata": {},
   "outputs": [],
   "source": [
    "def GetArea(polyshape, alpha = 0.3):\n",
    "    alpha_shape = alphashape.alphashape(polyshape, alpha)\n",
    "    if isinstance(alpha_shape, Polygon):  # Ensure it's a polygon, not a multipolygon\n",
    "        area = alpha_shape.area\n",
    "        print(f\"Alpha Shape Area: {area:.2f} square units\")\n",
    "        return area\n",
    "    else:\n",
    "        print(\"Alpha shape resulted in multiple disconnected components\")\n",
    "        return 0 # later iterate through components"
   ]
  },
  {
   "cell_type": "code",
   "execution_count": 123,
   "metadata": {},
   "outputs": [],
   "source": [
    "def CalculateCdA(area, coifs=[0.3]):\n",
    "    return area*coifs[0]"
   ]
  },
  {
   "cell_type": "code",
   "execution_count": 124,
   "metadata": {},
   "outputs": [],
   "source": [
    "def CalculateDrag(velocity, cda, air_density=1):\n",
    "    return 0.5 * air_density * cda * velocity**2"
   ]
  },
  {
   "cell_type": "code",
   "execution_count": 125,
   "metadata": {},
   "outputs": [],
   "source": [
    "def CalculateRelative(power, drag, in_per):\n",
    "    return 100*drag/power"
   ]
  },
  {
   "cell_type": "code",
   "execution_count": 126,
   "metadata": {},
   "outputs": [],
   "source": [
    "def CalculateParamsFromShapes(polyshapes, velocity_data, backup_results=False):\n",
    "    outputs = []\n",
    "    for polyshape in polyshapes:\n",
    "        results = {}\n",
    "        results['Area'] = GetArea(polyshape)\n",
    "        results['Velocity'] = velocity_data #TODO Zip velocity data to polyshape\n",
    "        results['CdA'] = CalculateCdA(results['Area'])\n",
    "        results['Drag'] = CalculateDrag(results['Velocity'], results['CdA'])\n",
    "        results['Power'] = dataset.fit_data['record']['power'] #TODO Zip power data to polyshape\n",
    "        results['Relative'] = CalculateRelative(results['Power'], results['Drag'])\n",
    "        outputs.append(results)\n",
    "    df = pandas.DataFrame(outputs)\n",
    "    if backup_results:\n",
    "        df.to_csv('data/output/outputs.csv', index=False)\n",
    "    return df"
   ]
  },
  {
   "cell_type": "code",
   "execution_count": 127,
   "metadata": {},
   "outputs": [
    {
     "ename": "AttributeError",
     "evalue": "'SessionData' object has no attribute 'velocity'",
     "output_type": "error",
     "traceback": [
      "\u001b[31m---------------------------------------------------------------------------\u001b[39m",
      "\u001b[31mAttributeError\u001b[39m                            Traceback (most recent call last)",
      "\u001b[36mCell\u001b[39m\u001b[36m \u001b[39m\u001b[32mIn[127]\u001b[39m\u001b[32m, line 1\u001b[39m\n\u001b[32m----> \u001b[39m\u001b[32m1\u001b[39m cda_results = CalculateParamsFromShapes(polyshapes, \u001b[43mdataset\u001b[49m\u001b[43m.\u001b[49m\u001b[43mvelocity\u001b[49m)\n\u001b[32m      2\u001b[39m \u001b[38;5;28mprint\u001b[39m(cda_results.sample(\u001b[32m5\u001b[39m))\n",
      "\u001b[31mAttributeError\u001b[39m: 'SessionData' object has no attribute 'velocity'"
     ]
    }
   ],
   "source": [
    "cda_results = CalculateParamsFromShapes(polyshapes, dataset.velocity)\n",
    "print(cda_results.sample(5))"
   ]
  },
  {
   "cell_type": "code",
   "execution_count": 128,
   "metadata": {},
   "outputs": [
    {
     "ename": "QhullError",
     "evalue": "QH6154 Qhull precision error: Initial simplex is flat (facet 1 is coplanar with the interior point)\n\nWhile executing:  | qhull d Qt Qz Qc Q12 Qbb\nOptions selected for Qhull 2019.1.r 2019/06/21:\n  run-id 254511612  delaunay  Qtriangulate  Qz-infinity-point  Qcoplanar-keep\n  Q12-allow-wide  Qbbound-last  _pre-merge  _zero-centrum  Qinterior-keep\n  Pgood  _max-width 1.4  Error-roundoff 2.8e-15  _one-merge 2.6e-14\n  Visible-distance 1.7e-14  U-max-coplanar 1.7e-14  Width-outside 3.4e-14\n  _wide-facet 1e-13  _maxoutside 3.4e-14\n\nprecision problems (corrected unless 'Q0' or an error)\n  12007 zero divisors during gaussian elimination\n\nThe input to qhull appears to be less than 4 dimensional, or a\ncomputation has overflowed.\n\nQhull could not construct a clearly convex simplex from points:\n- p0(v5): -0.12 0.081     0 0.0033\n- p6922(v4):  0.15 -0.0046     0 0.0037\n- p9041(v3): -2.3e-05   1.4     0   1.3\n- p11702(v2):  0.37  0.64     0  0.34\n- p5605(v1): -0.37  0.64     0  0.34\n\nThe center point is coplanar with a facet, or a vertex is coplanar\nwith a neighboring facet.  The maximum round off error for\ncomputing distances is 2.8e-15.  The center point, facets and distances\nto the center point are as follows:\n\ncenter point 0.005499   0.5512        0   0.3935\n\nfacet p6922 p9041 p11702 p5605 distance=    0\nfacet p0 p9041 p11702 p5605 distance=    0\nfacet p0 p6922 p11702 p5605 distance=    0\nfacet p0 p6922 p9041 p5605 distance=    0\nfacet p0 p6922 p9041 p11702 distance=    0\n\nThese points either have a maximum or minimum x-coordinate, or\nthey maximize the determinant for k coordinates.  Trial points\nare first selected from points that maximize a coordinate.\n\nThe min and max coordinates for each dimension are:\n  0:   -0.3675    0.3674  difference= 0.7349\n  1:  -0.00463     1.406  difference= 1.41\n  2:         0         0  difference=    0\n  3:         0     1.406  difference= 1.406\n\nIf the input should be full dimensional, you have several options that\nmay determine an initial simplex:\n  - use 'QJ'  to joggle the input and make it full dimensional\n  - use 'QbB' to scale the points to the unit cube\n  - use 'QR0' to randomly rotate the input for different maximum points\n  - use 'Qs'  to search all points for the initial simplex\n  - use 'En'  to specify a maximum roundoff error less than 2.8e-15.\n  - trace execution with 'T3' to see the determinant for each point.\n\nIf the input is lower dimensional:\n  - use 'QJ' to joggle the input and make it full dimensional\n  - use 'Qbk:0Bk:0' to delete coordinate k from the input.  You should\n    pick the coordinate with the least range.  The hull will have the\n    correct topology.\n  - determine the flat containing the points, rotate the points\n    into a coordinate plane, and delete the other coordinates.\n  - add one or more points to make the input full dimensional.\n",
     "output_type": "error",
     "traceback": [
      "\u001b[31m---------------------------------------------------------------------------\u001b[39m",
      "\u001b[31mQhullError\u001b[39m                                Traceback (most recent call last)",
      "\u001b[36mCell\u001b[39m\u001b[36m \u001b[39m\u001b[32mIn[128]\u001b[39m\u001b[32m, line 2\u001b[39m\n\u001b[32m      1\u001b[39m \u001b[38;5;66;03m# Example calculation for results\u001b[39;00m\n\u001b[32m----> \u001b[39m\u001b[32m2\u001b[39m area = \u001b[43mGetArea\u001b[49m\u001b[43m(\u001b[49m\u001b[43mpolyshapes\u001b[49m\u001b[43m[\u001b[49m\u001b[32;43m0\u001b[39;49m\u001b[43m]\u001b[49m\u001b[43m)\u001b[49m\n\u001b[32m      3\u001b[39m CdA = CalculateCdA(area)\n\u001b[32m      4\u001b[39m drag = CalculateDrag(dataset.velocity, CdA)\n",
      "\u001b[36mCell\u001b[39m\u001b[36m \u001b[39m\u001b[32mIn[122]\u001b[39m\u001b[32m, line 2\u001b[39m, in \u001b[36mGetArea\u001b[39m\u001b[34m(polyshape, alpha)\u001b[39m\n\u001b[32m      1\u001b[39m \u001b[38;5;28;01mdef\u001b[39;00m\u001b[38;5;250m \u001b[39m\u001b[34mGetArea\u001b[39m(polyshape, alpha = \u001b[32m0.3\u001b[39m):\n\u001b[32m----> \u001b[39m\u001b[32m2\u001b[39m     alpha_shape = \u001b[43malphashape\u001b[49m\u001b[43m.\u001b[49m\u001b[43malphashape\u001b[49m\u001b[43m(\u001b[49m\u001b[43mpolyshape\u001b[49m\u001b[43m,\u001b[49m\u001b[43m \u001b[49m\u001b[43malpha\u001b[49m\u001b[43m)\u001b[49m\n\u001b[32m      3\u001b[39m     \u001b[38;5;28;01mif\u001b[39;00m \u001b[38;5;28misinstance\u001b[39m(alpha_shape, Polygon):  \u001b[38;5;66;03m# Ensure it's a polygon, not a multipolygon\u001b[39;00m\n\u001b[32m      4\u001b[39m         area = alpha_shape.area\n",
      "\u001b[36mFile \u001b[39m\u001b[32m~/dev_Airformatic/PoseC/mediapipe_env/lib/python3.12/site-packages/alphashape/alphashape.py:153\u001b[39m, in \u001b[36malphashape\u001b[39m\u001b[34m(points, alpha)\u001b[39m\n\u001b[32m    143\u001b[39m \u001b[38;5;66;03m# Create a set to hold unique edges of perimeter simplices.\u001b[39;00m\n\u001b[32m    144\u001b[39m \u001b[38;5;66;03m# Whenever a simplex is found that passes the radius filter, its edges\u001b[39;00m\n\u001b[32m    145\u001b[39m \u001b[38;5;66;03m# will be inspected to see if they already exist in the `edges` set.  If an\u001b[39;00m\n\u001b[32m   (...)\u001b[39m\u001b[32m    149\u001b[39m \u001b[38;5;66;03m# taking advantage of the property of perimeter edges that each edge can\u001b[39;00m\n\u001b[32m    150\u001b[39m \u001b[38;5;66;03m# only exist once.\u001b[39;00m\n\u001b[32m    151\u001b[39m perimeter_edges = \u001b[38;5;28mset\u001b[39m()\n\u001b[32m--> \u001b[39m\u001b[32m153\u001b[39m \u001b[43m\u001b[49m\u001b[38;5;28;43;01mfor\u001b[39;49;00m\u001b[43m \u001b[49m\u001b[43mpoint_indices\u001b[49m\u001b[43m,\u001b[49m\u001b[43m \u001b[49m\u001b[43mcircumradius\u001b[49m\u001b[43m \u001b[49m\u001b[38;5;129;43;01min\u001b[39;49;00m\u001b[43m \u001b[49m\u001b[43malphasimplices\u001b[49m\u001b[43m(\u001b[49m\u001b[43mcoords\u001b[49m\u001b[43m)\u001b[49m\u001b[43m:\u001b[49m\n\u001b[32m    154\u001b[39m \u001b[43m    \u001b[49m\u001b[38;5;28;43;01mif\u001b[39;49;00m\u001b[43m \u001b[49m\u001b[38;5;28;43mcallable\u001b[39;49m\u001b[43m(\u001b[49m\u001b[43malpha\u001b[49m\u001b[43m)\u001b[49m\u001b[43m:\u001b[49m\n\u001b[32m    155\u001b[39m \u001b[43m        \u001b[49m\u001b[43mresolved_alpha\u001b[49m\u001b[43m \u001b[49m\u001b[43m=\u001b[49m\u001b[43m \u001b[49m\u001b[43malpha\u001b[49m\u001b[43m(\u001b[49m\u001b[43mpoint_indices\u001b[49m\u001b[43m,\u001b[49m\u001b[43m \u001b[49m\u001b[43mcircumradius\u001b[49m\u001b[43m)\u001b[49m\n",
      "\u001b[36mFile \u001b[39m\u001b[32m~/dev_Airformatic/PoseC/mediapipe_env/lib/python3.12/site-packages/alphashape/alphashape.py:72\u001b[39m, in \u001b[36malphasimplices\u001b[39m\u001b[34m(points)\u001b[39m\n\u001b[32m     61\u001b[39m \u001b[38;5;250m\u001b[39m\u001b[33;03m\"\"\"\u001b[39;00m\n\u001b[32m     62\u001b[39m \u001b[33;03mReturns an iterator of simplices and their circumradii of the given set of\u001b[39;00m\n\u001b[32m     63\u001b[39m \u001b[33;03mpoints.\u001b[39;00m\n\u001b[32m   (...)\u001b[39m\u001b[32m     69\u001b[39m \u001b[33;03m  A simplex, and its circumradius as a tuple.\u001b[39;00m\n\u001b[32m     70\u001b[39m \u001b[33;03m\"\"\"\u001b[39;00m\n\u001b[32m     71\u001b[39m coords = np.asarray(points)\n\u001b[32m---> \u001b[39m\u001b[32m72\u001b[39m tri = \u001b[43mDelaunay\u001b[49m\u001b[43m(\u001b[49m\u001b[43mcoords\u001b[49m\u001b[43m)\u001b[49m\n\u001b[32m     74\u001b[39m \u001b[38;5;28;01mfor\u001b[39;00m simplex \u001b[38;5;129;01min\u001b[39;00m tri.simplices:\n\u001b[32m     75\u001b[39m     simplex_points = coords[simplex]\n",
      "\u001b[36mFile \u001b[39m\u001b[32m_qhull.pyx:1885\u001b[39m, in \u001b[36mscipy.spatial._qhull.Delaunay.__init__\u001b[39m\u001b[34m()\u001b[39m\n",
      "\u001b[36mFile \u001b[39m\u001b[32m_qhull.pyx:352\u001b[39m, in \u001b[36mscipy.spatial._qhull._Qhull.__init__\u001b[39m\u001b[34m()\u001b[39m\n",
      "\u001b[31mQhullError\u001b[39m: QH6154 Qhull precision error: Initial simplex is flat (facet 1 is coplanar with the interior point)\n\nWhile executing:  | qhull d Qt Qz Qc Q12 Qbb\nOptions selected for Qhull 2019.1.r 2019/06/21:\n  run-id 254511612  delaunay  Qtriangulate  Qz-infinity-point  Qcoplanar-keep\n  Q12-allow-wide  Qbbound-last  _pre-merge  _zero-centrum  Qinterior-keep\n  Pgood  _max-width 1.4  Error-roundoff 2.8e-15  _one-merge 2.6e-14\n  Visible-distance 1.7e-14  U-max-coplanar 1.7e-14  Width-outside 3.4e-14\n  _wide-facet 1e-13  _maxoutside 3.4e-14\n\nprecision problems (corrected unless 'Q0' or an error)\n  12007 zero divisors during gaussian elimination\n\nThe input to qhull appears to be less than 4 dimensional, or a\ncomputation has overflowed.\n\nQhull could not construct a clearly convex simplex from points:\n- p0(v5): -0.12 0.081     0 0.0033\n- p6922(v4):  0.15 -0.0046     0 0.0037\n- p9041(v3): -2.3e-05   1.4     0   1.3\n- p11702(v2):  0.37  0.64     0  0.34\n- p5605(v1): -0.37  0.64     0  0.34\n\nThe center point is coplanar with a facet, or a vertex is coplanar\nwith a neighboring facet.  The maximum round off error for\ncomputing distances is 2.8e-15.  The center point, facets and distances\nto the center point are as follows:\n\ncenter point 0.005499   0.5512        0   0.3935\n\nfacet p6922 p9041 p11702 p5605 distance=    0\nfacet p0 p9041 p11702 p5605 distance=    0\nfacet p0 p6922 p11702 p5605 distance=    0\nfacet p0 p6922 p9041 p5605 distance=    0\nfacet p0 p6922 p9041 p11702 distance=    0\n\nThese points either have a maximum or minimum x-coordinate, or\nthey maximize the determinant for k coordinates.  Trial points\nare first selected from points that maximize a coordinate.\n\nThe min and max coordinates for each dimension are:\n  0:   -0.3675    0.3674  difference= 0.7349\n  1:  -0.00463     1.406  difference= 1.41\n  2:         0         0  difference=    0\n  3:         0     1.406  difference= 1.406\n\nIf the input should be full dimensional, you have several options that\nmay determine an initial simplex:\n  - use 'QJ'  to joggle the input and make it full dimensional\n  - use 'QbB' to scale the points to the unit cube\n  - use 'QR0' to randomly rotate the input for different maximum points\n  - use 'Qs'  to search all points for the initial simplex\n  - use 'En'  to specify a maximum roundoff error less than 2.8e-15.\n  - trace execution with 'T3' to see the determinant for each point.\n\nIf the input is lower dimensional:\n  - use 'QJ' to joggle the input and make it full dimensional\n  - use 'Qbk:0Bk:0' to delete coordinate k from the input.  You should\n    pick the coordinate with the least range.  The hull will have the\n    correct topology.\n  - determine the flat containing the points, rotate the points\n    into a coordinate plane, and delete the other coordinates.\n  - add one or more points to make the input full dimensional.\n"
     ]
    }
   ],
   "source": [
    "# Example calculation for results\n",
    "area = GetArea(polyshapes[0])\n",
    "CdA = CalculateCdA(area)\n",
    "drag = CalculateDrag(dataset.velocity, CdA)\n",
    "rel_power = CalculateRelative(dataset.power, drag)"
   ]
  },
  {
   "cell_type": "markdown",
   "metadata": {},
   "source": [
    "# Realistic optimization"
   ]
  },
  {
   "cell_type": "markdown",
   "metadata": {},
   "source": [
    "It is impossible for the rider to reduce drag to zero, however it is possible for the rider to optimize their posture.\n",
    "To find these moments, we must find the minimum CdA that the rider can realistically achieve based on the calculated losses."
   ]
  },
  {
   "cell_type": "code",
   "execution_count": null,
   "metadata": {},
   "outputs": [],
   "source": [
    "def GetMinimum(cda_results):\n",
    "    return cda_results.min()"
   ]
  },
  {
   "cell_type": "code",
   "execution_count": null,
   "metadata": {},
   "outputs": [],
   "source": [
    "cda_min = GetMinimum(cda_results['CdA'])\n",
    "df = pandas.DataFrame(cda_results['CdA'])\n",
    "df['delta'] = df['CdA'] - cda_min"
   ]
  },
  {
   "cell_type": "markdown",
   "metadata": {},
   "source": [
    "# Visualize"
   ]
  },
  {
   "cell_type": "markdown",
   "metadata": {},
   "source": [
    "To visualize the results, display the calculated params as graphs."
   ]
  },
  {
   "cell_type": "code",
   "execution_count": null,
   "metadata": {},
   "outputs": [],
   "source": []
  },
  {
   "cell_type": "markdown",
   "metadata": {},
   "source": [
    "Visualize the power breakdown as well to illustrate how much of the total power is drag, and how much of that drag can be avoided by improved posture."
   ]
  },
  {
   "cell_type": "code",
   "execution_count": null,
   "metadata": {},
   "outputs": [],
   "source": []
  },
  {
   "cell_type": "code",
   "execution_count": null,
   "metadata": {},
   "outputs": [],
   "source": [
    "#play_video(c_video)\n",
    "#overlay(pose_info)\n",
    "#overlay(polyshape)\n",
    "\n",
    "#draw3D(points3D)\n",
    "#draw3D(polyline)\n",
    "#draw2D(polyshape)\n",
    "\n",
    "#drawLabel(area, CdA, drag, rel_power, dataset.velocity, dataset.power)\n",
    "#drawGraphs(...)"
   ]
  }
 ],
 "metadata": {
  "kernelspec": {
   "display_name": "mediapipe_env",
   "language": "python",
   "name": "python3"
  },
  "language_info": {
   "codemirror_mode": {
    "name": "ipython",
    "version": 3
   },
   "file_extension": ".py",
   "mimetype": "text/x-python",
   "name": "python",
   "nbconvert_exporter": "python",
   "pygments_lexer": "ipython3",
   "version": "3.12.3"
  }
 },
 "nbformat": 4,
 "nbformat_minor": 2
}
