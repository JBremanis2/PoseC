{
 "cells": [
  {
   "cell_type": "code",
   "execution_count": null,
   "id": "65b0a3c2",
   "metadata": {},
   "outputs": [
    {
     "name": "stdout",
     "output_type": "stream",
     "text": [
      "Set joint 163 rotation to [1. 0. 0. 0.]\n"
     ]
    },
    {
     "ename": "TypeError",
     "evalue": "get_accessor_data() missing 1 required positional argument: 'accessor_index'",
     "output_type": "error",
     "traceback": [
      "\u001b[31m---------------------------------------------------------------------------\u001b[39m",
      "\u001b[31mTypeError\u001b[39m                                 Traceback (most recent call last)",
      "\u001b[36mCell\u001b[39m\u001b[36m \u001b[39m\u001b[32mIn[1]\u001b[39m\u001b[32m, line 58\u001b[39m\n\u001b[32m     55\u001b[39m gltf = GLTF2().load(gltf_path)\n\u001b[32m     56\u001b[39m skeleton = SkeletonHelper(gltf)\n\u001b[32m---> \u001b[39m\u001b[32m58\u001b[39m \u001b[43mrotate_joint_360\u001b[49m\u001b[43m(\u001b[49m\u001b[43mskeleton\u001b[49m\u001b[43m,\u001b[49m\u001b[43m \u001b[49m\u001b[43mgltf_path\u001b[49m\u001b[43m,\u001b[49m\u001b[43m \u001b[49m\u001b[43mjoint_name\u001b[49m\u001b[43m=\u001b[49m\u001b[33;43m\"\u001b[39;49m\u001b[33;43mDEF-forearm.L\u001b[39;49m\u001b[33;43m\"\u001b[39;49m\u001b[43m,\u001b[49m\u001b[43m \u001b[49m\u001b[43maxis\u001b[49m\u001b[43m=\u001b[49m\u001b[33;43m'\u001b[39;49m\u001b[33;43mz\u001b[39;49m\u001b[33;43m'\u001b[39;49m\u001b[43m)\u001b[49m\n",
      "\u001b[36mCell\u001b[39m\u001b[36m \u001b[39m\u001b[32mIn[1]\u001b[39m\u001b[32m, line 41\u001b[39m, in \u001b[36mrotate_joint_360\u001b[39m\u001b[34m(skeleton, mesh_name, joint_name, axis, steps)\u001b[39m\n\u001b[32m     38\u001b[39m skeleton.update()\n\u001b[32m     40\u001b[39m \u001b[38;5;66;03m# Apply skinning to update mesh\u001b[39;00m\n\u001b[32m---> \u001b[39m\u001b[32m41\u001b[39m skinned_mesh = \u001b[43mapply_skinning\u001b[49m\u001b[43m(\u001b[49m\u001b[43mskeleton\u001b[49m\u001b[43m)\u001b[49m\n\u001b[32m     43\u001b[39m \u001b[38;5;66;03m# Update scene with the new skinned mesh\u001b[39;00m\n\u001b[32m     44\u001b[39m viewer.scene.clear()\n",
      "\u001b[36mFile \u001b[39m\u001b[32m~/dev_Airformatic/PoseC/SkeletonHelperGLTF.py:414\u001b[39m, in \u001b[36mapply_skinning\u001b[39m\u001b[34m(skeleton)\u001b[39m\n\u001b[32m    411\u001b[39m mesh_node = gltf.nodes[mesh_node_idx]\n\u001b[32m    412\u001b[39m mesh = gltf.meshes[mesh_node.mesh]\n\u001b[32m--> \u001b[39m\u001b[32m414\u001b[39m accessor_data = \u001b[43mget_accessor_data\u001b[49m\u001b[43m(\u001b[49m\u001b[43mgltf\u001b[49m\u001b[43m)\u001b[49m\n\u001b[32m    416\u001b[39m \u001b[38;5;66;03m# Get base vertex positions\u001b[39;00m\n\u001b[32m    417\u001b[39m position_accessor_idx = mesh.primitives[\u001b[32m0\u001b[39m].attributes.POSITION\n",
      "\u001b[31mTypeError\u001b[39m: get_accessor_data() missing 1 required positional argument: 'accessor_index'"
     ]
    }
   ],
   "source": [
    "import numpy as np\n",
    "import math\n",
    "import pyrender\n",
    "import trimesh\n",
    "from pygltflib import GLTF2\n",
    "from transforms3d.quaternions import axangle2quat\n",
    "\n",
    "# Your existing SkeletonHelper class here\n",
    "from SkeletonHelperGLTF import SkeletonHelper, compose_matrix, apply_skinning\n",
    "\n",
    "def load_gltf_mesh_as_trimesh(gltf_path):\n",
    "    \"\"\"Loads the glTF mesh using trimesh for visualization.\"\"\"\n",
    "    scene = trimesh.load(gltf_path, force='scene')\n",
    "    return scene\n",
    "\n",
    "def create_pyrender_scene_from_trimesh(scene):\n",
    "    pyrender_scene = pyrender.Scene()\n",
    "    for geom in scene.geometry.values():\n",
    "        mesh = pyrender.Mesh.from_trimesh(geom)\n",
    "        pyrender_scene.add(mesh)\n",
    "    return pyrender_scene\n",
    "\n",
    "def rotate_joint_360(skeleton: SkeletonHelper, mesh_name, joint_name: str, axis='z', steps=36):\n",
    "    axis_vecs = {\n",
    "        'x': np.array([1, 0, 0]),\n",
    "        'y': np.array([0, 1, 0]),\n",
    "        'z': np.array([0, 0, 1]),\n",
    "    }\n",
    "    axis_vec = axis_vecs.get(axis.lower(), np.array([0, 0, 1]))\n",
    "\n",
    "    viewer = pyrender.Viewer(create_pyrender_scene_from_trimesh(load_gltf_mesh_as_trimesh(mesh_name)),\n",
    "                             run_in_thread=True, use_raymond_lighting=True)\n",
    "\n",
    "    for i in range(steps + 1):\n",
    "        angle_rad = 2 * np.pi * i / steps\n",
    "        quat = axangle2quat(axis_vec, angle_rad)\n",
    "        skeleton.set_joint_rotation_by_name(joint_name, quat)\n",
    "        skeleton.update()\n",
    "\n",
    "        # Apply skinning to update mesh\n",
    "        skinned_mesh = apply_skinning(skeleton, joint_name)\n",
    "\n",
    "        # Update scene with the new skinned mesh\n",
    "        viewer.scene.clear()\n",
    "        mesh = pyrender.Mesh.from_trimesh(skinned_mesh)\n",
    "        viewer.scene.add(mesh)\n",
    "\n",
    "        import time\n",
    "        time.sleep(0.05)  # non-blocking sleep per frame\n",
    "\n",
    "    viewer.close_external()\n",
    "\n",
    "# Example usage\n",
    "gltf_path = \"data/raw/human_base_mesh.glb\"\n",
    "gltf = GLTF2().load(gltf_path)\n",
    "skeleton = SkeletonHelper(gltf)\n",
    "\n",
    "rotate_joint_360(skeleton, gltf_path, joint_name=\"DEF-forearm.L\", axis='z')"
   ]
  }
 ],
 "metadata": {
  "kernelspec": {
   "display_name": "mediapipe_env",
   "language": "python",
   "name": "python3"
  },
  "language_info": {
   "codemirror_mode": {
    "name": "ipython",
    "version": 3
   },
   "file_extension": ".py",
   "mimetype": "text/x-python",
   "name": "python",
   "nbconvert_exporter": "python",
   "pygments_lexer": "ipython3",
   "version": "3.12.3"
  }
 },
 "nbformat": 4,
 "nbformat_minor": 5
}
